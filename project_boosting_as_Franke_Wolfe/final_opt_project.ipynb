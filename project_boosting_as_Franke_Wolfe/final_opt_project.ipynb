{
 "cells": [
  {
   "cell_type": "code",
   "execution_count": 27,
   "id": "0e52a64a",
   "metadata": {},
   "outputs": [],
   "source": [
    "import pandas as pd\n",
    "import numpy as np\n",
    "from sklearn.model_selection import train_test_split\n",
    "from sklearn.tree import DecisionTreeClassifier\n",
    "import math\n",
    "from scipy.optimize import minimize\n",
    "from scipy.spatial import ConvexHull\n",
    "from scipy.linalg import norm\n",
    "from scipy.optimize import minimize_scalar\n",
    "import datetime\n",
    "\n",
    "\n",
    "data = pd.read_csv(\"banana.csv\", sep=',')"
   ]
  },
  {
   "cell_type": "code",
   "execution_count": 28,
   "id": "26c5eb1d",
   "metadata": {},
   "outputs": [],
   "source": [
    "def weak_learner(X, y, w):\n",
    "    # Define and train the weak learner\n",
    "    clf = DecisionTreeClassifier(max_depth=2)\n",
    "    clf.fit(X, y,sample_weight=w)\n",
    "    return clf"
   ]
  },
  {
   "cell_type": "code",
   "execution_count": 29,
   "id": "4ce2b0f1",
   "metadata": {},
   "outputs": [],
   "source": [
    "def encode_hypothesis(hypothesis, num_hypotheses):\n",
    "    encoded_vector = np.zeros(num_hypotheses)\n",
    "    encoded_vector[hypothesis] = 1\n",
    "    return encoded_vector"
   ]
  },
  {
   "cell_type": "code",
   "execution_count": 30,
   "id": "0c09bb22",
   "metadata": {},
   "outputs": [],
   "source": [
    "def delta(d):\n",
    "    m = len(d)\n",
    "    return np.sum(d * np.log(d)) + np.log(m)\n",
    "\n",
    "def expression(d):\n",
    "    return np.dot(d.T, np.dot(A2, w)) + (1/N) * delta(d)\n",
    "\n",
    "def minimize_expression(A2, w_1, N, v):\n",
    "    m = A2.shape[0]  # Numero di righe nella matrice A\n",
    "    P_m_v = np.random.rand(m) / v  # Generazione casuale di d in [0, 1/v]^m (ad esempio)\n",
    "    best_d = None\n",
    "    min_value = float('inf')\n",
    "    for _ in range(m):  # Prova vari valori casuali di d\n",
    "        d = P_m_v / np.sum(P_m_v)  # Normalizza per rispettare Σₖ dₖ¹ = 1\n",
    "        value = expression(d)\n",
    "        \n",
    "        if value < min_value:\n",
    "            min_value = value\n",
    "            best_d = d\n",
    "\n",
    "    return d, best_d"
   ]
  },
  {
   "cell_type": "code",
   "execution_count": 31,
   "id": "984d03f9",
   "metadata": {},
   "outputs": [],
   "source": [
    "def short_step_FW(A2, ej2, w, result):\n",
    "    lamb = []\n",
    "    value_0 = np.dot(A2, (ej2 - w))\n",
    "    value_1 = np.dot(result.T, value_0)\n",
    "    value_2 = np.dot(A2, (ej2 - w))\n",
    "    value_3 = (norm(value_2, ord=np.inf) ** 2) * N\n",
    "    value = value_1 / value_3\n",
    "    lamb.insert(0, np.clip(value, 0, 1))\n",
    "    print(lamb)\n",
    "    w_1= []\n",
    "    r = (ej2 - w)\n",
    "    w_1 = w + (lamb*r)\n",
    "    return w_1"
   ]
  },
  {
   "cell_type": "code",
   "execution_count": 49,
   "id": "872383c1",
   "metadata": {},
   "outputs": [],
   "source": [
    "def pairwise_FW(A, d, E_t):\n",
    "    best_e = None\n",
    "    E_t = E_t_plus_one[:-1]\n",
    "    for e in E_t:\n",
    "        value = expression_f(A, d, e)\n",
    "        if value < best_e:\n",
    "            best_e = value\n",
    "    return best_e\n",
    "def expression_f(A, d, e):\n",
    "    return np.dot(d.T, np.dot(A, e))\n",
    "def step_size(s):\n",
    "    value_0 = (ej_2 - e_away)\n",
    "    value_1 = s(value_0)\n",
    "    value_2 = w + value_1\n",
    "    value_3 = np.dot(-A, value_2)\n",
    "    value = value_3 + (1/N)* delta(result)"
   ]
  },
  {
   "cell_type": "code",
   "execution_count": 32,
   "id": "297bf71c",
   "metadata": {},
   "outputs": [],
   "source": [
    "def secondary_weight(A, d, w):\n",
    "    return np.dot(d.T, np.dot(A, w))\n",
    "\n",
    "def minimize_secondary_weight(A, w):\n",
    "    m = A.shape[0]\n",
    "    best_d = None\n",
    "    min_value = float('inf')\n",
    "\n",
    "    for _ in range(m):\n",
    "        value = secondary_weight(A2, d, w)\n",
    "        if value < min_value:\n",
    "            min_value = value\n",
    "            best_d = d\n",
    "\n",
    "    return best_d, min_value\n",
    "\n",
    "def maximize_w_in_convex_hull(E_t_plus_1, A2, w):\n",
    "    max_value = -float('inf')\n",
    "    max_w = None\n",
    "    for w_candidate in E_t_plus_1:\n",
    "        d, value = minimize_secondary_weight(A2, w_candidate)\n",
    "        if value > max_value:\n",
    "            max_value = value\n",
    "            max_w = w_candidate\n",
    "    return max_w, max_value\n",
    "\n"
   ]
  },
  {
   "cell_type": "code",
   "execution_count": 33,
   "id": "21840e4b",
   "metadata": {},
   "outputs": [],
   "source": [
    "def f(w):\n",
    "    return np.dot(d.T, np.dot(A2, w))\n",
    "def update_weights(f_w):\n",
    "    best_w = None\n",
    "    min_value = float('inf')\n",
    "    s = A2.shape[1]\n",
    "    for c in range(len(f_w)):\n",
    "        for _ in range(s):\n",
    "            value = f(f_w[c])\n",
    "            if value < min_value:\n",
    "                min_value = value\n",
    "                best_w = f_w[c]\n",
    "    return best_w, min_value"
   ]
  },
  {
   "cell_type": "code",
   "execution_count": 34,
   "id": "a224cf08",
   "metadata": {},
   "outputs": [],
   "source": [
    "#Normalizing the variables to values in [-1,1]\n",
    "for col in data.columns:\n",
    "    if col != 'Class':\n",
    "        min_val = data[col].min()\n",
    "        max_val = data[col].max()\n",
    "        data[col] = (data[col] - min_val) / (max_val - min_val)  # Normalize to range 0-1\n",
    "        data[col] = data[col] * 2 - 1  # Rescale to range -1 to 1"
   ]
  },
  {
   "cell_type": "code",
   "execution_count": 35,
   "id": "712478a3",
   "metadata": {},
   "outputs": [],
   "source": [
    "#Data preparation \n",
    "train_data, test_data = train_test_split(data, test_size=0.2, random_state=123)\n",
    "X_train = train_data.drop('Class', axis=1)\n",
    "y_train = train_data['Class']\n",
    "\n",
    "X_test = test_data.drop('Class', axis=1)\n",
    "y_test = test_data['Class']"
   ]
  },
  {
   "cell_type": "code",
   "execution_count": 36,
   "id": "2cf09156",
   "metadata": {},
   "outputs": [
    {
     "data": {
      "text/html": [
       "<div>\n",
       "<style scoped>\n",
       "    .dataframe tbody tr th:only-of-type {\n",
       "        vertical-align: middle;\n",
       "    }\n",
       "\n",
       "    .dataframe tbody tr th {\n",
       "        vertical-align: top;\n",
       "    }\n",
       "\n",
       "    .dataframe thead th {\n",
       "        text-align: right;\n",
       "    }\n",
       "</style>\n",
       "<table border=\"1\" class=\"dataframe\">\n",
       "  <thead>\n",
       "    <tr style=\"text-align: right;\">\n",
       "      <th></th>\n",
       "      <th>At1</th>\n",
       "      <th>At2</th>\n",
       "    </tr>\n",
       "  </thead>\n",
       "  <tbody>\n",
       "    <tr>\n",
       "      <th>3887</th>\n",
       "      <td>0.511864</td>\n",
       "      <td>0.301075</td>\n",
       "    </tr>\n",
       "    <tr>\n",
       "      <th>2852</th>\n",
       "      <td>0.320339</td>\n",
       "      <td>0.290323</td>\n",
       "    </tr>\n",
       "    <tr>\n",
       "      <th>3519</th>\n",
       "      <td>0.545763</td>\n",
       "      <td>-0.878136</td>\n",
       "    </tr>\n",
       "    <tr>\n",
       "      <th>4798</th>\n",
       "      <td>-0.474576</td>\n",
       "      <td>-0.373118</td>\n",
       "    </tr>\n",
       "    <tr>\n",
       "      <th>3176</th>\n",
       "      <td>-0.081695</td>\n",
       "      <td>0.362007</td>\n",
       "    </tr>\n",
       "    <tr>\n",
       "      <th>...</th>\n",
       "      <td>...</td>\n",
       "      <td>...</td>\n",
       "    </tr>\n",
       "    <tr>\n",
       "      <th>5218</th>\n",
       "      <td>0.327458</td>\n",
       "      <td>0.365591</td>\n",
       "    </tr>\n",
       "    <tr>\n",
       "      <th>4060</th>\n",
       "      <td>-0.056271</td>\n",
       "      <td>0.673835</td>\n",
       "    </tr>\n",
       "    <tr>\n",
       "      <th>1346</th>\n",
       "      <td>0.250169</td>\n",
       "      <td>0.030108</td>\n",
       "    </tr>\n",
       "    <tr>\n",
       "      <th>3454</th>\n",
       "      <td>-0.235593</td>\n",
       "      <td>0.097133</td>\n",
       "    </tr>\n",
       "    <tr>\n",
       "      <th>3582</th>\n",
       "      <td>0.053051</td>\n",
       "      <td>-0.372401</td>\n",
       "    </tr>\n",
       "  </tbody>\n",
       "</table>\n",
       "<p>4240 rows × 2 columns</p>\n",
       "</div>"
      ],
      "text/plain": [
       "           At1       At2\n",
       "3887  0.511864  0.301075\n",
       "2852  0.320339  0.290323\n",
       "3519  0.545763 -0.878136\n",
       "4798 -0.474576 -0.373118\n",
       "3176 -0.081695  0.362007\n",
       "...        ...       ...\n",
       "5218  0.327458  0.365591\n",
       "4060 -0.056271  0.673835\n",
       "1346  0.250169  0.030108\n",
       "3454 -0.235593  0.097133\n",
       "3582  0.053051 -0.372401\n",
       "\n",
       "[4240 rows x 2 columns]"
      ]
     },
     "execution_count": 36,
     "metadata": {},
     "output_type": "execute_result"
    }
   ],
   "source": [
    "X_train"
   ]
  },
  {
   "cell_type": "code",
   "execution_count": 37,
   "id": "7f0ca710",
   "metadata": {},
   "outputs": [
    {
     "name": "stdout",
     "output_type": "stream",
     "text": [
      "Matrice di regole di decisione:\n",
      "[[ 0.07150538]\n",
      " [-0.44767025]\n",
      " [-2.        ]\n",
      " [-2.        ]\n",
      " [ 0.5440678 ]\n",
      " [-2.        ]\n",
      " [-2.        ]]\n"
     ]
    }
   ],
   "source": [
    "# create the decision tree\n",
    "tree = DecisionTreeClassifier(max_depth=2)\n",
    "tree.fit(X_train, y_train)\n",
    "\n",
    "# obtain the hypothesis space hj_0\n",
    "regole_matrice = tree.tree_.threshold.reshape(-1, 1)\n",
    "\n",
    "# Stampa la matrice di regole di decisione\n",
    "print(\"Matrice di regole di decisione:\")\n",
    "print(regole_matrice)"
   ]
  },
  {
   "cell_type": "code",
   "execution_count": 38,
   "id": "f3cdf8a6",
   "metadata": {},
   "outputs": [
    {
     "name": "stdout",
     "output_type": "stream",
     "text": [
      "Previsioni totali:\n",
      "[[-1.  1.  1. ... -1. -1.  1.]\n",
      " [-1.  1.  1. ... -1. -1.  1.]\n",
      " [-1. -1.  1. ... -1. -1.  1.]\n",
      " ...\n",
      " [-1.  1. -1. ...  1.  1. -1.]\n",
      " [-1.  1. -1. ...  1.  1. -1.]\n",
      " [-1. -1.  1. ...  1. -1.  1.]]\n"
     ]
    },
    {
     "name": "stderr",
     "output_type": "stream",
     "text": [
      "C:\\Users\\matteo posenato\\anaconda3\\lib\\site-packages\\sklearn\\base.py:439: UserWarning: X does not have valid feature names, but DecisionTreeClassifier was fitted with feature names\n",
      "  warnings.warn(\n",
      "C:\\Users\\matteo posenato\\anaconda3\\lib\\site-packages\\sklearn\\base.py:439: UserWarning: X does not have valid feature names, but DecisionTreeClassifier was fitted with feature names\n",
      "  warnings.warn(\n",
      "C:\\Users\\matteo posenato\\anaconda3\\lib\\site-packages\\sklearn\\base.py:439: UserWarning: X does not have valid feature names, but DecisionTreeClassifier was fitted with feature names\n",
      "  warnings.warn(\n",
      "C:\\Users\\matteo posenato\\anaconda3\\lib\\site-packages\\sklearn\\base.py:439: UserWarning: X does not have valid feature names, but DecisionTreeClassifier was fitted with feature names\n",
      "  warnings.warn(\n",
      "C:\\Users\\matteo posenato\\anaconda3\\lib\\site-packages\\sklearn\\base.py:439: UserWarning: X does not have valid feature names, but DecisionTreeClassifier was fitted with feature names\n",
      "  warnings.warn(\n",
      "C:\\Users\\matteo posenato\\anaconda3\\lib\\site-packages\\sklearn\\base.py:439: UserWarning: X does not have valid feature names, but DecisionTreeClassifier was fitted with feature names\n",
      "  warnings.warn(\n",
      "C:\\Users\\matteo posenato\\anaconda3\\lib\\site-packages\\sklearn\\base.py:439: UserWarning: X does not have valid feature names, but DecisionTreeClassifier was fitted with feature names\n",
      "  warnings.warn(\n"
     ]
    }
   ],
   "source": [
    "X_train_array = X_train.values\n",
    "n_righe = X_train.shape[0]\n",
    "\n",
    "# Numero di regole\n",
    "n_regole = len(regole_matrice)\n",
    "\n",
    "# Matrice per memorizzare le previsioni per ogni riga e regola\n",
    "previsioni_totali = np.zeros((n_righe, n_regole))\n",
    "\n",
    "# Calcola le previsioni per ciascuna riga e ciascuna regola\n",
    "for i in range(n_regole):\n",
    "    previsioni_totali[:, i] = y_train[i] * (weak_classifier.predict(X_train_array * regole_matrice[i]))\n",
    "\n",
    "print(\"Previsioni totali:\")\n",
    "print(previsioni_totali)\n"
   ]
  },
  {
   "cell_type": "code",
   "execution_count": 39,
   "id": "6f50ffc9",
   "metadata": {},
   "outputs": [
    {
     "name": "stdout",
     "output_type": "stream",
     "text": [
      "        0    1    2    3    4    5    6\n",
      "0    -1.0  1.0  1.0 -1.0 -1.0 -1.0  1.0\n",
      "1    -1.0  1.0  1.0 -1.0 -1.0 -1.0  1.0\n",
      "2    -1.0 -1.0  1.0 -1.0 -1.0 -1.0  1.0\n",
      "3    -1.0 -1.0 -1.0  1.0  1.0  1.0 -1.0\n",
      "4    -1.0  1.0  1.0 -1.0 -1.0 -1.0  1.0\n",
      "...   ...  ...  ...  ...  ...  ...  ...\n",
      "4235 -1.0  1.0  1.0 -1.0 -1.0 -1.0  1.0\n",
      "4236 -1.0  1.0  1.0 -1.0 -1.0 -1.0  1.0\n",
      "4237 -1.0  1.0 -1.0  1.0  1.0  1.0 -1.0\n",
      "4238 -1.0  1.0 -1.0  1.0  1.0  1.0 -1.0\n",
      "4239 -1.0 -1.0  1.0 -1.0  1.0 -1.0  1.0\n",
      "\n",
      "[4240 rows x 7 columns]\n"
     ]
    }
   ],
   "source": [
    "previsioni_totali = pd.DataFrame(previsioni_totali)\n",
    "A2 = previsioni_totali\n",
    "print(A2)"
   ]
  },
  {
   "cell_type": "code",
   "execution_count": 40,
   "id": "721daba9",
   "metadata": {},
   "outputs": [
    {
     "name": "stdout",
     "output_type": "stream",
     "text": [
      "Predictions: [-1 -1 -1 ... -1  1 -1]\n"
     ]
    }
   ],
   "source": [
    "#Train the weak learner : decision tree of max depth 2 \n",
    "weak_classifier = weak_learner(X_train, y_train,1)\n",
    "y_pred_weak = weak_classifier.predict(X_test)\n",
    "print(\"Predictions:\", y_pred_weak)"
   ]
  },
  {
   "cell_type": "code",
   "execution_count": 95,
   "id": "f25a4c81",
   "metadata": {},
   "outputs": [
    {
     "name": "stdout",
     "output_type": "stream",
     "text": [
      "[[ 0.07150538]\n",
      " [-0.44767025]\n",
      " [-2.        ]\n",
      " [-2.        ]\n",
      " [ 0.5440678 ]\n",
      " [-2.        ]\n",
      " [-2.        ]]\n"
     ]
    }
   ],
   "source": [
    "\n"
   ]
  },
  {
   "cell_type": "code",
   "execution_count": 13,
   "id": "5cc375b4",
   "metadata": {},
   "outputs": [],
   "source": [
    "def give_the_max_edge_h(h):\n",
    "    max_error = -1  # Inizializza l'errore massimo\n",
    "    max_error_hypothesis = None\n",
    "\n",
    "    for i, hypothesis in enumerate(h):\n",
    "        for row in A2:\n",
    "    # Calcola l'errore di classificazione per la riga corrente\n",
    "            error = np.sum(np.abs(row - hypothesis))\n",
    "            if error > max_error:\n",
    "                max_error = error\n",
    "                max_error_hypothesis = hypothesis\n",
    "                max_error_hypothesis_index = i\n",
    "    return max_error_hypothesis_index\n"
   ]
  },
  {
   "cell_type": "code",
   "execution_count": 41,
   "id": "79d11c1e",
   "metadata": {},
   "outputs": [
    {
     "ename": "NameError",
     "evalue": "name 'max_error_hypothesis' is not defined",
     "output_type": "error",
     "traceback": [
      "\u001b[1;31m---------------------------------------------------------------------------\u001b[0m",
      "\u001b[1;31mNameError\u001b[0m                                 Traceback (most recent call last)",
      "Cell \u001b[1;32mIn[41], line 1\u001b[0m\n\u001b[1;32m----> 1\u001b[0m \u001b[38;5;28mprint\u001b[39m(\u001b[38;5;124m\"\u001b[39m\u001b[38;5;124mMax-edge hypothesis:\u001b[39m\u001b[38;5;124m\"\u001b[39m, \u001b[43mmax_error_hypothesis\u001b[49m)\n\u001b[0;32m      2\u001b[0m \u001b[38;5;28mprint\u001b[39m(\u001b[38;5;124m\"\u001b[39m\u001b[38;5;124mErrore massimo:\u001b[39m\u001b[38;5;124m\"\u001b[39m, max_error)\n\u001b[0;32m      3\u001b[0m \u001b[38;5;28mprint\u001b[39m(max_error_hypothesis_index)\n",
      "\u001b[1;31mNameError\u001b[0m: name 'max_error_hypothesis' is not defined"
     ]
    }
   ],
   "source": [
    "\n",
    "print(\"Max-edge hypothesis:\", max_error_hypothesis)\n",
    "print(\"Errore massimo:\", max_error)\n",
    "print(max_error_hypothesis_index)"
   ]
  },
  {
   "cell_type": "code",
   "execution_count": 43,
   "id": "61e32bc5",
   "metadata": {},
   "outputs": [],
   "source": [
    "hj_1_index = np.argmax(regole_matrice)  # Find the index of the predicted hypothesis\n",
    "num_hypotheses = len(regole_matrice) # Total number of hypotheses in the set H\n",
    "ej1 = encode_hypothesis(hj_1_index, num_hypotheses)"
   ]
  },
  {
   "cell_type": "code",
   "execution_count": 44,
   "id": "1ef06eb7",
   "metadata": {},
   "outputs": [],
   "source": [
    "m = A2.shape[0]"
   ]
  },
  {
   "cell_type": "code",
   "execution_count": 45,
   "id": "568fe1dc",
   "metadata": {},
   "outputs": [
    {
     "data": {
      "text/plain": [
       "4240"
      ]
     },
     "execution_count": 45,
     "metadata": {},
     "output_type": "execute_result"
    }
   ],
   "source": [
    "m"
   ]
  },
  {
   "cell_type": "code",
   "execution_count": 46,
   "id": "14da85ef",
   "metadata": {},
   "outputs": [],
   "source": [
    "w = np.zeros(m,)\n",
    "w=ej1"
   ]
  },
  {
   "cell_type": "code",
   "execution_count": 25,
   "id": "cd9dc08b",
   "metadata": {},
   "outputs": [
    {
     "data": {
      "text/plain": [
       "array([0.       , 0.       , 0.       , 0.       , 0.5440678, 0.       ,\n",
       "       0.       ])"
      ]
     },
     "execution_count": 25,
     "metadata": {},
     "output_type": "execute_result"
    }
   ],
   "source": [
    "w"
   ]
  },
  {
   "cell_type": "code",
   "execution_count": 40,
   "id": "a97dd45a",
   "metadata": {},
   "outputs": [],
   "source": [
    "v = 100\n",
    "\n",
    "d, result = minimize_expression(A2, w, n, v)"
   ]
  },
  {
   "cell_type": "code",
   "execution_count": 41,
   "id": "81d30eae",
   "metadata": {},
   "outputs": [],
   "source": [
    "#obtain the hypotesis hj t+1 \n",
    "h2= weak_learner(X_train,y_train,result)\n",
    "hj_2 = h2.tree_.threshold.reshape(-1, 1)"
   ]
  },
  {
   "cell_type": "code",
   "execution_count": 42,
   "id": "cd07712c",
   "metadata": {},
   "outputs": [],
   "source": [
    "hj_2_index = np.argmax(hj_2)  # Find the index of the predicted hypothesis\n",
    "num_hypotheses = len(hj_2)  # Total number of hypotheses in the set H\n",
    "\n",
    "ej2 = encode_hypothesis(hj_2_index, num_hypotheses, hj_2)"
   ]
  },
  {
   "cell_type": "code",
   "execution_count": 43,
   "id": "d355c0df",
   "metadata": {},
   "outputs": [
    {
     "name": "stdout",
     "output_type": "stream",
     "text": [
      "[[ 0.07150538]\n",
      " [-0.44767025]\n",
      " [-2.        ]\n",
      " [-2.        ]\n",
      " [ 0.5440678 ]\n",
      " [-2.        ]\n",
      " [-2.        ]]\n",
      "[[ 0.08297491]\n",
      " [-0.44713262]\n",
      " [-2.        ]\n",
      " [-2.        ]\n",
      " [ 0.49322033]\n",
      " [-2.        ]\n",
      " [-2.        ]]\n",
      "[0.        0.        0.        0.        0.5440678 0.        0.       ]\n",
      "[0.         0.         0.         0.         0.49322033 0.\n",
      " 0.        ]\n"
     ]
    }
   ],
   "source": [
    "print(hj_1)\n",
    "print(hj_2)\n",
    "print(ej1)\n",
    "print(ej2)"
   ]
  },
  {
   "cell_type": "code",
   "execution_count": 44,
   "id": "c5683651",
   "metadata": {},
   "outputs": [],
   "source": [
    "E_t_plus_1 = [ej1, ej2]"
   ]
  },
  {
   "cell_type": "code",
   "execution_count": 53,
   "id": "aa22c3e5",
   "metadata": {},
   "outputs": [
    {
     "name": "stdout",
     "output_type": "stream",
     "text": [
      "[4.01733560e-04 2.29861394e-04 3.32219727e-04 ... 5.25071875e-05\n",
      " 9.86787832e-05 3.94788196e-04]\n"
     ]
    }
   ],
   "source": [
    "print(result)"
   ]
  },
  {
   "cell_type": "code",
   "execution_count": 61,
   "id": "e505efe1",
   "metadata": {},
   "outputs": [
    {
     "name": "stdout",
     "output_type": "stream",
     "text": [
      "<class 'pandas.core.frame.DataFrame'>\n"
     ]
    },
    {
     "ename": "IndexError",
     "evalue": "index 7 is out of bounds for axis 0 with size 7",
     "output_type": "error",
     "traceback": [
      "\u001b[1;31m---------------------------------------------------------------------------\u001b[0m",
      "\u001b[1;31mIndexError\u001b[0m                                Traceback (most recent call last)",
      "File \u001b[1;32m~\\anaconda3\\lib\\site-packages\\pandas\\core\\indexes\\range.py:966\u001b[0m, in \u001b[0;36mRangeIndex.__getitem__\u001b[1;34m(self, key)\u001b[0m\n\u001b[0;32m    965\u001b[0m \u001b[38;5;28;01mtry\u001b[39;00m:\n\u001b[1;32m--> 966\u001b[0m     \u001b[38;5;28;01mreturn\u001b[39;00m \u001b[38;5;28;43mself\u001b[39;49m\u001b[38;5;241;43m.\u001b[39;49m\u001b[43m_range\u001b[49m\u001b[43m[\u001b[49m\u001b[43mnew_key\u001b[49m\u001b[43m]\u001b[49m\n\u001b[0;32m    967\u001b[0m \u001b[38;5;28;01mexcept\u001b[39;00m \u001b[38;5;167;01mIndexError\u001b[39;00m \u001b[38;5;28;01mas\u001b[39;00m err:\n",
      "\u001b[1;31mIndexError\u001b[0m: range object index out of range",
      "\nThe above exception was the direct cause of the following exception:\n",
      "\u001b[1;31mIndexError\u001b[0m                                Traceback (most recent call last)",
      "Cell \u001b[1;32mIn[61], line 4\u001b[0m\n\u001b[0;32m      2\u001b[0m min_index \u001b[38;5;241m=\u001b[39m \u001b[38;5;28;01mNone\u001b[39;00m\n\u001b[0;32m      3\u001b[0m \u001b[38;5;28mprint\u001b[39m(\u001b[38;5;28mtype\u001b[39m(A2))\n\u001b[1;32m----> 4\u001b[0m val_1 \u001b[38;5;241m=\u001b[39m np\u001b[38;5;241m.\u001b[39mmin([np\u001b[38;5;241m.\u001b[39mdot(result,A2[A2\u001b[38;5;241m.\u001b[39mcolumns[tau]]) \u001b[38;5;28;01mfor\u001b[39;00m tau \u001b[38;5;129;01min\u001b[39;00m \u001b[38;5;28mrange\u001b[39m(t)])\n\u001b[0;32m      5\u001b[0m val_2 \u001b[38;5;241m=\u001b[39m expression(d)\n\u001b[0;32m      6\u001b[0m \u001b[38;5;28mprint\u001b[39m(val_1)\n",
      "Cell \u001b[1;32mIn[61], line 4\u001b[0m, in \u001b[0;36m<listcomp>\u001b[1;34m(.0)\u001b[0m\n\u001b[0;32m      2\u001b[0m min_index \u001b[38;5;241m=\u001b[39m \u001b[38;5;28;01mNone\u001b[39;00m\n\u001b[0;32m      3\u001b[0m \u001b[38;5;28mprint\u001b[39m(\u001b[38;5;28mtype\u001b[39m(A2))\n\u001b[1;32m----> 4\u001b[0m val_1 \u001b[38;5;241m=\u001b[39m np\u001b[38;5;241m.\u001b[39mmin([np\u001b[38;5;241m.\u001b[39mdot(result,A2[\u001b[43mA2\u001b[49m\u001b[38;5;241;43m.\u001b[39;49m\u001b[43mcolumns\u001b[49m\u001b[43m[\u001b[49m\u001b[43mtau\u001b[49m\u001b[43m]\u001b[49m]) \u001b[38;5;28;01mfor\u001b[39;00m tau \u001b[38;5;129;01min\u001b[39;00m \u001b[38;5;28mrange\u001b[39m(t)])\n\u001b[0;32m      5\u001b[0m val_2 \u001b[38;5;241m=\u001b[39m expression(d)\n\u001b[0;32m      6\u001b[0m \u001b[38;5;28mprint\u001b[39m(val_1)\n",
      "File \u001b[1;32m~\\anaconda3\\lib\\site-packages\\pandas\\core\\indexes\\range.py:968\u001b[0m, in \u001b[0;36mRangeIndex.__getitem__\u001b[1;34m(self, key)\u001b[0m\n\u001b[0;32m    966\u001b[0m         \u001b[38;5;28;01mreturn\u001b[39;00m \u001b[38;5;28mself\u001b[39m\u001b[38;5;241m.\u001b[39m_range[new_key]\n\u001b[0;32m    967\u001b[0m     \u001b[38;5;28;01mexcept\u001b[39;00m \u001b[38;5;167;01mIndexError\u001b[39;00m \u001b[38;5;28;01mas\u001b[39;00m err:\n\u001b[1;32m--> 968\u001b[0m         \u001b[38;5;28;01mraise\u001b[39;00m \u001b[38;5;167;01mIndexError\u001b[39;00m(\n\u001b[0;32m    969\u001b[0m             \u001b[38;5;124mf\u001b[39m\u001b[38;5;124m\"\u001b[39m\u001b[38;5;124mindex \u001b[39m\u001b[38;5;132;01m{\u001b[39;00mkey\u001b[38;5;132;01m}\u001b[39;00m\u001b[38;5;124m is out of bounds for axis 0 with size \u001b[39m\u001b[38;5;132;01m{\u001b[39;00m\u001b[38;5;28mlen\u001b[39m(\u001b[38;5;28mself\u001b[39m)\u001b[38;5;132;01m}\u001b[39;00m\u001b[38;5;124m\"\u001b[39m\n\u001b[0;32m    970\u001b[0m         ) \u001b[38;5;28;01mfrom\u001b[39;00m \u001b[38;5;21;01merr\u001b[39;00m\n\u001b[0;32m    971\u001b[0m \u001b[38;5;28;01melif\u001b[39;00m is_scalar(key):\n\u001b[0;32m    972\u001b[0m     \u001b[38;5;28;01mraise\u001b[39;00m \u001b[38;5;167;01mIndexError\u001b[39;00m(\n\u001b[0;32m    973\u001b[0m         \u001b[38;5;124m\"\u001b[39m\u001b[38;5;124monly integers, slices (`:`), \u001b[39m\u001b[38;5;124m\"\u001b[39m\n\u001b[0;32m    974\u001b[0m         \u001b[38;5;124m\"\u001b[39m\u001b[38;5;124mellipsis (`...`), numpy.newaxis (`None`) \u001b[39m\u001b[38;5;124m\"\u001b[39m\n\u001b[0;32m    975\u001b[0m         \u001b[38;5;124m\"\u001b[39m\u001b[38;5;124mand integer or boolean \u001b[39m\u001b[38;5;124m\"\u001b[39m\n\u001b[0;32m    976\u001b[0m         \u001b[38;5;124m\"\u001b[39m\u001b[38;5;124marrays are valid indices\u001b[39m\u001b[38;5;124m\"\u001b[39m\n\u001b[0;32m    977\u001b[0m     )\n",
      "\u001b[1;31mIndexError\u001b[0m: index 7 is out of bounds for axis 0 with size 7"
     ]
    }
   ],
   "source": [
    "min_value= -1\n",
    "min_index = None\n",
    "print(type(A2))\n",
    "val_1 = np.min([np.dot(result,A2) for tau in range(t)])\n",
    "val_2 = expression(d)\n",
    "print(val_1)\n"
   ]
  },
  {
   "cell_type": "code",
   "execution_count": null,
   "id": "842c6386",
   "metadata": {},
   "outputs": [],
   "source": [
    "#compute the FW weight\n",
    "lamb= []\n",
    "value_0 = np.dot(A2, (ej2-w))\n",
    "print(\"value0 is: {}\".format(value_0))\n",
    "value_1 = np.dot(result.T, value_0)\n",
    "print(\"value1 is: {}\".format(value_1))\n",
    "value_2 = np.dot(A2, (ej2 - w))\n",
    "print(\"value2 is: {}\".format(value_2))\n",
    "value_3 = norm(value_2, ord=np.inf)\n",
    "print(\"value3 is: {}\".format(value_3))\n",
    "value = value_1 / value_3\n",
    "print(\"value is: {}\".format(value))\n",
    "lamb.insert(0, np.clip(value, 0, 1))\n",
    "print(\"lamb is: {}\".format(lamb))\n",
    "w_1= []\n",
    "r = (ej2 - w)\n",
    "print(\"r is: {}\".format(r))\n",
    "w_1 = w + (lamb*r)\n",
    "print(\"w_1 is: {}\".format(w_1))"
   ]
  },
  {
   "cell_type": "code",
   "execution_count": null,
   "id": "ce73e091",
   "metadata": {},
   "outputs": [],
   "source": [
    "result_w, result_value = maximize_w_in_convex_hull(E_t_plus_1, A2, w)\n",
    "print(\"Vettore w ottimale:\", result_w)\n",
    "print(\"Valore massimo:\", result_value)"
   ]
  },
  {
   "cell_type": "code",
   "execution_count": null,
   "id": "198754b8",
   "metadata": {},
   "outputs": [],
   "source": [
    "w_2 = result_w\n",
    "f_w = []\n",
    "f_w.insert(0, w_1)\n",
    "f_w.insert(1, w_2)\n",
    "f_w = [array.tolist() for array in f_w]"
   ]
  },
  {
   "cell_type": "code",
   "execution_count": null,
   "id": "a33ffa20",
   "metadata": {},
   "outputs": [],
   "source": [
    "best_w, v = update_weights(f_w)"
   ]
  },
  {
   "cell_type": "code",
   "execution_count": null,
   "id": "ed30830a",
   "metadata": {},
   "outputs": [],
   "source": [
    "best_w"
   ]
  },
  {
   "cell_type": "code",
   "execution_count": 48,
   "id": "468d76b3",
   "metadata": {},
   "outputs": [
    {
     "name": "stdout",
     "output_type": "stream",
     "text": [
      "iteration number:1\n",
      "Iterazione 1 avviata il 2023-08-22 12:57:06.457976\n",
      "0.52598653084278\n",
      "[nan]\n",
      "The FW weight is: [nan nan nan nan nan nan nan]\n"
     ]
    },
    {
     "name": "stderr",
     "output_type": "stream",
     "text": [
      "C:\\Users\\matteo posenato\\AppData\\Local\\Temp\\ipykernel_9100\\1514477971.py:7: RuntimeWarning: invalid value encountered in scalar divide\n",
      "  value = value_1 / value_3\n"
     ]
    },
    {
     "name": "stdout",
     "output_type": "stream",
     "text": [
      "The secondary weight is[0. 0. 0. 0. 1. 0. 0.]\n",
      "[array([nan, nan, nan, nan, nan, nan, nan]), array([0., 0., 0., 0., 1., 0., 0.])]\n",
      "iteration number:2\n",
      "Iterazione 2 avviata il 2023-08-22 12:57:08.335643\n",
      "0.5188281400064831\n",
      "[nan]\n",
      "The FW weight is: [nan nan nan nan nan nan nan]\n"
     ]
    },
    {
     "name": "stderr",
     "output_type": "stream",
     "text": [
      "C:\\Users\\matteo posenato\\AppData\\Local\\Temp\\ipykernel_9100\\1514477971.py:7: RuntimeWarning: invalid value encountered in scalar divide\n",
      "  value = value_1 / value_3\n"
     ]
    },
    {
     "name": "stdout",
     "output_type": "stream",
     "text": [
      "The secondary weight is[0. 0. 0. 0. 1. 0. 0.]\n",
      "[array([nan, nan, nan, nan, nan, nan, nan]), array([0., 0., 0., 0., 1., 0., 0.])]\n",
      "iteration number:3\n",
      "Iterazione 3 avviata il 2023-08-22 12:57:10.304354\n",
      "0.5126044736925102\n",
      "[nan]\n",
      "The FW weight is: [nan nan nan nan nan nan nan]\n"
     ]
    },
    {
     "name": "stderr",
     "output_type": "stream",
     "text": [
      "C:\\Users\\matteo posenato\\AppData\\Local\\Temp\\ipykernel_9100\\1514477971.py:7: RuntimeWarning: invalid value encountered in scalar divide\n",
      "  value = value_1 / value_3\n"
     ]
    },
    {
     "name": "stdout",
     "output_type": "stream",
     "text": [
      "The secondary weight is[0. 0. 0. 0. 1. 0. 0.]\n",
      "[array([nan, nan, nan, nan, nan, nan, nan]), array([0., 0., 0., 0., 1., 0., 0.])]\n",
      "iteration number:4\n",
      "Iterazione 4 avviata il 2023-08-22 12:57:12.400945\n",
      "0.5126044736925102\n",
      "[nan]\n",
      "The FW weight is: [nan nan nan nan nan nan nan]\n"
     ]
    },
    {
     "name": "stderr",
     "output_type": "stream",
     "text": [
      "C:\\Users\\matteo posenato\\AppData\\Local\\Temp\\ipykernel_9100\\1514477971.py:7: RuntimeWarning: invalid value encountered in scalar divide\n",
      "  value = value_1 / value_3\n"
     ]
    },
    {
     "name": "stdout",
     "output_type": "stream",
     "text": [
      "The secondary weight is[0. 0. 0. 0. 1. 0. 0.]\n",
      "[array([nan, nan, nan, nan, nan, nan, nan]), array([0., 0., 0., 0., 1., 0., 0.])]\n",
      "iteration number:5\n",
      "Iterazione 5 avviata il 2023-08-22 12:57:14.913788\n",
      "0.5126044736925102\n",
      "[nan]\n",
      "The FW weight is: [nan nan nan nan nan nan nan]\n"
     ]
    },
    {
     "name": "stderr",
     "output_type": "stream",
     "text": [
      "C:\\Users\\matteo posenato\\AppData\\Local\\Temp\\ipykernel_9100\\1514477971.py:7: RuntimeWarning: invalid value encountered in scalar divide\n",
      "  value = value_1 / value_3\n"
     ]
    },
    {
     "name": "stdout",
     "output_type": "stream",
     "text": [
      "The secondary weight is[0. 0. 0. 0. 1. 0. 0.]\n",
      "[array([nan, nan, nan, nan, nan, nan, nan]), array([0., 0., 0., 0., 1., 0., 0.])]\n",
      "iteration number:6\n",
      "Iterazione 6 avviata il 2023-08-22 12:57:17.221517\n",
      "0.5126044736925102\n",
      "[nan]\n",
      "The FW weight is: [nan nan nan nan nan nan nan]\n"
     ]
    },
    {
     "name": "stderr",
     "output_type": "stream",
     "text": [
      "C:\\Users\\matteo posenato\\AppData\\Local\\Temp\\ipykernel_9100\\1514477971.py:7: RuntimeWarning: invalid value encountered in scalar divide\n",
      "  value = value_1 / value_3\n"
     ]
    },
    {
     "name": "stdout",
     "output_type": "stream",
     "text": [
      "The secondary weight is[0. 0. 0. 0. 1. 0. 0.]\n",
      "[array([nan, nan, nan, nan, nan, nan, nan]), array([0., 0., 0., 0., 1., 0., 0.])]\n",
      "iteration number:7\n",
      "Iterazione 7 avviata il 2023-08-22 12:57:19.759966\n",
      "0.5126044736925102\n",
      "[nan]\n",
      "The FW weight is: [nan nan nan nan nan nan nan]\n"
     ]
    },
    {
     "name": "stderr",
     "output_type": "stream",
     "text": [
      "C:\\Users\\matteo posenato\\AppData\\Local\\Temp\\ipykernel_9100\\1514477971.py:7: RuntimeWarning: invalid value encountered in scalar divide\n",
      "  value = value_1 / value_3\n"
     ]
    },
    {
     "name": "stdout",
     "output_type": "stream",
     "text": [
      "The secondary weight is[0. 0. 0. 0. 1. 0. 0.]\n",
      "[array([nan, nan, nan, nan, nan, nan, nan]), array([0., 0., 0., 0., 1., 0., 0.])]\n",
      "iteration number:8\n",
      "Iterazione 8 avviata il 2023-08-22 12:57:23.141574\n",
      "0.5126044736925102\n",
      "[nan]\n",
      "The FW weight is: [nan nan nan nan nan nan nan]\n"
     ]
    },
    {
     "name": "stderr",
     "output_type": "stream",
     "text": [
      "C:\\Users\\matteo posenato\\AppData\\Local\\Temp\\ipykernel_9100\\1514477971.py:7: RuntimeWarning: invalid value encountered in scalar divide\n",
      "  value = value_1 / value_3\n"
     ]
    },
    {
     "name": "stdout",
     "output_type": "stream",
     "text": [
      "The secondary weight is[0. 0. 0. 0. 1. 0. 0.]\n",
      "[array([nan, nan, nan, nan, nan, nan, nan]), array([0., 0., 0., 0., 1., 0., 0.])]\n",
      "iteration number:9\n",
      "Iterazione 9 avviata il 2023-08-22 12:57:26.797359\n",
      "0.5126044736925102\n",
      "[nan]\n",
      "The FW weight is: [nan nan nan nan nan nan nan]\n"
     ]
    },
    {
     "name": "stderr",
     "output_type": "stream",
     "text": [
      "C:\\Users\\matteo posenato\\AppData\\Local\\Temp\\ipykernel_9100\\1514477971.py:7: RuntimeWarning: invalid value encountered in scalar divide\n",
      "  value = value_1 / value_3\n"
     ]
    },
    {
     "name": "stdout",
     "output_type": "stream",
     "text": [
      "The secondary weight is[0. 0. 0. 0. 1. 0. 0.]\n",
      "[array([nan, nan, nan, nan, nan, nan, nan]), array([0., 0., 0., 0., 1., 0., 0.])]\n",
      "iteration number:10\n",
      "Iterazione 10 avviata il 2023-08-22 12:57:30.486261\n",
      "0.5126044736925102\n",
      "[nan]\n",
      "The FW weight is: [nan nan nan nan nan nan nan]\n"
     ]
    },
    {
     "name": "stderr",
     "output_type": "stream",
     "text": [
      "C:\\Users\\matteo posenato\\AppData\\Local\\Temp\\ipykernel_9100\\1514477971.py:7: RuntimeWarning: invalid value encountered in scalar divide\n",
      "  value = value_1 / value_3\n"
     ]
    },
    {
     "name": "stdout",
     "output_type": "stream",
     "text": [
      "The secondary weight is[0. 0. 0. 0. 1. 0. 0.]\n",
      "[array([nan, nan, nan, nan, nan, nan, nan]), array([0., 0., 0., 0., 1., 0., 0.])]\n",
      "iteration number:11\n",
      "Iterazione 11 avviata il 2023-08-22 12:57:34.490959\n",
      "0.5126044736925102\n",
      "[nan]\n",
      "The FW weight is: [nan nan nan nan nan nan nan]\n"
     ]
    },
    {
     "name": "stderr",
     "output_type": "stream",
     "text": [
      "C:\\Users\\matteo posenato\\AppData\\Local\\Temp\\ipykernel_9100\\1514477971.py:7: RuntimeWarning: invalid value encountered in scalar divide\n",
      "  value = value_1 / value_3\n"
     ]
    },
    {
     "name": "stdout",
     "output_type": "stream",
     "text": [
      "The secondary weight is[0. 0. 0. 0. 1. 0. 0.]\n",
      "[array([nan, nan, nan, nan, nan, nan, nan]), array([0., 0., 0., 0., 1., 0., 0.])]\n",
      "iteration number:12\n",
      "Iterazione 12 avviata il 2023-08-22 12:57:39.113643\n",
      "0.5074134066166187\n",
      "[nan]\n",
      "The FW weight is: [nan nan nan nan nan nan nan]\n"
     ]
    },
    {
     "name": "stderr",
     "output_type": "stream",
     "text": [
      "C:\\Users\\matteo posenato\\AppData\\Local\\Temp\\ipykernel_9100\\1514477971.py:7: RuntimeWarning: invalid value encountered in scalar divide\n",
      "  value = value_1 / value_3\n"
     ]
    },
    {
     "name": "stdout",
     "output_type": "stream",
     "text": [
      "The secondary weight is[0. 0. 0. 0. 1. 0. 0.]\n",
      "[array([nan, nan, nan, nan, nan, nan, nan]), array([0., 0., 0., 0., 1., 0., 0.])]\n",
      "iteration number:13\n",
      "Iterazione 13 avviata il 2023-08-22 12:57:43.838161\n",
      "0.5074134066166187\n",
      "[nan]\n",
      "The FW weight is: [nan nan nan nan nan nan nan]\n"
     ]
    },
    {
     "name": "stderr",
     "output_type": "stream",
     "text": [
      "C:\\Users\\matteo posenato\\AppData\\Local\\Temp\\ipykernel_9100\\1514477971.py:7: RuntimeWarning: invalid value encountered in scalar divide\n",
      "  value = value_1 / value_3\n"
     ]
    },
    {
     "name": "stdout",
     "output_type": "stream",
     "text": [
      "The secondary weight is[0. 0. 0. 0. 1. 0. 0.]\n",
      "[array([nan, nan, nan, nan, nan, nan, nan]), array([0., 0., 0., 0., 1., 0., 0.])]\n",
      "iteration number:14\n",
      "Iterazione 14 avviata il 2023-08-22 12:57:47.918429\n",
      "0.5074134066166187\n",
      "[nan]\n",
      "The FW weight is: [nan nan nan nan nan nan nan]\n"
     ]
    },
    {
     "name": "stderr",
     "output_type": "stream",
     "text": [
      "C:\\Users\\matteo posenato\\AppData\\Local\\Temp\\ipykernel_9100\\1514477971.py:7: RuntimeWarning: invalid value encountered in scalar divide\n",
      "  value = value_1 / value_3\n"
     ]
    },
    {
     "name": "stdout",
     "output_type": "stream",
     "text": [
      "The secondary weight is[0. 0. 0. 0. 1. 0. 0.]\n",
      "[array([nan, nan, nan, nan, nan, nan, nan]), array([0., 0., 0., 0., 1., 0., 0.])]\n",
      "iteration number:15\n",
      "Iterazione 15 avviata il 2023-08-22 12:57:52.083038\n",
      "0.5074134066166187\n",
      "[nan]\n",
      "The FW weight is: [nan nan nan nan nan nan nan]\n"
     ]
    },
    {
     "name": "stderr",
     "output_type": "stream",
     "text": [
      "C:\\Users\\matteo posenato\\AppData\\Local\\Temp\\ipykernel_9100\\1514477971.py:7: RuntimeWarning: invalid value encountered in scalar divide\n",
      "  value = value_1 / value_3\n"
     ]
    },
    {
     "name": "stdout",
     "output_type": "stream",
     "text": [
      "The secondary weight is[0. 0. 0. 0. 1. 0. 0.]\n",
      "[array([nan, nan, nan, nan, nan, nan, nan]), array([0., 0., 0., 0., 1., 0., 0.])]\n",
      "iteration number:16\n",
      "Iterazione 16 avviata il 2023-08-22 12:57:57.833470\n",
      "0.5074134066166187\n",
      "[nan]\n",
      "The FW weight is: [nan nan nan nan nan nan nan]\n"
     ]
    },
    {
     "name": "stderr",
     "output_type": "stream",
     "text": [
      "C:\\Users\\matteo posenato\\AppData\\Local\\Temp\\ipykernel_9100\\1514477971.py:7: RuntimeWarning: invalid value encountered in scalar divide\n",
      "  value = value_1 / value_3\n"
     ]
    },
    {
     "name": "stdout",
     "output_type": "stream",
     "text": [
      "The secondary weight is[0. 0. 0. 0. 1. 0. 0.]\n",
      "[array([nan, nan, nan, nan, nan, nan, nan]), array([0., 0., 0., 0., 1., 0., 0.])]\n",
      "iteration number:17\n",
      "Iterazione 17 avviata il 2023-08-22 12:58:02.449053\n",
      "0.5074134066166187\n",
      "[nan]\n",
      "The FW weight is: [nan nan nan nan nan nan nan]\n"
     ]
    },
    {
     "name": "stderr",
     "output_type": "stream",
     "text": [
      "C:\\Users\\matteo posenato\\AppData\\Local\\Temp\\ipykernel_9100\\1514477971.py:7: RuntimeWarning: invalid value encountered in scalar divide\n",
      "  value = value_1 / value_3\n"
     ]
    },
    {
     "name": "stdout",
     "output_type": "stream",
     "text": [
      "The secondary weight is[0. 0. 0. 0. 1. 0. 0.]\n",
      "[array([nan, nan, nan, nan, nan, nan, nan]), array([0., 0., 0., 0., 1., 0., 0.])]\n",
      "iteration number:18\n",
      "Iterazione 18 avviata il 2023-08-22 12:58:07.727952\n",
      "0.5074134066166187\n",
      "[nan]\n",
      "The FW weight is: [nan nan nan nan nan nan nan]\n"
     ]
    },
    {
     "name": "stderr",
     "output_type": "stream",
     "text": [
      "C:\\Users\\matteo posenato\\AppData\\Local\\Temp\\ipykernel_9100\\1514477971.py:7: RuntimeWarning: invalid value encountered in scalar divide\n",
      "  value = value_1 / value_3\n"
     ]
    },
    {
     "name": "stdout",
     "output_type": "stream",
     "text": [
      "The secondary weight is[0. 0. 0. 0. 1. 0. 0.]\n",
      "[array([nan, nan, nan, nan, nan, nan, nan]), array([0., 0., 0., 0., 1., 0., 0.])]\n",
      "iteration number:19\n",
      "Iterazione 19 avviata il 2023-08-22 12:58:14.718120\n",
      "0.5074134066166187\n",
      "[nan]\n",
      "The FW weight is: [nan nan nan nan nan nan nan]\n"
     ]
    },
    {
     "name": "stderr",
     "output_type": "stream",
     "text": [
      "C:\\Users\\matteo posenato\\AppData\\Local\\Temp\\ipykernel_9100\\1514477971.py:7: RuntimeWarning: invalid value encountered in scalar divide\n",
      "  value = value_1 / value_3\n"
     ]
    },
    {
     "name": "stdout",
     "output_type": "stream",
     "text": [
      "The secondary weight is[0. 0. 0. 0. 1. 0. 0.]\n",
      "[array([nan, nan, nan, nan, nan, nan, nan]), array([0., 0., 0., 0., 1., 0., 0.])]\n",
      "iteration number:20\n",
      "Iterazione 20 avviata il 2023-08-22 12:58:20.686290\n",
      "0.5074134066166187\n",
      "[nan]\n",
      "The FW weight is: [nan nan nan nan nan nan nan]\n"
     ]
    },
    {
     "name": "stderr",
     "output_type": "stream",
     "text": [
      "C:\\Users\\matteo posenato\\AppData\\Local\\Temp\\ipykernel_9100\\1514477971.py:7: RuntimeWarning: invalid value encountered in scalar divide\n",
      "  value = value_1 / value_3\n"
     ]
    },
    {
     "name": "stdout",
     "output_type": "stream",
     "text": [
      "The secondary weight is[0. 0. 0. 0. 1. 0. 0.]\n",
      "[array([nan, nan, nan, nan, nan, nan, nan]), array([0., 0., 0., 0., 1., 0., 0.])]\n",
      "iteration number:21\n",
      "Iterazione 21 avviata il 2023-08-22 12:58:27.916900\n",
      "0.5074134066166187\n",
      "[nan]\n",
      "The FW weight is: [nan nan nan nan nan nan nan]\n"
     ]
    },
    {
     "name": "stderr",
     "output_type": "stream",
     "text": [
      "C:\\Users\\matteo posenato\\AppData\\Local\\Temp\\ipykernel_9100\\1514477971.py:7: RuntimeWarning: invalid value encountered in scalar divide\n",
      "  value = value_1 / value_3\n"
     ]
    },
    {
     "name": "stdout",
     "output_type": "stream",
     "text": [
      "The secondary weight is[0. 0. 0. 0. 1. 0. 0.]\n",
      "[array([nan, nan, nan, nan, nan, nan, nan]), array([0., 0., 0., 0., 1., 0., 0.])]\n",
      "iteration number:22\n",
      "Iterazione 22 avviata il 2023-08-22 12:58:35.279178\n",
      "0.5074134066166187\n",
      "[nan]\n",
      "The FW weight is: [nan nan nan nan nan nan nan]\n"
     ]
    },
    {
     "name": "stderr",
     "output_type": "stream",
     "text": [
      "C:\\Users\\matteo posenato\\AppData\\Local\\Temp\\ipykernel_9100\\1514477971.py:7: RuntimeWarning: invalid value encountered in scalar divide\n",
      "  value = value_1 / value_3\n"
     ]
    },
    {
     "name": "stdout",
     "output_type": "stream",
     "text": [
      "The secondary weight is[0. 0. 0. 0. 1. 0. 0.]\n",
      "[array([nan, nan, nan, nan, nan, nan, nan]), array([0., 0., 0., 0., 1., 0., 0.])]\n",
      "iteration number:23\n",
      "Iterazione 23 avviata il 2023-08-22 12:58:42.912551\n",
      "0.5074134066166187\n",
      "[nan]\n",
      "The FW weight is: [nan nan nan nan nan nan nan]\n"
     ]
    },
    {
     "name": "stderr",
     "output_type": "stream",
     "text": [
      "C:\\Users\\matteo posenato\\AppData\\Local\\Temp\\ipykernel_9100\\1514477971.py:7: RuntimeWarning: invalid value encountered in scalar divide\n",
      "  value = value_1 / value_3\n"
     ]
    },
    {
     "name": "stdout",
     "output_type": "stream",
     "text": [
      "The secondary weight is[0. 0. 0. 0. 1. 0. 0.]\n",
      "[array([nan, nan, nan, nan, nan, nan, nan]), array([0., 0., 0., 0., 1., 0., 0.])]\n",
      "iteration number:24\n",
      "Iterazione 24 avviata il 2023-08-22 12:58:51.954285\n",
      "0.5074134066166187\n",
      "[nan]\n",
      "The FW weight is: [nan nan nan nan nan nan nan]\n"
     ]
    },
    {
     "name": "stderr",
     "output_type": "stream",
     "text": [
      "C:\\Users\\matteo posenato\\AppData\\Local\\Temp\\ipykernel_9100\\1514477971.py:7: RuntimeWarning: invalid value encountered in scalar divide\n",
      "  value = value_1 / value_3\n"
     ]
    },
    {
     "name": "stdout",
     "output_type": "stream",
     "text": [
      "The secondary weight is[0. 0. 0. 0. 1. 0. 0.]\n",
      "[array([nan, nan, nan, nan, nan, nan, nan]), array([0., 0., 0., 0., 1., 0., 0.])]\n",
      "iteration number:25\n",
      "Iterazione 25 avviata il 2023-08-22 12:59:00.678931\n",
      "0.5074134066166187\n",
      "[nan]\n",
      "The FW weight is: [nan nan nan nan nan nan nan]\n"
     ]
    },
    {
     "name": "stderr",
     "output_type": "stream",
     "text": [
      "C:\\Users\\matteo posenato\\AppData\\Local\\Temp\\ipykernel_9100\\1514477971.py:7: RuntimeWarning: invalid value encountered in scalar divide\n",
      "  value = value_1 / value_3\n"
     ]
    },
    {
     "name": "stdout",
     "output_type": "stream",
     "text": [
      "The secondary weight is[0. 0. 0. 0. 1. 0. 0.]\n",
      "[array([nan, nan, nan, nan, nan, nan, nan]), array([0., 0., 0., 0., 1., 0., 0.])]\n",
      "iteration number:26\n",
      "Iterazione 26 avviata il 2023-08-22 12:59:07.833000\n",
      "0.5074134066166187\n",
      "[nan]\n",
      "The FW weight is: [nan nan nan nan nan nan nan]\n"
     ]
    },
    {
     "name": "stderr",
     "output_type": "stream",
     "text": [
      "C:\\Users\\matteo posenato\\AppData\\Local\\Temp\\ipykernel_9100\\1514477971.py:7: RuntimeWarning: invalid value encountered in scalar divide\n",
      "  value = value_1 / value_3\n"
     ]
    },
    {
     "name": "stdout",
     "output_type": "stream",
     "text": [
      "The secondary weight is[0. 0. 0. 0. 1. 0. 0.]\n",
      "[array([nan, nan, nan, nan, nan, nan, nan]), array([0., 0., 0., 0., 1., 0., 0.])]\n",
      "iteration number:27\n",
      "Iterazione 27 avviata il 2023-08-22 12:59:15.311365\n",
      "0.5074134066166187\n",
      "[nan]\n",
      "The FW weight is: [nan nan nan nan nan nan nan]\n"
     ]
    },
    {
     "name": "stderr",
     "output_type": "stream",
     "text": [
      "C:\\Users\\matteo posenato\\AppData\\Local\\Temp\\ipykernel_9100\\1514477971.py:7: RuntimeWarning: invalid value encountered in scalar divide\n",
      "  value = value_1 / value_3\n"
     ]
    },
    {
     "name": "stdout",
     "output_type": "stream",
     "text": [
      "The secondary weight is[0. 0. 0. 0. 1. 0. 0.]\n",
      "[array([nan, nan, nan, nan, nan, nan, nan]), array([0., 0., 0., 0., 1., 0., 0.])]\n",
      "iteration number:28\n",
      "Iterazione 28 avviata il 2023-08-22 12:59:24.814980\n",
      "0.5074134066166187\n",
      "[nan]\n",
      "The FW weight is: [nan nan nan nan nan nan nan]\n"
     ]
    },
    {
     "name": "stderr",
     "output_type": "stream",
     "text": [
      "C:\\Users\\matteo posenato\\AppData\\Local\\Temp\\ipykernel_9100\\1514477971.py:7: RuntimeWarning: invalid value encountered in scalar divide\n",
      "  value = value_1 / value_3\n"
     ]
    },
    {
     "name": "stdout",
     "output_type": "stream",
     "text": [
      "The secondary weight is[0. 0. 0. 0. 1. 0. 0.]\n",
      "[array([nan, nan, nan, nan, nan, nan, nan]), array([0., 0., 0., 0., 1., 0., 0.])]\n",
      "iteration number:29\n",
      "Iterazione 29 avviata il 2023-08-22 12:59:33.724457\n",
      "0.5074134066166187\n",
      "[nan]\n",
      "The FW weight is: [nan nan nan nan nan nan nan]\n"
     ]
    },
    {
     "name": "stderr",
     "output_type": "stream",
     "text": [
      "C:\\Users\\matteo posenato\\AppData\\Local\\Temp\\ipykernel_9100\\1514477971.py:7: RuntimeWarning: invalid value encountered in scalar divide\n",
      "  value = value_1 / value_3\n"
     ]
    },
    {
     "name": "stdout",
     "output_type": "stream",
     "text": [
      "The secondary weight is[0. 0. 0. 0. 1. 0. 0.]\n",
      "[array([nan, nan, nan, nan, nan, nan, nan]), array([0., 0., 0., 0., 1., 0., 0.])]\n",
      "iteration number:30\n",
      "Iterazione 30 avviata il 2023-08-22 12:59:41.649213\n",
      "0.5074134066166187\n",
      "[nan]\n",
      "The FW weight is: [nan nan nan nan nan nan nan]\n"
     ]
    },
    {
     "name": "stderr",
     "output_type": "stream",
     "text": [
      "C:\\Users\\matteo posenato\\AppData\\Local\\Temp\\ipykernel_9100\\1514477971.py:7: RuntimeWarning: invalid value encountered in scalar divide\n",
      "  value = value_1 / value_3\n"
     ]
    },
    {
     "name": "stdout",
     "output_type": "stream",
     "text": [
      "The secondary weight is[0. 0. 0. 0. 1. 0. 0.]\n",
      "[array([nan, nan, nan, nan, nan, nan, nan]), array([0., 0., 0., 0., 1., 0., 0.])]\n",
      "iteration number:31\n",
      "Iterazione 31 avviata il 2023-08-22 12:59:50.817046\n",
      "0.5074134066166187\n",
      "[nan]\n",
      "The FW weight is: [nan nan nan nan nan nan nan]\n"
     ]
    },
    {
     "name": "stderr",
     "output_type": "stream",
     "text": [
      "C:\\Users\\matteo posenato\\AppData\\Local\\Temp\\ipykernel_9100\\1514477971.py:7: RuntimeWarning: invalid value encountered in scalar divide\n",
      "  value = value_1 / value_3\n"
     ]
    },
    {
     "name": "stdout",
     "output_type": "stream",
     "text": [
      "The secondary weight is[0. 0. 0. 0. 1. 0. 0.]\n",
      "[array([nan, nan, nan, nan, nan, nan, nan]), array([0., 0., 0., 0., 1., 0., 0.])]\n",
      "iteration number:32\n",
      "Iterazione 32 avviata il 2023-08-22 12:59:59.144671\n",
      "0.5074134066166187\n",
      "[nan]\n",
      "The FW weight is: [nan nan nan nan nan nan nan]\n"
     ]
    },
    {
     "name": "stderr",
     "output_type": "stream",
     "text": [
      "C:\\Users\\matteo posenato\\AppData\\Local\\Temp\\ipykernel_9100\\1514477971.py:7: RuntimeWarning: invalid value encountered in scalar divide\n",
      "  value = value_1 / value_3\n"
     ]
    },
    {
     "name": "stdout",
     "output_type": "stream",
     "text": [
      "The secondary weight is[0. 0. 0. 0. 1. 0. 0.]\n",
      "[array([nan, nan, nan, nan, nan, nan, nan]), array([0., 0., 0., 0., 1., 0., 0.])]\n",
      "iteration number:33\n",
      "Iterazione 33 avviata il 2023-08-22 13:00:09.296997\n",
      "0.5074134066166187\n",
      "[nan]\n",
      "The FW weight is: [nan nan nan nan nan nan nan]\n"
     ]
    },
    {
     "name": "stderr",
     "output_type": "stream",
     "text": [
      "C:\\Users\\matteo posenato\\AppData\\Local\\Temp\\ipykernel_9100\\1514477971.py:7: RuntimeWarning: invalid value encountered in scalar divide\n",
      "  value = value_1 / value_3\n"
     ]
    },
    {
     "name": "stdout",
     "output_type": "stream",
     "text": [
      "The secondary weight is[0. 0. 0. 0. 1. 0. 0.]\n",
      "[array([nan, nan, nan, nan, nan, nan, nan]), array([0., 0., 0., 0., 1., 0., 0.])]\n",
      "iteration number:34\n",
      "Iterazione 34 avviata il 2023-08-22 13:00:18.303816\n",
      "0.5074134066166187\n",
      "[nan]\n",
      "The FW weight is: [nan nan nan nan nan nan nan]\n"
     ]
    },
    {
     "name": "stderr",
     "output_type": "stream",
     "text": [
      "C:\\Users\\matteo posenato\\AppData\\Local\\Temp\\ipykernel_9100\\1514477971.py:7: RuntimeWarning: invalid value encountered in scalar divide\n",
      "  value = value_1 / value_3\n"
     ]
    },
    {
     "name": "stdout",
     "output_type": "stream",
     "text": [
      "The secondary weight is[0. 0. 0. 0. 1. 0. 0.]\n",
      "[array([nan, nan, nan, nan, nan, nan, nan]), array([0., 0., 0., 0., 1., 0., 0.])]\n",
      "iteration number:35\n",
      "Iterazione 35 avviata il 2023-08-22 13:00:28.771153\n",
      "0.5074134066166187\n",
      "[nan]\n",
      "The FW weight is: [nan nan nan nan nan nan nan]\n"
     ]
    },
    {
     "name": "stderr",
     "output_type": "stream",
     "text": [
      "C:\\Users\\matteo posenato\\AppData\\Local\\Temp\\ipykernel_9100\\1514477971.py:7: RuntimeWarning: invalid value encountered in scalar divide\n",
      "  value = value_1 / value_3\n"
     ]
    },
    {
     "name": "stdout",
     "output_type": "stream",
     "text": [
      "The secondary weight is[0. 0. 0. 0. 1. 0. 0.]\n",
      "[array([nan, nan, nan, nan, nan, nan, nan]), array([0., 0., 0., 0., 1., 0., 0.])]\n",
      "iteration number:36\n",
      "Iterazione 36 avviata il 2023-08-22 13:00:40.241266\n",
      "0.5074134066166187\n",
      "[nan]\n",
      "The FW weight is: [nan nan nan nan nan nan nan]\n"
     ]
    },
    {
     "name": "stderr",
     "output_type": "stream",
     "text": [
      "C:\\Users\\matteo posenato\\AppData\\Local\\Temp\\ipykernel_9100\\1514477971.py:7: RuntimeWarning: invalid value encountered in scalar divide\n",
      "  value = value_1 / value_3\n"
     ]
    },
    {
     "name": "stdout",
     "output_type": "stream",
     "text": [
      "The secondary weight is[0. 0. 0. 0. 1. 0. 0.]\n",
      "[array([nan, nan, nan, nan, nan, nan, nan]), array([0., 0., 0., 0., 1., 0., 0.])]\n",
      "iteration number:37\n",
      "Iterazione 37 avviata il 2023-08-22 13:00:52.277107\n",
      "0.5074134066166187\n",
      "[nan]\n",
      "The FW weight is: [nan nan nan nan nan nan nan]\n"
     ]
    },
    {
     "name": "stderr",
     "output_type": "stream",
     "text": [
      "C:\\Users\\matteo posenato\\AppData\\Local\\Temp\\ipykernel_9100\\1514477971.py:7: RuntimeWarning: invalid value encountered in scalar divide\n",
      "  value = value_1 / value_3\n"
     ]
    },
    {
     "name": "stdout",
     "output_type": "stream",
     "text": [
      "The secondary weight is[0. 0. 0. 0. 1. 0. 0.]\n",
      "[array([nan, nan, nan, nan, nan, nan, nan]), array([0., 0., 0., 0., 1., 0., 0.])]\n",
      "iteration number:38\n",
      "Iterazione 38 avviata il 2023-08-22 13:01:02.889766\n",
      "0.5074134066166187\n",
      "[nan]\n",
      "The FW weight is: [nan nan nan nan nan nan nan]\n"
     ]
    },
    {
     "name": "stderr",
     "output_type": "stream",
     "text": [
      "C:\\Users\\matteo posenato\\AppData\\Local\\Temp\\ipykernel_9100\\1514477971.py:7: RuntimeWarning: invalid value encountered in scalar divide\n",
      "  value = value_1 / value_3\n"
     ]
    },
    {
     "name": "stdout",
     "output_type": "stream",
     "text": [
      "The secondary weight is[0. 0. 0. 0. 1. 0. 0.]\n",
      "[array([nan, nan, nan, nan, nan, nan, nan]), array([0., 0., 0., 0., 1., 0., 0.])]\n",
      "iteration number:39\n",
      "Iterazione 39 avviata il 2023-08-22 13:01:15.963189\n",
      "0.5074134066166187\n",
      "[nan]\n",
      "The FW weight is: [nan nan nan nan nan nan nan]\n"
     ]
    },
    {
     "name": "stderr",
     "output_type": "stream",
     "text": [
      "C:\\Users\\matteo posenato\\AppData\\Local\\Temp\\ipykernel_9100\\1514477971.py:7: RuntimeWarning: invalid value encountered in scalar divide\n",
      "  value = value_1 / value_3\n"
     ]
    },
    {
     "name": "stdout",
     "output_type": "stream",
     "text": [
      "The secondary weight is[0. 0. 0. 0. 1. 0. 0.]\n",
      "[array([nan, nan, nan, nan, nan, nan, nan]), array([0., 0., 0., 0., 1., 0., 0.])]\n",
      "iteration number:40\n",
      "Iterazione 40 avviata il 2023-08-22 13:01:28.820271\n",
      "0.5074134066166187\n",
      "[nan]\n",
      "The FW weight is: [nan nan nan nan nan nan nan]\n"
     ]
    },
    {
     "name": "stderr",
     "output_type": "stream",
     "text": [
      "C:\\Users\\matteo posenato\\AppData\\Local\\Temp\\ipykernel_9100\\1514477971.py:7: RuntimeWarning: invalid value encountered in scalar divide\n",
      "  value = value_1 / value_3\n"
     ]
    },
    {
     "name": "stdout",
     "output_type": "stream",
     "text": [
      "The secondary weight is[0. 0. 0. 0. 1. 0. 0.]\n",
      "[array([nan, nan, nan, nan, nan, nan, nan]), array([0., 0., 0., 0., 1., 0., 0.])]\n",
      "iteration number:41\n",
      "Iterazione 41 avviata il 2023-08-22 13:01:41.425358\n",
      "0.5074134066166187\n",
      "[nan]\n",
      "The FW weight is: [nan nan nan nan nan nan nan]\n"
     ]
    },
    {
     "name": "stderr",
     "output_type": "stream",
     "text": [
      "C:\\Users\\matteo posenato\\AppData\\Local\\Temp\\ipykernel_9100\\1514477971.py:7: RuntimeWarning: invalid value encountered in scalar divide\n",
      "  value = value_1 / value_3\n"
     ]
    },
    {
     "name": "stdout",
     "output_type": "stream",
     "text": [
      "The secondary weight is[0. 0. 0. 0. 1. 0. 0.]\n",
      "[array([nan, nan, nan, nan, nan, nan, nan]), array([0., 0., 0., 0., 1., 0., 0.])]\n",
      "iteration number:42\n",
      "Iterazione 42 avviata il 2023-08-22 13:01:53.144198\n",
      "0.5074134066166187\n",
      "[nan]\n",
      "The FW weight is: [nan nan nan nan nan nan nan]\n"
     ]
    },
    {
     "name": "stderr",
     "output_type": "stream",
     "text": [
      "C:\\Users\\matteo posenato\\AppData\\Local\\Temp\\ipykernel_9100\\1514477971.py:7: RuntimeWarning: invalid value encountered in scalar divide\n",
      "  value = value_1 / value_3\n"
     ]
    },
    {
     "name": "stdout",
     "output_type": "stream",
     "text": [
      "The secondary weight is[0. 0. 0. 0. 1. 0. 0.]\n",
      "[array([nan, nan, nan, nan, nan, nan, nan]), array([0., 0., 0., 0., 1., 0., 0.])]\n",
      "iteration number:43\n",
      "Iterazione 43 avviata il 2023-08-22 13:02:07.247971\n",
      "0.5074134066166187\n",
      "[nan]\n",
      "The FW weight is: [nan nan nan nan nan nan nan]\n"
     ]
    },
    {
     "name": "stderr",
     "output_type": "stream",
     "text": [
      "C:\\Users\\matteo posenato\\AppData\\Local\\Temp\\ipykernel_9100\\1514477971.py:7: RuntimeWarning: invalid value encountered in scalar divide\n",
      "  value = value_1 / value_3\n"
     ]
    },
    {
     "name": "stdout",
     "output_type": "stream",
     "text": [
      "The secondary weight is[0. 0. 0. 0. 1. 0. 0.]\n",
      "[array([nan, nan, nan, nan, nan, nan, nan]), array([0., 0., 0., 0., 1., 0., 0.])]\n",
      "iteration number:44\n",
      "Iterazione 44 avviata il 2023-08-22 13:02:21.328087\n",
      "0.5074134066166187\n",
      "[nan]\n",
      "The FW weight is: [nan nan nan nan nan nan nan]\n"
     ]
    },
    {
     "name": "stderr",
     "output_type": "stream",
     "text": [
      "C:\\Users\\matteo posenato\\AppData\\Local\\Temp\\ipykernel_9100\\1514477971.py:7: RuntimeWarning: invalid value encountered in scalar divide\n",
      "  value = value_1 / value_3\n"
     ]
    },
    {
     "name": "stdout",
     "output_type": "stream",
     "text": [
      "The secondary weight is[0. 0. 0. 0. 1. 0. 0.]\n",
      "[array([nan, nan, nan, nan, nan, nan, nan]), array([0., 0., 0., 0., 1., 0., 0.])]\n",
      "iteration number:45\n",
      "Iterazione 45 avviata il 2023-08-22 13:02:38.617132\n",
      "0.5074134066166187\n",
      "[nan]\n",
      "The FW weight is: [nan nan nan nan nan nan nan]\n"
     ]
    },
    {
     "name": "stderr",
     "output_type": "stream",
     "text": [
      "C:\\Users\\matteo posenato\\AppData\\Local\\Temp\\ipykernel_9100\\1514477971.py:7: RuntimeWarning: invalid value encountered in scalar divide\n",
      "  value = value_1 / value_3\n"
     ]
    },
    {
     "name": "stdout",
     "output_type": "stream",
     "text": [
      "The secondary weight is[0. 0. 0. 0. 1. 0. 0.]\n",
      "[array([nan, nan, nan, nan, nan, nan, nan]), array([0., 0., 0., 0., 1., 0., 0.])]\n",
      "iteration number:46\n",
      "Iterazione 46 avviata il 2023-08-22 13:02:54.664514\n",
      "0.5074134066166187\n",
      "[nan]\n",
      "The FW weight is: [nan nan nan nan nan nan nan]\n"
     ]
    },
    {
     "name": "stderr",
     "output_type": "stream",
     "text": [
      "C:\\Users\\matteo posenato\\AppData\\Local\\Temp\\ipykernel_9100\\1514477971.py:7: RuntimeWarning: invalid value encountered in scalar divide\n",
      "  value = value_1 / value_3\n"
     ]
    },
    {
     "name": "stdout",
     "output_type": "stream",
     "text": [
      "The secondary weight is[0. 0. 0. 0. 1. 0. 0.]\n",
      "[array([nan, nan, nan, nan, nan, nan, nan]), array([0., 0., 0., 0., 1., 0., 0.])]\n",
      "iteration number:47\n",
      "Iterazione 47 avviata il 2023-08-22 13:03:10.853301\n",
      "0.5074134066166187\n",
      "[nan]\n",
      "The FW weight is: [nan nan nan nan nan nan nan]\n"
     ]
    },
    {
     "name": "stderr",
     "output_type": "stream",
     "text": [
      "C:\\Users\\matteo posenato\\AppData\\Local\\Temp\\ipykernel_9100\\1514477971.py:7: RuntimeWarning: invalid value encountered in scalar divide\n",
      "  value = value_1 / value_3\n"
     ]
    },
    {
     "name": "stdout",
     "output_type": "stream",
     "text": [
      "The secondary weight is[0. 0. 0. 0. 1. 0. 0.]\n",
      "[array([nan, nan, nan, nan, nan, nan, nan]), array([0., 0., 0., 0., 1., 0., 0.])]\n",
      "iteration number:48\n",
      "Iterazione 48 avviata il 2023-08-22 13:03:27.336950\n",
      "0.5074134066166187\n",
      "[nan]\n",
      "The FW weight is: [nan nan nan nan nan nan nan]\n"
     ]
    },
    {
     "name": "stderr",
     "output_type": "stream",
     "text": [
      "C:\\Users\\matteo posenato\\AppData\\Local\\Temp\\ipykernel_9100\\1514477971.py:7: RuntimeWarning: invalid value encountered in scalar divide\n",
      "  value = value_1 / value_3\n"
     ]
    },
    {
     "name": "stdout",
     "output_type": "stream",
     "text": [
      "The secondary weight is[0. 0. 0. 0. 1. 0. 0.]\n",
      "[array([nan, nan, nan, nan, nan, nan, nan]), array([0., 0., 0., 0., 1., 0., 0.])]\n",
      "iteration number:49\n",
      "Iterazione 49 avviata il 2023-08-22 13:03:46.602480\n",
      "0.5074134066166187\n",
      "[nan]\n",
      "The FW weight is: [nan nan nan nan nan nan nan]\n"
     ]
    },
    {
     "name": "stderr",
     "output_type": "stream",
     "text": [
      "C:\\Users\\matteo posenato\\AppData\\Local\\Temp\\ipykernel_9100\\1514477971.py:7: RuntimeWarning: invalid value encountered in scalar divide\n",
      "  value = value_1 / value_3\n"
     ]
    },
    {
     "name": "stdout",
     "output_type": "stream",
     "text": [
      "The secondary weight is[0. 0. 0. 0. 1. 0. 0.]\n",
      "[array([nan, nan, nan, nan, nan, nan, nan]), array([0., 0., 0., 0., 1., 0., 0.])]\n",
      "iteration number:50\n",
      "Iterazione 50 avviata il 2023-08-22 13:04:06.382871\n",
      "0.5074134066166187\n",
      "[nan]\n",
      "The FW weight is: [nan nan nan nan nan nan nan]\n"
     ]
    },
    {
     "name": "stderr",
     "output_type": "stream",
     "text": [
      "C:\\Users\\matteo posenato\\AppData\\Local\\Temp\\ipykernel_9100\\1514477971.py:7: RuntimeWarning: invalid value encountered in scalar divide\n",
      "  value = value_1 / value_3\n"
     ]
    },
    {
     "name": "stdout",
     "output_type": "stream",
     "text": [
      "The secondary weight is[0. 0. 0. 0. 1. 0. 0.]\n",
      "[array([nan, nan, nan, nan, nan, nan, nan]), array([0., 0., 0., 0., 1., 0., 0.])]\n",
      "iteration number:51\n",
      "Iterazione 51 avviata il 2023-08-22 13:04:26.448658\n",
      "0.5074134066166187\n",
      "[nan]\n",
      "The FW weight is: [nan nan nan nan nan nan nan]\n"
     ]
    },
    {
     "name": "stderr",
     "output_type": "stream",
     "text": [
      "C:\\Users\\matteo posenato\\AppData\\Local\\Temp\\ipykernel_9100\\1514477971.py:7: RuntimeWarning: invalid value encountered in scalar divide\n",
      "  value = value_1 / value_3\n"
     ]
    },
    {
     "name": "stdout",
     "output_type": "stream",
     "text": [
      "The secondary weight is[0. 0. 0. 0. 1. 0. 0.]\n",
      "[array([nan, nan, nan, nan, nan, nan, nan]), array([0., 0., 0., 0., 1., 0., 0.])]\n",
      "iteration number:52\n",
      "Iterazione 52 avviata il 2023-08-22 13:04:47.385515\n",
      "0.5074134066166187\n",
      "[nan]\n",
      "The FW weight is: [nan nan nan nan nan nan nan]\n"
     ]
    },
    {
     "name": "stderr",
     "output_type": "stream",
     "text": [
      "C:\\Users\\matteo posenato\\AppData\\Local\\Temp\\ipykernel_9100\\1514477971.py:7: RuntimeWarning: invalid value encountered in scalar divide\n",
      "  value = value_1 / value_3\n"
     ]
    },
    {
     "name": "stdout",
     "output_type": "stream",
     "text": [
      "The secondary weight is[0. 0. 0. 0. 1. 0. 0.]\n",
      "[array([nan, nan, nan, nan, nan, nan, nan]), array([0., 0., 0., 0., 1., 0., 0.])]\n",
      "iteration number:53\n",
      "Iterazione 53 avviata il 2023-08-22 13:05:10.451448\n",
      "0.5074134066166187\n",
      "[nan]\n",
      "The FW weight is: [nan nan nan nan nan nan nan]\n"
     ]
    },
    {
     "name": "stderr",
     "output_type": "stream",
     "text": [
      "C:\\Users\\matteo posenato\\AppData\\Local\\Temp\\ipykernel_9100\\1514477971.py:7: RuntimeWarning: invalid value encountered in scalar divide\n",
      "  value = value_1 / value_3\n"
     ]
    },
    {
     "name": "stdout",
     "output_type": "stream",
     "text": [
      "The secondary weight is[0. 0. 0. 0. 1. 0. 0.]\n",
      "[array([nan, nan, nan, nan, nan, nan, nan]), array([0., 0., 0., 0., 1., 0., 0.])]\n",
      "iteration number:54\n",
      "Iterazione 54 avviata il 2023-08-22 13:05:31.772834\n",
      "0.5074134066166187\n",
      "[nan]\n",
      "The FW weight is: [nan nan nan nan nan nan nan]\n"
     ]
    },
    {
     "name": "stderr",
     "output_type": "stream",
     "text": [
      "C:\\Users\\matteo posenato\\AppData\\Local\\Temp\\ipykernel_9100\\1514477971.py:7: RuntimeWarning: invalid value encountered in scalar divide\n",
      "  value = value_1 / value_3\n"
     ]
    },
    {
     "name": "stdout",
     "output_type": "stream",
     "text": [
      "The secondary weight is[0. 0. 0. 0. 1. 0. 0.]\n",
      "[array([nan, nan, nan, nan, nan, nan, nan]), array([0., 0., 0., 0., 1., 0., 0.])]\n",
      "iteration number:55\n",
      "Iterazione 55 avviata il 2023-08-22 13:06:00.308400\n",
      "0.5005935937203412\n",
      "[nan]\n",
      "The FW weight is: [nan nan nan nan nan nan nan]\n"
     ]
    },
    {
     "name": "stderr",
     "output_type": "stream",
     "text": [
      "C:\\Users\\matteo posenato\\AppData\\Local\\Temp\\ipykernel_9100\\1514477971.py:7: RuntimeWarning: invalid value encountered in scalar divide\n",
      "  value = value_1 / value_3\n"
     ]
    },
    {
     "name": "stdout",
     "output_type": "stream",
     "text": [
      "The secondary weight is[0. 0. 0. 0. 1. 0. 0.]\n",
      "[array([nan, nan, nan, nan, nan, nan, nan]), array([0., 0., 0., 0., 1., 0., 0.])]\n",
      "iteration number:56\n",
      "Iterazione 56 avviata il 2023-08-22 13:06:26.597372\n",
      "0.5005935937203412\n",
      "[nan]\n",
      "The FW weight is: [nan nan nan nan nan nan nan]\n"
     ]
    },
    {
     "name": "stderr",
     "output_type": "stream",
     "text": [
      "C:\\Users\\matteo posenato\\AppData\\Local\\Temp\\ipykernel_9100\\1514477971.py:7: RuntimeWarning: invalid value encountered in scalar divide\n",
      "  value = value_1 / value_3\n"
     ]
    },
    {
     "name": "stdout",
     "output_type": "stream",
     "text": [
      "The secondary weight is[0. 0. 0. 0. 1. 0. 0.]\n",
      "[array([nan, nan, nan, nan, nan, nan, nan]), array([0., 0., 0., 0., 1., 0., 0.])]\n",
      "iteration number:57\n",
      "Iterazione 57 avviata il 2023-08-22 13:06:45.963143\n",
      "0.5005935937203412\n",
      "[nan]\n",
      "The FW weight is: [nan nan nan nan nan nan nan]\n"
     ]
    },
    {
     "name": "stderr",
     "output_type": "stream",
     "text": [
      "C:\\Users\\matteo posenato\\AppData\\Local\\Temp\\ipykernel_9100\\1514477971.py:7: RuntimeWarning: invalid value encountered in scalar divide\n",
      "  value = value_1 / value_3\n"
     ]
    },
    {
     "name": "stdout",
     "output_type": "stream",
     "text": [
      "The secondary weight is[0. 0. 0. 0. 1. 0. 0.]\n",
      "[array([nan, nan, nan, nan, nan, nan, nan]), array([0., 0., 0., 0., 1., 0., 0.])]\n",
      "iteration number:58\n",
      "Iterazione 58 avviata il 2023-08-22 13:07:04.184493\n",
      "0.5005935937203412\n",
      "[nan]\n",
      "The FW weight is: [nan nan nan nan nan nan nan]\n"
     ]
    },
    {
     "name": "stderr",
     "output_type": "stream",
     "text": [
      "C:\\Users\\matteo posenato\\AppData\\Local\\Temp\\ipykernel_9100\\1514477971.py:7: RuntimeWarning: invalid value encountered in scalar divide\n",
      "  value = value_1 / value_3\n"
     ]
    },
    {
     "name": "stdout",
     "output_type": "stream",
     "text": [
      "The secondary weight is[0. 0. 0. 0. 1. 0. 0.]\n",
      "[array([nan, nan, nan, nan, nan, nan, nan]), array([0., 0., 0., 0., 1., 0., 0.])]\n",
      "iteration number:59\n",
      "Iterazione 59 avviata il 2023-08-22 13:07:21.996982\n",
      "0.5005935937203412\n",
      "[nan]\n",
      "The FW weight is: [nan nan nan nan nan nan nan]\n"
     ]
    },
    {
     "name": "stderr",
     "output_type": "stream",
     "text": [
      "C:\\Users\\matteo posenato\\AppData\\Local\\Temp\\ipykernel_9100\\1514477971.py:7: RuntimeWarning: invalid value encountered in scalar divide\n",
      "  value = value_1 / value_3\n"
     ]
    },
    {
     "name": "stdout",
     "output_type": "stream",
     "text": [
      "The secondary weight is[0. 0. 0. 0. 1. 0. 0.]\n",
      "[array([nan, nan, nan, nan, nan, nan, nan]), array([0., 0., 0., 0., 1., 0., 0.])]\n",
      "iteration number:60\n",
      "Iterazione 60 avviata il 2023-08-22 13:07:39.916923\n",
      "0.5005935937203412\n",
      "[nan]\n",
      "The FW weight is: [nan nan nan nan nan nan nan]\n"
     ]
    },
    {
     "name": "stderr",
     "output_type": "stream",
     "text": [
      "C:\\Users\\matteo posenato\\AppData\\Local\\Temp\\ipykernel_9100\\1514477971.py:7: RuntimeWarning: invalid value encountered in scalar divide\n",
      "  value = value_1 / value_3\n"
     ]
    },
    {
     "name": "stdout",
     "output_type": "stream",
     "text": [
      "The secondary weight is[0. 0. 0. 0. 1. 0. 0.]\n",
      "[array([nan, nan, nan, nan, nan, nan, nan]), array([0., 0., 0., 0., 1., 0., 0.])]\n",
      "iteration number:61\n",
      "Iterazione 61 avviata il 2023-08-22 13:07:57.723804\n",
      "0.5005935937203412\n",
      "[nan]\n",
      "The FW weight is: [nan nan nan nan nan nan nan]\n"
     ]
    },
    {
     "name": "stderr",
     "output_type": "stream",
     "text": [
      "C:\\Users\\matteo posenato\\AppData\\Local\\Temp\\ipykernel_9100\\1514477971.py:7: RuntimeWarning: invalid value encountered in scalar divide\n",
      "  value = value_1 / value_3\n"
     ]
    },
    {
     "name": "stdout",
     "output_type": "stream",
     "text": [
      "The secondary weight is[0. 0. 0. 0. 1. 0. 0.]\n",
      "[array([nan, nan, nan, nan, nan, nan, nan]), array([0., 0., 0., 0., 1., 0., 0.])]\n",
      "iteration number:62\n",
      "Iterazione 62 avviata il 2023-08-22 13:08:16.037773\n",
      "0.5005935937203412\n",
      "[nan]\n",
      "The FW weight is: [nan nan nan nan nan nan nan]\n"
     ]
    },
    {
     "name": "stderr",
     "output_type": "stream",
     "text": [
      "C:\\Users\\matteo posenato\\AppData\\Local\\Temp\\ipykernel_9100\\1514477971.py:7: RuntimeWarning: invalid value encountered in scalar divide\n",
      "  value = value_1 / value_3\n"
     ]
    },
    {
     "name": "stdout",
     "output_type": "stream",
     "text": [
      "The secondary weight is[0. 0. 0. 0. 1. 0. 0.]\n",
      "[array([nan, nan, nan, nan, nan, nan, nan]), array([0., 0., 0., 0., 1., 0., 0.])]\n",
      "iteration number:63\n",
      "Iterazione 63 avviata il 2023-08-22 13:08:34.882056\n",
      "0.5005935937203412\n",
      "[nan]\n",
      "The FW weight is: [nan nan nan nan nan nan nan]\n"
     ]
    },
    {
     "name": "stderr",
     "output_type": "stream",
     "text": [
      "C:\\Users\\matteo posenato\\AppData\\Local\\Temp\\ipykernel_9100\\1514477971.py:7: RuntimeWarning: invalid value encountered in scalar divide\n",
      "  value = value_1 / value_3\n"
     ]
    },
    {
     "name": "stdout",
     "output_type": "stream",
     "text": [
      "The secondary weight is[0. 0. 0. 0. 1. 0. 0.]\n",
      "[array([nan, nan, nan, nan, nan, nan, nan]), array([0., 0., 0., 0., 1., 0., 0.])]\n",
      "iteration number:64\n",
      "Iterazione 64 avviata il 2023-08-22 13:08:55.878130\n",
      "0.5005935937203412\n",
      "[nan]\n",
      "The FW weight is: [nan nan nan nan nan nan nan]\n"
     ]
    },
    {
     "name": "stderr",
     "output_type": "stream",
     "text": [
      "C:\\Users\\matteo posenato\\AppData\\Local\\Temp\\ipykernel_9100\\1514477971.py:7: RuntimeWarning: invalid value encountered in scalar divide\n",
      "  value = value_1 / value_3\n"
     ]
    },
    {
     "name": "stdout",
     "output_type": "stream",
     "text": [
      "The secondary weight is[0. 0. 0. 0. 1. 0. 0.]\n",
      "[array([nan, nan, nan, nan, nan, nan, nan]), array([0., 0., 0., 0., 1., 0., 0.])]\n",
      "iteration number:65\n",
      "Iterazione 65 avviata il 2023-08-22 13:09:14.706667\n",
      "0.5005935937203412\n",
      "[nan]\n",
      "The FW weight is: [nan nan nan nan nan nan nan]\n"
     ]
    },
    {
     "name": "stderr",
     "output_type": "stream",
     "text": [
      "C:\\Users\\matteo posenato\\AppData\\Local\\Temp\\ipykernel_9100\\1514477971.py:7: RuntimeWarning: invalid value encountered in scalar divide\n",
      "  value = value_1 / value_3\n"
     ]
    },
    {
     "name": "stdout",
     "output_type": "stream",
     "text": [
      "The secondary weight is[0. 0. 0. 0. 1. 0. 0.]\n",
      "[array([nan, nan, nan, nan, nan, nan, nan]), array([0., 0., 0., 0., 1., 0., 0.])]\n",
      "iteration number:66\n",
      "Iterazione 66 avviata il 2023-08-22 13:09:34.149567\n",
      "0.5005935937203412\n",
      "[nan]\n",
      "The FW weight is: [nan nan nan nan nan nan nan]\n"
     ]
    },
    {
     "name": "stderr",
     "output_type": "stream",
     "text": [
      "C:\\Users\\matteo posenato\\AppData\\Local\\Temp\\ipykernel_9100\\1514477971.py:7: RuntimeWarning: invalid value encountered in scalar divide\n",
      "  value = value_1 / value_3\n"
     ]
    },
    {
     "name": "stdout",
     "output_type": "stream",
     "text": [
      "The secondary weight is[0. 0. 0. 0. 1. 0. 0.]\n",
      "[array([nan, nan, nan, nan, nan, nan, nan]), array([0., 0., 0., 0., 1., 0., 0.])]\n",
      "iteration number:67\n",
      "Iterazione 67 avviata il 2023-08-22 13:09:56.181033\n",
      "0.5005935937203412\n",
      "[nan]\n",
      "The FW weight is: [nan nan nan nan nan nan nan]\n"
     ]
    },
    {
     "name": "stderr",
     "output_type": "stream",
     "text": [
      "C:\\Users\\matteo posenato\\AppData\\Local\\Temp\\ipykernel_9100\\1514477971.py:7: RuntimeWarning: invalid value encountered in scalar divide\n",
      "  value = value_1 / value_3\n"
     ]
    },
    {
     "name": "stdout",
     "output_type": "stream",
     "text": [
      "The secondary weight is[0. 0. 0. 0. 1. 0. 0.]\n",
      "[array([nan, nan, nan, nan, nan, nan, nan]), array([0., 0., 0., 0., 1., 0., 0.])]\n",
      "iteration number:68\n",
      "Iterazione 68 avviata il 2023-08-22 13:10:16.894454\n",
      "0.5005935937203412\n",
      "[nan]\n",
      "The FW weight is: [nan nan nan nan nan nan nan]\n"
     ]
    },
    {
     "name": "stderr",
     "output_type": "stream",
     "text": [
      "C:\\Users\\matteo posenato\\AppData\\Local\\Temp\\ipykernel_9100\\1514477971.py:7: RuntimeWarning: invalid value encountered in scalar divide\n",
      "  value = value_1 / value_3\n"
     ]
    },
    {
     "name": "stdout",
     "output_type": "stream",
     "text": [
      "The secondary weight is[0. 0. 0. 0. 1. 0. 0.]\n",
      "[array([nan, nan, nan, nan, nan, nan, nan]), array([0., 0., 0., 0., 1., 0., 0.])]\n",
      "iteration number:69\n",
      "Iterazione 69 avviata il 2023-08-22 13:10:38.860774\n",
      "0.5005935937203412\n",
      "[nan]\n",
      "The FW weight is: [nan nan nan nan nan nan nan]\n"
     ]
    },
    {
     "name": "stderr",
     "output_type": "stream",
     "text": [
      "C:\\Users\\matteo posenato\\AppData\\Local\\Temp\\ipykernel_9100\\1514477971.py:7: RuntimeWarning: invalid value encountered in scalar divide\n",
      "  value = value_1 / value_3\n"
     ]
    },
    {
     "name": "stdout",
     "output_type": "stream",
     "text": [
      "The secondary weight is[0. 0. 0. 0. 1. 0. 0.]\n",
      "[array([nan, nan, nan, nan, nan, nan, nan]), array([0., 0., 0., 0., 1., 0., 0.])]\n",
      "iteration number:70\n",
      "Iterazione 70 avviata il 2023-08-22 13:11:00.893452\n",
      "0.5005935937203412\n",
      "[nan]\n",
      "The FW weight is: [nan nan nan nan nan nan nan]\n"
     ]
    },
    {
     "name": "stderr",
     "output_type": "stream",
     "text": [
      "C:\\Users\\matteo posenato\\AppData\\Local\\Temp\\ipykernel_9100\\1514477971.py:7: RuntimeWarning: invalid value encountered in scalar divide\n",
      "  value = value_1 / value_3\n"
     ]
    },
    {
     "name": "stdout",
     "output_type": "stream",
     "text": [
      "The secondary weight is[0. 0. 0. 0. 1. 0. 0.]\n",
      "[array([nan, nan, nan, nan, nan, nan, nan]), array([0., 0., 0., 0., 1., 0., 0.])]\n",
      "iteration number:71\n",
      "Iterazione 71 avviata il 2023-08-22 13:11:23.222480\n",
      "0.5005935937203412\n",
      "[nan]\n",
      "The FW weight is: [nan nan nan nan nan nan nan]\n"
     ]
    },
    {
     "name": "stderr",
     "output_type": "stream",
     "text": [
      "C:\\Users\\matteo posenato\\AppData\\Local\\Temp\\ipykernel_9100\\1514477971.py:7: RuntimeWarning: invalid value encountered in scalar divide\n",
      "  value = value_1 / value_3\n"
     ]
    },
    {
     "name": "stdout",
     "output_type": "stream",
     "text": [
      "The secondary weight is[0. 0. 0. 0. 1. 0. 0.]\n",
      "[array([nan, nan, nan, nan, nan, nan, nan]), array([0., 0., 0., 0., 1., 0., 0.])]\n",
      "iteration number:72\n",
      "Iterazione 72 avviata il 2023-08-22 13:11:45.394465\n",
      "0.5005935937203412\n",
      "[nan]\n",
      "The FW weight is: [nan nan nan nan nan nan nan]\n"
     ]
    },
    {
     "name": "stderr",
     "output_type": "stream",
     "text": [
      "C:\\Users\\matteo posenato\\AppData\\Local\\Temp\\ipykernel_9100\\1514477971.py:7: RuntimeWarning: invalid value encountered in scalar divide\n",
      "  value = value_1 / value_3\n"
     ]
    },
    {
     "name": "stdout",
     "output_type": "stream",
     "text": [
      "The secondary weight is[0. 0. 0. 0. 1. 0. 0.]\n",
      "[array([nan, nan, nan, nan, nan, nan, nan]), array([0., 0., 0., 0., 1., 0., 0.])]\n",
      "iteration number:73\n",
      "Iterazione 73 avviata il 2023-08-22 13:12:09.732601\n",
      "0.5005935937203412\n",
      "[nan]\n",
      "The FW weight is: [nan nan nan nan nan nan nan]\n"
     ]
    },
    {
     "name": "stderr",
     "output_type": "stream",
     "text": [
      "C:\\Users\\matteo posenato\\AppData\\Local\\Temp\\ipykernel_9100\\1514477971.py:7: RuntimeWarning: invalid value encountered in scalar divide\n",
      "  value = value_1 / value_3\n"
     ]
    },
    {
     "name": "stdout",
     "output_type": "stream",
     "text": [
      "The secondary weight is[0. 0. 0. 0. 1. 0. 0.]\n",
      "[array([nan, nan, nan, nan, nan, nan, nan]), array([0., 0., 0., 0., 1., 0., 0.])]\n",
      "iteration number:74\n",
      "Iterazione 74 avviata il 2023-08-22 13:12:33.315819\n",
      "0.5005935937203412\n",
      "[nan]\n",
      "The FW weight is: [nan nan nan nan nan nan nan]\n"
     ]
    },
    {
     "name": "stderr",
     "output_type": "stream",
     "text": [
      "C:\\Users\\matteo posenato\\AppData\\Local\\Temp\\ipykernel_9100\\1514477971.py:7: RuntimeWarning: invalid value encountered in scalar divide\n",
      "  value = value_1 / value_3\n"
     ]
    },
    {
     "name": "stdout",
     "output_type": "stream",
     "text": [
      "The secondary weight is[0. 0. 0. 0. 1. 0. 0.]\n",
      "[array([nan, nan, nan, nan, nan, nan, nan]), array([0., 0., 0., 0., 1., 0., 0.])]\n",
      "iteration number:75\n",
      "Iterazione 75 avviata il 2023-08-22 13:12:58.798534\n",
      "0.5005935937203412\n",
      "[nan]\n",
      "The FW weight is: [nan nan nan nan nan nan nan]\n"
     ]
    },
    {
     "name": "stderr",
     "output_type": "stream",
     "text": [
      "C:\\Users\\matteo posenato\\AppData\\Local\\Temp\\ipykernel_9100\\1514477971.py:7: RuntimeWarning: invalid value encountered in scalar divide\n",
      "  value = value_1 / value_3\n"
     ]
    },
    {
     "name": "stdout",
     "output_type": "stream",
     "text": [
      "The secondary weight is[0. 0. 0. 0. 1. 0. 0.]\n",
      "[array([nan, nan, nan, nan, nan, nan, nan]), array([0., 0., 0., 0., 1., 0., 0.])]\n",
      "iteration number:76\n",
      "Iterazione 76 avviata il 2023-08-22 13:13:23.277356\n",
      "0.5005935937203412\n",
      "[nan]\n",
      "The FW weight is: [nan nan nan nan nan nan nan]\n"
     ]
    },
    {
     "name": "stderr",
     "output_type": "stream",
     "text": [
      "C:\\Users\\matteo posenato\\AppData\\Local\\Temp\\ipykernel_9100\\1514477971.py:7: RuntimeWarning: invalid value encountered in scalar divide\n",
      "  value = value_1 / value_3\n"
     ]
    },
    {
     "name": "stdout",
     "output_type": "stream",
     "text": [
      "The secondary weight is[0. 0. 0. 0. 1. 0. 0.]\n",
      "[array([nan, nan, nan, nan, nan, nan, nan]), array([0., 0., 0., 0., 1., 0., 0.])]\n",
      "iteration number:77\n",
      "Iterazione 77 avviata il 2023-08-22 13:13:50.239896\n",
      "0.5005935937203412\n",
      "[nan]\n",
      "The FW weight is: [nan nan nan nan nan nan nan]\n"
     ]
    },
    {
     "name": "stderr",
     "output_type": "stream",
     "text": [
      "C:\\Users\\matteo posenato\\AppData\\Local\\Temp\\ipykernel_9100\\1514477971.py:7: RuntimeWarning: invalid value encountered in scalar divide\n",
      "  value = value_1 / value_3\n"
     ]
    },
    {
     "name": "stdout",
     "output_type": "stream",
     "text": [
      "The secondary weight is[0. 0. 0. 0. 1. 0. 0.]\n",
      "[array([nan, nan, nan, nan, nan, nan, nan]), array([0., 0., 0., 0., 1., 0., 0.])]\n",
      "iteration number:78\n",
      "Iterazione 78 avviata il 2023-08-22 13:14:17.022172\n",
      "0.5005935937203412\n",
      "[nan]\n",
      "The FW weight is: [nan nan nan nan nan nan nan]\n"
     ]
    },
    {
     "name": "stderr",
     "output_type": "stream",
     "text": [
      "C:\\Users\\matteo posenato\\AppData\\Local\\Temp\\ipykernel_9100\\1514477971.py:7: RuntimeWarning: invalid value encountered in scalar divide\n",
      "  value = value_1 / value_3\n"
     ]
    },
    {
     "name": "stdout",
     "output_type": "stream",
     "text": [
      "The secondary weight is[0. 0. 0. 0. 1. 0. 0.]\n",
      "[array([nan, nan, nan, nan, nan, nan, nan]), array([0., 0., 0., 0., 1., 0., 0.])]\n",
      "iteration number:79\n",
      "Iterazione 79 avviata il 2023-08-22 13:14:43.210522\n",
      "0.5005935937203412\n",
      "[nan]\n",
      "The FW weight is: [nan nan nan nan nan nan nan]\n"
     ]
    },
    {
     "name": "stderr",
     "output_type": "stream",
     "text": [
      "C:\\Users\\matteo posenato\\AppData\\Local\\Temp\\ipykernel_9100\\1514477971.py:7: RuntimeWarning: invalid value encountered in scalar divide\n",
      "  value = value_1 / value_3\n"
     ]
    },
    {
     "name": "stdout",
     "output_type": "stream",
     "text": [
      "The secondary weight is[0. 0. 0. 0. 1. 0. 0.]\n",
      "[array([nan, nan, nan, nan, nan, nan, nan]), array([0., 0., 0., 0., 1., 0., 0.])]\n",
      "iteration number:80\n",
      "Iterazione 80 avviata il 2023-08-22 13:15:11.142065\n",
      "0.5005935937203412\n",
      "[nan]\n",
      "The FW weight is: [nan nan nan nan nan nan nan]\n"
     ]
    },
    {
     "name": "stderr",
     "output_type": "stream",
     "text": [
      "C:\\Users\\matteo posenato\\AppData\\Local\\Temp\\ipykernel_9100\\1514477971.py:7: RuntimeWarning: invalid value encountered in scalar divide\n",
      "  value = value_1 / value_3\n"
     ]
    },
    {
     "name": "stdout",
     "output_type": "stream",
     "text": [
      "The secondary weight is[0. 0. 0. 0. 1. 0. 0.]\n",
      "[array([nan, nan, nan, nan, nan, nan, nan]), array([0., 0., 0., 0., 1., 0., 0.])]\n",
      "iteration number:81\n",
      "Iterazione 81 avviata il 2023-08-22 13:15:39.982348\n",
      "0.5005935937203412\n",
      "[nan]\n",
      "The FW weight is: [nan nan nan nan nan nan nan]\n"
     ]
    },
    {
     "name": "stderr",
     "output_type": "stream",
     "text": [
      "C:\\Users\\matteo posenato\\AppData\\Local\\Temp\\ipykernel_9100\\1514477971.py:7: RuntimeWarning: invalid value encountered in scalar divide\n",
      "  value = value_1 / value_3\n"
     ]
    },
    {
     "name": "stdout",
     "output_type": "stream",
     "text": [
      "The secondary weight is[0. 0. 0. 0. 1. 0. 0.]\n",
      "[array([nan, nan, nan, nan, nan, nan, nan]), array([0., 0., 0., 0., 1., 0., 0.])]\n",
      "iteration number:82\n",
      "Iterazione 82 avviata il 2023-08-22 13:16:09.813456\n",
      "0.5005935937203412\n",
      "[nan]\n",
      "The FW weight is: [nan nan nan nan nan nan nan]\n"
     ]
    },
    {
     "name": "stderr",
     "output_type": "stream",
     "text": [
      "C:\\Users\\matteo posenato\\AppData\\Local\\Temp\\ipykernel_9100\\1514477971.py:7: RuntimeWarning: invalid value encountered in scalar divide\n",
      "  value = value_1 / value_3\n"
     ]
    },
    {
     "name": "stdout",
     "output_type": "stream",
     "text": [
      "The secondary weight is[0. 0. 0. 0. 1. 0. 0.]\n",
      "[array([nan, nan, nan, nan, nan, nan, nan]), array([0., 0., 0., 0., 1., 0., 0.])]\n",
      "iteration number:83\n",
      "Iterazione 83 avviata il 2023-08-22 13:16:41.243260\n",
      "0.5005935937203412\n",
      "[nan]\n",
      "The FW weight is: [nan nan nan nan nan nan nan]\n"
     ]
    },
    {
     "name": "stderr",
     "output_type": "stream",
     "text": [
      "C:\\Users\\matteo posenato\\AppData\\Local\\Temp\\ipykernel_9100\\1514477971.py:7: RuntimeWarning: invalid value encountered in scalar divide\n",
      "  value = value_1 / value_3\n"
     ]
    },
    {
     "name": "stdout",
     "output_type": "stream",
     "text": [
      "The secondary weight is[0. 0. 0. 0. 1. 0. 0.]\n",
      "[array([nan, nan, nan, nan, nan, nan, nan]), array([0., 0., 0., 0., 1., 0., 0.])]\n",
      "iteration number:84\n",
      "Iterazione 84 avviata il 2023-08-22 13:17:12.313713\n",
      "0.5005935937203412\n",
      "[nan]\n",
      "The FW weight is: [nan nan nan nan nan nan nan]\n"
     ]
    },
    {
     "name": "stderr",
     "output_type": "stream",
     "text": [
      "C:\\Users\\matteo posenato\\AppData\\Local\\Temp\\ipykernel_9100\\1514477971.py:7: RuntimeWarning: invalid value encountered in scalar divide\n",
      "  value = value_1 / value_3\n"
     ]
    },
    {
     "name": "stdout",
     "output_type": "stream",
     "text": [
      "The secondary weight is[0. 0. 0. 0. 1. 0. 0.]\n",
      "[array([nan, nan, nan, nan, nan, nan, nan]), array([0., 0., 0., 0., 1., 0., 0.])]\n",
      "iteration number:85\n",
      "Iterazione 85 avviata il 2023-08-22 13:17:43.587267\n",
      "0.5005935937203412\n",
      "[nan]\n",
      "The FW weight is: [nan nan nan nan nan nan nan]\n"
     ]
    },
    {
     "name": "stderr",
     "output_type": "stream",
     "text": [
      "C:\\Users\\matteo posenato\\AppData\\Local\\Temp\\ipykernel_9100\\1514477971.py:7: RuntimeWarning: invalid value encountered in scalar divide\n",
      "  value = value_1 / value_3\n"
     ]
    },
    {
     "name": "stdout",
     "output_type": "stream",
     "text": [
      "The secondary weight is[0. 0. 0. 0. 1. 0. 0.]\n",
      "[array([nan, nan, nan, nan, nan, nan, nan]), array([0., 0., 0., 0., 1., 0., 0.])]\n",
      "iteration number:86\n",
      "Iterazione 86 avviata il 2023-08-22 13:18:15.705990\n",
      "0.5005935937203412\n",
      "[nan]\n",
      "The FW weight is: [nan nan nan nan nan nan nan]\n"
     ]
    },
    {
     "name": "stderr",
     "output_type": "stream",
     "text": [
      "C:\\Users\\matteo posenato\\AppData\\Local\\Temp\\ipykernel_9100\\1514477971.py:7: RuntimeWarning: invalid value encountered in scalar divide\n",
      "  value = value_1 / value_3\n"
     ]
    },
    {
     "name": "stdout",
     "output_type": "stream",
     "text": [
      "The secondary weight is[0. 0. 0. 0. 1. 0. 0.]\n",
      "[array([nan, nan, nan, nan, nan, nan, nan]), array([0., 0., 0., 0., 1., 0., 0.])]\n",
      "iteration number:87\n",
      "Iterazione 87 avviata il 2023-08-22 13:18:48.000159\n",
      "0.5005935937203412\n",
      "[nan]\n",
      "The FW weight is: [nan nan nan nan nan nan nan]\n"
     ]
    },
    {
     "name": "stderr",
     "output_type": "stream",
     "text": [
      "C:\\Users\\matteo posenato\\AppData\\Local\\Temp\\ipykernel_9100\\1514477971.py:7: RuntimeWarning: invalid value encountered in scalar divide\n",
      "  value = value_1 / value_3\n"
     ]
    },
    {
     "name": "stdout",
     "output_type": "stream",
     "text": [
      "The secondary weight is[0. 0. 0. 0. 1. 0. 0.]\n",
      "[array([nan, nan, nan, nan, nan, nan, nan]), array([0., 0., 0., 0., 1., 0., 0.])]\n",
      "iteration number:88\n",
      "Iterazione 88 avviata il 2023-08-22 13:19:20.308871\n",
      "0.5005935937203412\n",
      "[nan]\n",
      "The FW weight is: [nan nan nan nan nan nan nan]\n"
     ]
    },
    {
     "name": "stderr",
     "output_type": "stream",
     "text": [
      "C:\\Users\\matteo posenato\\AppData\\Local\\Temp\\ipykernel_9100\\1514477971.py:7: RuntimeWarning: invalid value encountered in scalar divide\n",
      "  value = value_1 / value_3\n"
     ]
    },
    {
     "name": "stdout",
     "output_type": "stream",
     "text": [
      "The secondary weight is[0. 0. 0. 0. 1. 0. 0.]\n",
      "[array([nan, nan, nan, nan, nan, nan, nan]), array([0., 0., 0., 0., 1., 0., 0.])]\n",
      "iteration number:89\n",
      "Iterazione 89 avviata il 2023-08-22 13:19:52.461353\n",
      "0.5005935937203412\n",
      "[nan]\n",
      "The FW weight is: [nan nan nan nan nan nan nan]\n"
     ]
    },
    {
     "name": "stderr",
     "output_type": "stream",
     "text": [
      "C:\\Users\\matteo posenato\\AppData\\Local\\Temp\\ipykernel_9100\\1514477971.py:7: RuntimeWarning: invalid value encountered in scalar divide\n",
      "  value = value_1 / value_3\n"
     ]
    },
    {
     "name": "stdout",
     "output_type": "stream",
     "text": [
      "The secondary weight is[0. 0. 0. 0. 1. 0. 0.]\n",
      "[array([nan, nan, nan, nan, nan, nan, nan]), array([0., 0., 0., 0., 1., 0., 0.])]\n",
      "iteration number:90\n",
      "Iterazione 90 avviata il 2023-08-22 13:20:25.884419\n",
      "0.5005935937203412\n",
      "[nan]\n",
      "The FW weight is: [nan nan nan nan nan nan nan]\n"
     ]
    },
    {
     "name": "stderr",
     "output_type": "stream",
     "text": [
      "C:\\Users\\matteo posenato\\AppData\\Local\\Temp\\ipykernel_9100\\1514477971.py:7: RuntimeWarning: invalid value encountered in scalar divide\n",
      "  value = value_1 / value_3\n"
     ]
    },
    {
     "name": "stdout",
     "output_type": "stream",
     "text": [
      "The secondary weight is[0. 0. 0. 0. 1. 0. 0.]\n",
      "[array([nan, nan, nan, nan, nan, nan, nan]), array([0., 0., 0., 0., 1., 0., 0.])]\n",
      "iteration number:91\n",
      "Iterazione 91 avviata il 2023-08-22 13:20:58.350420\n",
      "0.5005935937203412\n",
      "[nan]\n",
      "The FW weight is: [nan nan nan nan nan nan nan]\n"
     ]
    },
    {
     "name": "stderr",
     "output_type": "stream",
     "text": [
      "C:\\Users\\matteo posenato\\AppData\\Local\\Temp\\ipykernel_9100\\1514477971.py:7: RuntimeWarning: invalid value encountered in scalar divide\n",
      "  value = value_1 / value_3\n"
     ]
    },
    {
     "name": "stdout",
     "output_type": "stream",
     "text": [
      "The secondary weight is[0. 0. 0. 0. 1. 0. 0.]\n",
      "[array([nan, nan, nan, nan, nan, nan, nan]), array([0., 0., 0., 0., 1., 0., 0.])]\n",
      "iteration number:92\n",
      "Iterazione 92 avviata il 2023-08-22 13:21:31.475589\n",
      "0.5005935937203412\n",
      "[nan]\n",
      "The FW weight is: [nan nan nan nan nan nan nan]\n"
     ]
    },
    {
     "name": "stderr",
     "output_type": "stream",
     "text": [
      "C:\\Users\\matteo posenato\\AppData\\Local\\Temp\\ipykernel_9100\\1514477971.py:7: RuntimeWarning: invalid value encountered in scalar divide\n",
      "  value = value_1 / value_3\n"
     ]
    },
    {
     "name": "stdout",
     "output_type": "stream",
     "text": [
      "The secondary weight is[0. 0. 0. 0. 1. 0. 0.]\n",
      "[array([nan, nan, nan, nan, nan, nan, nan]), array([0., 0., 0., 0., 1., 0., 0.])]\n",
      "iteration number:93\n",
      "Iterazione 93 avviata il 2023-08-22 13:22:04.929895\n",
      "0.5005935937203412\n",
      "[nan]\n",
      "The FW weight is: [nan nan nan nan nan nan nan]\n"
     ]
    },
    {
     "name": "stderr",
     "output_type": "stream",
     "text": [
      "C:\\Users\\matteo posenato\\AppData\\Local\\Temp\\ipykernel_9100\\1514477971.py:7: RuntimeWarning: invalid value encountered in scalar divide\n",
      "  value = value_1 / value_3\n"
     ]
    },
    {
     "name": "stdout",
     "output_type": "stream",
     "text": [
      "The secondary weight is[0. 0. 0. 0. 1. 0. 0.]\n",
      "[array([nan, nan, nan, nan, nan, nan, nan]), array([0., 0., 0., 0., 1., 0., 0.])]\n",
      "iteration number:94\n",
      "Iterazione 94 avviata il 2023-08-22 13:22:37.850485\n",
      "0.5005935937203412\n",
      "[nan]\n",
      "The FW weight is: [nan nan nan nan nan nan nan]\n"
     ]
    },
    {
     "name": "stderr",
     "output_type": "stream",
     "text": [
      "C:\\Users\\matteo posenato\\AppData\\Local\\Temp\\ipykernel_9100\\1514477971.py:7: RuntimeWarning: invalid value encountered in scalar divide\n",
      "  value = value_1 / value_3\n"
     ]
    },
    {
     "name": "stdout",
     "output_type": "stream",
     "text": [
      "The secondary weight is[0. 0. 0. 0. 1. 0. 0.]\n",
      "[array([nan, nan, nan, nan, nan, nan, nan]), array([0., 0., 0., 0., 1., 0., 0.])]\n",
      "iteration number:95\n",
      "Iterazione 95 avviata il 2023-08-22 13:23:11.414987\n",
      "0.5005935937203412\n",
      "[nan]\n",
      "The FW weight is: [nan nan nan nan nan nan nan]\n"
     ]
    },
    {
     "name": "stderr",
     "output_type": "stream",
     "text": [
      "C:\\Users\\matteo posenato\\AppData\\Local\\Temp\\ipykernel_9100\\1514477971.py:7: RuntimeWarning: invalid value encountered in scalar divide\n",
      "  value = value_1 / value_3\n"
     ]
    },
    {
     "name": "stdout",
     "output_type": "stream",
     "text": [
      "The secondary weight is[0. 0. 0. 0. 1. 0. 0.]\n",
      "[array([nan, nan, nan, nan, nan, nan, nan]), array([0., 0., 0., 0., 1., 0., 0.])]\n",
      "iteration number:96\n",
      "Iterazione 96 avviata il 2023-08-22 13:23:44.493542\n",
      "0.5005935937203412\n",
      "[nan]\n",
      "The FW weight is: [nan nan nan nan nan nan nan]\n"
     ]
    },
    {
     "name": "stderr",
     "output_type": "stream",
     "text": [
      "C:\\Users\\matteo posenato\\AppData\\Local\\Temp\\ipykernel_9100\\1514477971.py:7: RuntimeWarning: invalid value encountered in scalar divide\n",
      "  value = value_1 / value_3\n"
     ]
    },
    {
     "name": "stdout",
     "output_type": "stream",
     "text": [
      "The secondary weight is[0. 0. 0. 0. 1. 0. 0.]\n",
      "[array([nan, nan, nan, nan, nan, nan, nan]), array([0., 0., 0., 0., 1., 0., 0.])]\n",
      "iteration number:97\n",
      "Iterazione 97 avviata il 2023-08-22 13:24:19.249778\n",
      "0.5005935937203412\n",
      "[nan]\n",
      "The FW weight is: [nan nan nan nan nan nan nan]\n"
     ]
    },
    {
     "name": "stderr",
     "output_type": "stream",
     "text": [
      "C:\\Users\\matteo posenato\\AppData\\Local\\Temp\\ipykernel_9100\\1514477971.py:7: RuntimeWarning: invalid value encountered in scalar divide\n",
      "  value = value_1 / value_3\n"
     ]
    },
    {
     "name": "stdout",
     "output_type": "stream",
     "text": [
      "The secondary weight is[0. 0. 0. 0. 1. 0. 0.]\n",
      "[array([nan, nan, nan, nan, nan, nan, nan]), array([0., 0., 0., 0., 1., 0., 0.])]\n",
      "iteration number:98\n",
      "Iterazione 98 avviata il 2023-08-22 13:24:55.089338\n",
      "0.5005935937203412\n",
      "[nan]\n",
      "The FW weight is: [nan nan nan nan nan nan nan]\n"
     ]
    },
    {
     "name": "stderr",
     "output_type": "stream",
     "text": [
      "C:\\Users\\matteo posenato\\AppData\\Local\\Temp\\ipykernel_9100\\1514477971.py:7: RuntimeWarning: invalid value encountered in scalar divide\n",
      "  value = value_1 / value_3\n"
     ]
    },
    {
     "name": "stdout",
     "output_type": "stream",
     "text": [
      "The secondary weight is[0. 0. 0. 0. 1. 0. 0.]\n",
      "[array([nan, nan, nan, nan, nan, nan, nan]), array([0., 0., 0., 0., 1., 0., 0.])]\n",
      "iteration number:99\n",
      "Iterazione 99 avviata il 2023-08-22 13:25:30.082323\n",
      "0.5005935937203412\n",
      "[nan]\n",
      "The FW weight is: [nan nan nan nan nan nan nan]\n"
     ]
    },
    {
     "name": "stderr",
     "output_type": "stream",
     "text": [
      "C:\\Users\\matteo posenato\\AppData\\Local\\Temp\\ipykernel_9100\\1514477971.py:7: RuntimeWarning: invalid value encountered in scalar divide\n",
      "  value = value_1 / value_3\n"
     ]
    },
    {
     "name": "stdout",
     "output_type": "stream",
     "text": [
      "The secondary weight is[0. 0. 0. 0. 1. 0. 0.]\n",
      "[array([nan, nan, nan, nan, nan, nan, nan]), array([0., 0., 0., 0., 1., 0., 0.])]\n"
     ]
    }
   ],
   "source": [
    "#shortstep FW\n",
    "#set parameters\n",
    "v = 424\n",
    "T = 100\n",
    "e = 0.01\n",
    "epsilon = 100\n",
    "N = (2 * np.log(m/v))/e\n",
    "#create all the variables that we need\n",
    "E_t = []\n",
    "E_t_plus_1 = [ej1]\n",
    "d_values =[]\n",
    "for t in range(1, T):\n",
    "    print(\"iteration number:{}\".format(t))\n",
    "    current_datetime = datetime.datetime.now()\n",
    "    print(f\"Iterazione {t} avviata il {current_datetime}\")\n",
    "    #create the distribution d_t\n",
    "    d, result = minimize_expression(A2, w, N, v)\n",
    "    #obtain the hypothesis h_j+1 and e_j+1\n",
    "    d_values.append(result)\n",
    "    h2= weak_learner(X_train,y_train,result)\n",
    "    hj_2 = h2.tree_.threshold.reshape(-1, 1)# Total number of hypotheses in the set\n",
    "    hj_2_index = np.argmax(hj_2)  # Find the index of the predicted hypothesis\n",
    "    num_hypotheses = len(hj_2)  # Total number of hypotheses in the set H\n",
    "    ej2 = encode_hypothesis(hj_2_index, num_hypotheses)\n",
    "    for tau in range(t):\n",
    "        val_1 = np.min(np.dot(d_values[tau], A2))\n",
    "        val_2 = expression(d)\n",
    "        epsilon_1 = np.abs(val_1 + val_2) \n",
    "        if epsilon_1 < epsilon:\n",
    "            epsilon = epsilon_1\n",
    "    print(epsilon)\n",
    "    if epsilon <= (e/2):\n",
    "        print(\"achieve the opptimality gap\")\n",
    "        break\n",
    "    E_t_plus_1.insert(t, ej2)\n",
    "    #compute the FW weight\n",
    "    w_1 = short_step_FW(A2, ej2, w, result)\n",
    "    print(\"The FW weight is: {}\".format(w_1))\n",
    "    #calculate secondary weigths\n",
    "    result_w, result_value = maximize_w_in_convex_hull(E_t_plus_1, A2, w)\n",
    "    w_2 = result_w\n",
    "    print(\"The secondary weight is{}\".format(w_2))\n",
    "    f_w = []\n",
    "    f_w.insert(0, w_1)\n",
    "    f_w.insert(1, w_2)\n",
    "    print(f_w)\n",
    "    f_w = [array.tolist() for array in f_w]\n",
    "    best_w, v = update_weights(f_w)\n",
    "    w = best_w"
   ]
  },
  {
   "cell_type": "code",
   "execution_count": 52,
   "id": "a3e1699e",
   "metadata": {},
   "outputs": [
    {
     "name": "stdout",
     "output_type": "stream",
     "text": [
      "iteration number:1\n",
      "Iterazione 1 avviata il 2023-08-22 15:15:52.608149\n",
      "0.5224302091715749\n"
     ]
    },
    {
     "ename": "NameError",
     "evalue": "name 'A' is not defined",
     "output_type": "error",
     "traceback": [
      "\u001b[1;31m---------------------------------------------------------------------------\u001b[0m",
      "\u001b[1;31mNameError\u001b[0m                                 Traceback (most recent call last)",
      "Cell \u001b[1;32mIn[52], line 37\u001b[0m\n\u001b[0;32m     35\u001b[0m E_t_plus_1\u001b[38;5;241m.\u001b[39minsert(t, ej2)\n\u001b[0;32m     36\u001b[0m \u001b[38;5;66;03m#compute the FW weight\u001b[39;00m\n\u001b[1;32m---> 37\u001b[0m e_away \u001b[38;5;241m=\u001b[39m pairwise_FW(\u001b[43mA\u001b[49m, result, E_T_plus_one)\n\u001b[0;32m     38\u001b[0m a \u001b[38;5;241m=\u001b[39m []\n\u001b[0;32m     39\u001b[0m \u001b[38;5;28;01mfor\u001b[39;00m i \u001b[38;5;129;01min\u001b[39;00m \u001b[38;5;28mrange\u001b[39m(\u001b[38;5;28mlen\u001b[39m(e_away)):\n",
      "\u001b[1;31mNameError\u001b[0m: name 'A' is not defined"
     ]
    }
   ],
   "source": [
    "#pairwise FW\n",
    "#set parameters\n",
    "v = 424\n",
    "T = 100\n",
    "e = 0.01\n",
    "epsilon = 100\n",
    "N = (2 * np.log(m/v))/e\n",
    "#create all the variables that we need\n",
    "E_t = []\n",
    "E_t_plus_1 = [ej1]\n",
    "d_values =[]\n",
    "for t in range(1, T):\n",
    "    print(\"iteration number:{}\".format(t))\n",
    "    current_datetime = datetime.datetime.now()\n",
    "    print(f\"Iterazione {t} avviata il {current_datetime}\")\n",
    "    #create the distribution d_t\n",
    "    d, result = minimize_expression(A2, w, N, v)\n",
    "    #obtain the hypothesis h_j+1 and e_j+1\n",
    "    d_values.append(result)\n",
    "    h2= weak_learner(X_train,y_train,result)\n",
    "    hj_2 = h2.tree_.threshold.reshape(-1, 1)# Total number of hypotheses in the set\n",
    "    hj_2_index = np.argmax(hj_2)  # Find the index of the predicted hypothesis\n",
    "    num_hypotheses = len(hj_2)  # Total number of hypotheses in the set H\n",
    "    ej2 = encode_hypothesis(hj_2_index, num_hypotheses)\n",
    "    for tau in range(t):\n",
    "        val_1 = np.min(np.dot(d_values[tau], A2))\n",
    "        val_2 = expression(d)\n",
    "        epsilon_1 = np.abs(val_1 + val_2) \n",
    "        if epsilon_1 < epsilon:\n",
    "            epsilon = epsilon_1\n",
    "    print(epsilon)\n",
    "    if epsilon <= (e/2):\n",
    "        print(\"achieve the opptimality gap\")\n",
    "        break\n",
    "    E_t_plus_1.insert(t, ej2)\n",
    "    #compute the FW weight\n",
    "    e_away = pairwise_FW(A, result, E_T_plus_one)\n",
    "    a = []\n",
    "    for i in range(len(e_away)):\n",
    "        if e_away[i] == w[i]:\n",
    "            a[i] = 1\n",
    "        else:\n",
    "            a[i] = 0\n",
    "    #set lamb_t_max\n",
    "    lamb_t_max = a\n",
    "    print(lamb_t_max)\n",
    "    #calculate lamb_t\n",
    "    best_lamb = None \n",
    "    for s in range(lamb_t_max + 1):\n",
    "        value = step_size(s)\n",
    "        if value < best_lamb:\n",
    "            best_lamb = value\n",
    "    w_1 = w + best_lamb * (ej_2 - e_away)\n",
    "    print(\"The FW weight is: {}\".format(w_1))\n",
    "    #calculate secondary weigths\n",
    "    result_w, result_value = maximize_w_in_convex_hull(E_t_plus_1, A2, w)\n",
    "    w_2 = result_w\n",
    "    print(\"The secondary weight is{}\".format(w_2))\n",
    "    f_w = []\n",
    "    f_w.insert(0, w_1)\n",
    "    f_w.insert(1, w_2)\n",
    "    print(f_w)\n",
    "    f_w = [array.tolist() for array in f_w]\n",
    "    best_w, v = update_weights(f_w)\n",
    "    w = best_w"
   ]
  },
  {
   "cell_type": "code",
   "execution_count": null,
   "id": "6289e151",
   "metadata": {},
   "outputs": [],
   "source": []
  }
 ],
 "metadata": {
  "kernelspec": {
   "display_name": "Python 3 (ipykernel)",
   "language": "python",
   "name": "python3"
  },
  "language_info": {
   "codemirror_mode": {
    "name": "ipython",
    "version": 3
   },
   "file_extension": ".py",
   "mimetype": "text/x-python",
   "name": "python",
   "nbconvert_exporter": "python",
   "pygments_lexer": "ipython3",
   "version": "3.10.9"
  }
 },
 "nbformat": 4,
 "nbformat_minor": 5
}
