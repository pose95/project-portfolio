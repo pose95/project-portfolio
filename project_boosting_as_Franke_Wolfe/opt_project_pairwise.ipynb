{
 "cells": [
  {
   "cell_type": "code",
   "execution_count": 1,
   "id": "20b08d52",
   "metadata": {},
   "outputs": [],
   "source": [
    "import pandas as pd\n",
    "import numpy as np\n",
    "from sklearn.model_selection import train_test_split\n",
    "from sklearn.tree import DecisionTreeClassifier\n",
    "import math\n",
    "from scipy.optimize import minimize\n",
    "from scipy.spatial import ConvexHull\n",
    "from scipy.linalg import norm\n",
    "from scipy.optimize import minimize_scalar\n",
    "\n",
    "path= 'C:\\\\Users\\\\matteo posenato\\\\Documents\\\\optimization\\\\project\\\\banana.csv'\n",
    "data = pd.read_csv(path, sep=',')"
   ]
  },
  {
   "cell_type": "code",
   "execution_count": 2,
   "id": "b21dbe29",
   "metadata": {},
   "outputs": [],
   "source": [
    "def regularize_data(data):\n",
    "    data = data[data.At1 < 1]\n",
    "    data = data[data.At1 > -1]\n",
    "    data = data[data.At2 < 1]\n",
    "    data = data[data.At2 > -1]\n",
    "    data = data.reset_index(drop = True)\n",
    "    return data\n",
    "def canonical_basis_vector(size, index):\n",
    "    vector = np.zeros(size)\n",
    "    vector[index] = 1\n",
    "    return vector\n",
    "def create_d_t(d, A, w):\n",
    "    m = len(d)\n",
    "    delta = np.sum(d * np.log(d)) + np.log(m)\n",
    "    result = np.dot(d.T, np.dot(A, w))\n",
    "    result += (1/m) * delta\n",
    "    return result"
   ]
  },
  {
   "cell_type": "code",
   "execution_count": 3,
   "id": "2f725c83",
   "metadata": {},
   "outputs": [],
   "source": [
    "data_r = regularize_data(data)"
   ]
  },
  {
   "cell_type": "code",
   "execution_count": 4,
   "id": "7dcd5828",
   "metadata": {},
   "outputs": [],
   "source": [
    "def weak_learner(data, weights=None):\n",
    "    X = data.iloc[:, :-1]\n",
    "    y = data.Class\n",
    "    model = DecisionTreeClassifier(max_depth=2)\n",
    "    if weights is not None:\n",
    "        model.fit(X, y, sample_weight=weights)\n",
    "    else:\n",
    "        model.fit(X,y)\n",
    "    h = model.predict(X)\n",
    "    #return our hypothesis space\n",
    "    return h, X, y"
   ]
  },
  {
   "cell_type": "code",
   "execution_count": 5,
   "id": "9a148d4e",
   "metadata": {},
   "outputs": [],
   "source": [
    "h, X, y = weak_learner(data_r)"
   ]
  },
  {
   "cell_type": "code",
   "execution_count": 6,
   "id": "b168fa60",
   "metadata": {},
   "outputs": [],
   "source": [
    "def create_A(h, X, y):\n",
    "    m = len(h)  \n",
    "    #create A\n",
    "    A = np.zeros((m, m))\n",
    "    for i in range(m):\n",
    "        for j in range(m):\n",
    "            value = y[i] * h[j]\n",
    "            A[i][j] = value\n",
    "    return A, m"
   ]
  },
  {
   "cell_type": "code",
   "execution_count": 7,
   "id": "60c66ecb",
   "metadata": {},
   "outputs": [],
   "source": [
    "A, m = create_A(h, X, y)"
   ]
  },
  {
   "cell_type": "code",
   "execution_count": 8,
   "id": "1ebd9c60",
   "metadata": {},
   "outputs": [],
   "source": [
    "d0 = np.zeros(m)\n",
    "for i in range(m):\n",
    "    d0[i] = 1/m "
   ]
  },
  {
   "cell_type": "code",
   "execution_count": 9,
   "id": "c38cbc6d",
   "metadata": {},
   "outputs": [],
   "source": [
    "hj_1, X, y = weak_learner(data_r, weights=d0)\n",
    "e_j = canonical_basis_vector(m, 1)\n",
    "w = np.zeros(m)\n",
    "w[1] = e_j[1]"
   ]
  },
  {
   "cell_type": "code",
   "execution_count": 12,
   "id": "56a34de9",
   "metadata": {},
   "outputs": [
    {
     "name": "stderr",
     "output_type": "stream",
     "text": [
      "C:\\Users\\matteo posenato\\AppData\\Local\\Temp\\ipykernel_10232\\1915115368.py:14: RuntimeWarning: invalid value encountered in log\n",
      "  delta = np.sum(d * np.log(d)) + np.log(m)\n"
     ]
    },
    {
     "name": "stdout",
     "output_type": "stream",
     "text": [
      "Il primo vettore minimizza di più la funzione.\n",
      "argmin1: 0.0\n",
      "Il primo vettore minimizza di più la funzione.\n",
      "argmin1: 0.0\n",
      "Il primo vettore minimizza di più la funzione.\n",
      "argmin1: 0.0\n",
      "Il primo vettore minimizza di più la funzione.\n",
      "argmin1: 0.0\n"
     ]
    }
   ],
   "source": [
    "#set the paratemeter T \n",
    "T = 5\n",
    "#create all the variables that we need\n",
    "E_t = []\n",
    "E_t.insert(0, e_j)\n",
    "lamb = []\n",
    "for t in range(1, T):\n",
    "    #create the distribution d_t\n",
    "    t_n = t + 1\n",
    "    result = minimize(create_d_t, x0=d0, args=(A, w))\n",
    "    d0[t] = result.x[1]\n",
    "    #obtain the hypothesis h_j+1 and e_j+1\n",
    "    e_j_next = canonical_basis_vector(m, t_n)\n",
    "    h_j_nect = h[t_n]\n",
    "    E_t.insert(t_n, e_j_next)\n",
    "    #compute the parwise weight\n",
    "    w_1= []\n",
    "    my_f = lambda x, A, e_j: np.dot(d0.T, np.dot(A, x))\n",
    "    e_away = minimize(my_f, x0=e_j, args=(A, d0)).x\n",
    "    def compute_alpha(w, e):\n",
    "        alpha.append(w[np.nonzero(e)])\n",
    "        return alpha\n",
    "    alpha = []\n",
    "    for e in E_t:\n",
    "        alpha = compute_alpha(w, e)\n",
    "    lamb_max = compute_alpha(e_away, w)\n",
    "    def my_f(lamb, w, e_j_next, e_away, d0, A):\n",
    "        r = w + lamb * (e_j_next - e_away)\n",
    "        my_f_value = np.dot(d0.T, -A.dot(r))\n",
    "        return my_f_value\n",
    "    lamb = minimize_scalar(my_f, bounds=(0, lamb_max[t]), args=(w, e_j_next, e_away, d0, A)).x\n",
    "    w_1.insert(0, w + lamb* (e_j_next - e_away))\n",
    "    #compute the secondary weight\n",
    "    w_2 = []\n",
    "    my_f = lambda x, A, w: np.dot(d0.T, np.dot(A, x))\n",
    "    result = minimize(my_f, x0=d0, args=(A, w))\n",
    "    w_2.append(result.x)\n",
    "    #update the weight\n",
    "    w_f = np.array([w_1[0], w_2[0]])\n",
    "    def f(w):\n",
    "        return np.dot(d0.T, -np.dot(A, w))\n",
    "    def f_1(x, w):\n",
    "        if x == 0:\n",
    "            return f(w[0])\n",
    "        elif x == 1:\n",
    "            return f(w[1])\n",
    "\n",
    "    # Trova l'argomento che minimizza la funzione per il primo vettore\n",
    "    result_1 = minimize_scalar(f_1, args=(w_f,), bounds=(0, 0), method='bounded')\n",
    "    arg_min_1 = result_1.x\n",
    "\n",
    "    # Trova l'argomento che minimizza la funzione per il secondo vettore\n",
    "    result_2 = minimize_scalar(f_1, args=(w_f,), bounds=(1, 1), method='bounded')\n",
    "    arg_min_2 = result_2.x\n",
    "    # Confronta i risultati per determinare quale valore minimizza di più la funzione\n",
    "    if arg_min_1 < arg_min_2:\n",
    "        # Il primo vettore minimizza di più la funzione\n",
    "        print(\"Il primo vettore minimizza di più la funzione.\")\n",
    "        print(\"argmin1: {}\".format(arg_min_1))\n",
    "        w[t_n] = arg_min_1\n",
    "    elif arg_min_1 > arg_min_2:\n",
    "        # Il secondo vettore minimizza di più la funzione\n",
    "        print(\"Il secondo vettore minimizza di più la funzione.\")\n",
    "        print(\"argmin2: {}\".format(arg_min_2))\n",
    "        w[t_n] = arg_min_2\n",
    "    else:\n",
    "        # Entrambi i valori sono uguali\n",
    "        print(\"Entrambi i valori minimizzano la funzione allo stesso modo.\")"
   ]
  },
  {
   "cell_type": "code",
   "execution_count": 1,
   "id": "4a5661e6",
   "metadata": {},
   "outputs": [],
   "source": [
    "def pairwise_FW(A, d, E_t):\n",
    "    best_e = None\n",
    "    E_t = E_t_plus_one[:-1]\n",
    "    for e in E_t:\n",
    "        value = expression_f(A, d, e)\n",
    "        if value < best_e:\n",
    "            best_e = value\n",
    "    return best_e\n",
    "def expression_f(A, d, e):\n",
    "    return np.dot(d.T, np.dot(A, e))\n",
    "def step_size(s):\n",
    "    value_0 = (ej_2 - e_away)\n",
    "    value_1 = s(value_0)\n",
    "    value_2 = w + value_1\n",
    "    value_3 = np.dot(-A, value_2)\n",
    "    value = value_3 + (1/N)* delta(result)\n",
    "e_away = pairwise_FW(A, result, E_T_plus_one)\n",
    "a = []\n",
    "for i in range(len(e_away)):\n",
    "    if e_away[i] == w[i]:\n",
    "        a[i] = 1\n",
    "    else:\n",
    "        a[i] = 0\n",
    "#set lamb_t_max\n",
    "lamb_t_max = a\n",
    "#calculate lamb_t\n",
    "best_lamb = None \n",
    "for s in range(0:lamb_t_max):\n",
    "    value = step_size(s)\n",
    "    if value < best_lamb:\n",
    "        best_lamb = value\n",
    "w_1 = w + best_lamb * (ej_2 - e_away)\n"
   ]
  },
  {
   "cell_type": "code",
   "execution_count": null,
   "id": "5f8c7016",
   "metadata": {},
   "outputs": [],
   "source": []
  }
 ],
 "metadata": {
  "kernelspec": {
   "display_name": "Python 3 (ipykernel)",
   "language": "python",
   "name": "python3"
  },
  "language_info": {
   "codemirror_mode": {
    "name": "ipython",
    "version": 3
   },
   "file_extension": ".py",
   "mimetype": "text/x-python",
   "name": "python",
   "nbconvert_exporter": "python",
   "pygments_lexer": "ipython3",
   "version": "3.10.9"
  }
 },
 "nbformat": 4,
 "nbformat_minor": 5
}
