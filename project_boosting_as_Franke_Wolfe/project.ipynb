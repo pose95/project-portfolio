{
 "cells": [
  {
   "cell_type": "code",
   "execution_count": 386,
   "id": "f1a10181",
   "metadata": {},
   "outputs": [],
   "source": [
    "import pandas as pd\n",
    "import numpy as np\n",
    "from sklearn.model_selection import train_test_split\n",
    "from sklearn.tree import DecisionTreeClassifier\n",
    "import math\n",
    "from scipy.optimize import minimize\n",
    "from scipy.spatial import ConvexHull\n",
    "from scipy.linalg import norm\n",
    "from scipy.optimize import minimize_scalar\n",
    "\n",
    "path= 'C:\\\\Users\\\\matteo posenato\\\\Documents\\\\optimization\\\\project\\\\banana.csv'\n",
    "data = pd.read_csv(path, sep=',')"
   ]
  },
  {
   "cell_type": "code",
   "execution_count": 387,
   "id": "fa0f893d",
   "metadata": {},
   "outputs": [
    {
     "data": {
      "text/plain": [
       "(5300, 3)"
      ]
     },
     "execution_count": 387,
     "metadata": {},
     "output_type": "execute_result"
    }
   ],
   "source": [
    "\n",
    "data.shape"
   ]
  },
  {
   "cell_type": "code",
   "execution_count": 388,
   "id": "93092e41",
   "metadata": {},
   "outputs": [
    {
     "data": {
      "text/html": [
       "<div>\n",
       "<style scoped>\n",
       "    .dataframe tbody tr th:only-of-type {\n",
       "        vertical-align: middle;\n",
       "    }\n",
       "\n",
       "    .dataframe tbody tr th {\n",
       "        vertical-align: top;\n",
       "    }\n",
       "\n",
       "    .dataframe thead th {\n",
       "        text-align: right;\n",
       "    }\n",
       "</style>\n",
       "<table border=\"1\" class=\"dataframe\">\n",
       "  <thead>\n",
       "    <tr style=\"text-align: right;\">\n",
       "      <th></th>\n",
       "      <th>At1</th>\n",
       "      <th>At2</th>\n",
       "      <th>Class</th>\n",
       "    </tr>\n",
       "  </thead>\n",
       "  <tbody>\n",
       "    <tr>\n",
       "      <th>0</th>\n",
       "      <td>1.140</td>\n",
       "      <td>-0.114</td>\n",
       "      <td>-1</td>\n",
       "    </tr>\n",
       "    <tr>\n",
       "      <th>1</th>\n",
       "      <td>-1.520</td>\n",
       "      <td>-1.150</td>\n",
       "      <td>1</td>\n",
       "    </tr>\n",
       "    <tr>\n",
       "      <th>2</th>\n",
       "      <td>-1.050</td>\n",
       "      <td>0.720</td>\n",
       "      <td>-1</td>\n",
       "    </tr>\n",
       "    <tr>\n",
       "      <th>3</th>\n",
       "      <td>-0.916</td>\n",
       "      <td>0.397</td>\n",
       "      <td>1</td>\n",
       "    </tr>\n",
       "    <tr>\n",
       "      <th>4</th>\n",
       "      <td>-1.090</td>\n",
       "      <td>0.437</td>\n",
       "      <td>1</td>\n",
       "    </tr>\n",
       "  </tbody>\n",
       "</table>\n",
       "</div>"
      ],
      "text/plain": [
       "     At1    At2  Class\n",
       "0  1.140 -0.114     -1\n",
       "1 -1.520 -1.150      1\n",
       "2 -1.050  0.720     -1\n",
       "3 -0.916  0.397      1\n",
       "4 -1.090  0.437      1"
      ]
     },
     "execution_count": 388,
     "metadata": {},
     "output_type": "execute_result"
    }
   ],
   "source": [
    "data.head()"
   ]
  },
  {
   "cell_type": "code",
   "execution_count": 389,
   "id": "773d05f9",
   "metadata": {},
   "outputs": [],
   "source": [
    "def regularize_data(data):\n",
    "    data = data[data.At1 < 1]\n",
    "    data = data[data.At1 > -1]\n",
    "    data = data[data.At2 < 1]\n",
    "    data = data[data.At2 > -1]\n",
    "    data = data.reset_index(drop = True)\n",
    "    return data\n",
    "def canonical_basis_vector(size, index):\n",
    "    vector = np.zeros(size)\n",
    "    vector[index] = 1\n",
    "    return vector\n",
    "def create_d_t(d, A, w):\n",
    "    m = len(d)\n",
    "    delta = np.sum(d * np.log(d)) + np.log(m)\n",
    "    result = np.dot(d.T, np.dot(A, w))\n",
    "    result += (1/m) * delta\n",
    "    return result"
   ]
  },
  {
   "cell_type": "code",
   "execution_count": 390,
   "id": "e8da0346",
   "metadata": {},
   "outputs": [],
   "source": [
    "data_r = regularize_data(data)"
   ]
  },
  {
   "cell_type": "code",
   "execution_count": 391,
   "id": "488fc306",
   "metadata": {},
   "outputs": [
    {
     "data": {
      "text/plain": [
       "(1745, 3)"
      ]
     },
     "execution_count": 391,
     "metadata": {},
     "output_type": "execute_result"
    }
   ],
   "source": [
    "data_r.shape"
   ]
  },
  {
   "cell_type": "code",
   "execution_count": 392,
   "id": "1a9d3658",
   "metadata": {},
   "outputs": [
    {
     "data": {
      "text/html": [
       "<div>\n",
       "<style scoped>\n",
       "    .dataframe tbody tr th:only-of-type {\n",
       "        vertical-align: middle;\n",
       "    }\n",
       "\n",
       "    .dataframe tbody tr th {\n",
       "        vertical-align: top;\n",
       "    }\n",
       "\n",
       "    .dataframe thead th {\n",
       "        text-align: right;\n",
       "    }\n",
       "</style>\n",
       "<table border=\"1\" class=\"dataframe\">\n",
       "  <thead>\n",
       "    <tr style=\"text-align: right;\">\n",
       "      <th></th>\n",
       "      <th>At1</th>\n",
       "      <th>At2</th>\n",
       "      <th>Class</th>\n",
       "    </tr>\n",
       "  </thead>\n",
       "  <tbody>\n",
       "    <tr>\n",
       "      <th>0</th>\n",
       "      <td>-0.916</td>\n",
       "      <td>0.3970</td>\n",
       "      <td>1</td>\n",
       "    </tr>\n",
       "    <tr>\n",
       "      <th>1</th>\n",
       "      <td>-0.584</td>\n",
       "      <td>0.0937</td>\n",
       "      <td>1</td>\n",
       "    </tr>\n",
       "    <tr>\n",
       "      <th>2</th>\n",
       "      <td>-0.482</td>\n",
       "      <td>-0.4850</td>\n",
       "      <td>1</td>\n",
       "    </tr>\n",
       "    <tr>\n",
       "      <th>3</th>\n",
       "      <td>-0.122</td>\n",
       "      <td>-0.8080</td>\n",
       "      <td>-1</td>\n",
       "    </tr>\n",
       "    <tr>\n",
       "      <th>4</th>\n",
       "      <td>-0.541</td>\n",
       "      <td>-0.3320</td>\n",
       "      <td>1</td>\n",
       "    </tr>\n",
       "  </tbody>\n",
       "</table>\n",
       "</div>"
      ],
      "text/plain": [
       "     At1     At2  Class\n",
       "0 -0.916  0.3970      1\n",
       "1 -0.584  0.0937      1\n",
       "2 -0.482 -0.4850      1\n",
       "3 -0.122 -0.8080     -1\n",
       "4 -0.541 -0.3320      1"
      ]
     },
     "execution_count": 392,
     "metadata": {},
     "output_type": "execute_result"
    }
   ],
   "source": [
    "data_r.head()"
   ]
  },
  {
   "cell_type": "code",
   "execution_count": 393,
   "id": "61215e86",
   "metadata": {},
   "outputs": [],
   "source": [
    "def weak_learner(data, weights=None):\n",
    "    X = data.iloc[:, :-1]\n",
    "    y = data.Class\n",
    "    model = DecisionTreeClassifier(max_depth=2)\n",
    "    if weights is not None:\n",
    "        model.fit(X, y, sample_weight=weights)\n",
    "    else:\n",
    "        model.fit(X,y)\n",
    "    h = model.predict(X)\n",
    "    #return our hypothesis space\n",
    "    return h, X, y\n",
    "    "
   ]
  },
  {
   "cell_type": "code",
   "execution_count": 394,
   "id": "dbe87a77",
   "metadata": {},
   "outputs": [],
   "source": [
    "h, X, y = weak_learner(data_r)"
   ]
  },
  {
   "cell_type": "code",
   "execution_count": 395,
   "id": "e10991f5",
   "metadata": {},
   "outputs": [],
   "source": [
    "def create_A(h, X, y):\n",
    "    m = len(h)  \n",
    "    #create A\n",
    "    A = np.zeros((m, m))\n",
    "    for i in range(m):\n",
    "        for j in range(m):\n",
    "            value = y[i] * h[j]\n",
    "            A[i][j] = value\n",
    "    return A, m\n",
    "\n"
   ]
  },
  {
   "cell_type": "code",
   "execution_count": 396,
   "id": "c0d82e2c",
   "metadata": {},
   "outputs": [],
   "source": [
    "A, m = create_A(h, X, y)"
   ]
  },
  {
   "cell_type": "code",
   "execution_count": 397,
   "id": "683993f1",
   "metadata": {},
   "outputs": [],
   "source": [
    "d0 = np.zeros(m)\n",
    "for i in range(m):\n",
    "    d0[i] = 1/m \n"
   ]
  },
  {
   "cell_type": "code",
   "execution_count": 398,
   "id": "c55d96d6",
   "metadata": {},
   "outputs": [],
   "source": [
    "hj_1, X, y = weak_learner(data_r, weights=d0)"
   ]
  },
  {
   "cell_type": "code",
   "execution_count": 408,
   "id": "e40fedce",
   "metadata": {},
   "outputs": [],
   "source": [
    "e_j = canonical_basis_vector(m, 1)\n",
    "w = np.zeros(m)\n",
    "w[1] = e_j[1]"
   ]
  },
  {
   "cell_type": "code",
   "execution_count": 409,
   "id": "a9eaa8dc",
   "metadata": {},
   "outputs": [
    {
     "name": "stdout",
     "output_type": "stream",
     "text": [
      "[0. 1. 0. ... 0. 0. 0.]\n"
     ]
    }
   ],
   "source": [
    "print(w)"
   ]
  },
  {
   "cell_type": "code",
   "execution_count": 373,
   "id": "529a27f5",
   "metadata": {},
   "outputs": [
    {
     "name": "stderr",
     "output_type": "stream",
     "text": [
      "C:\\Users\\matteo posenato\\AppData\\Local\\Temp\\ipykernel_8568\\1915115368.py:14: RuntimeWarning: invalid value encountered in log\n",
      "  delta = np.sum(d * np.log(d)) + np.log(m)\n",
      "C:\\Users\\matteo posenato\\AppData\\Local\\Temp\\ipykernel_8568\\1915115368.py:14: RuntimeWarning: invalid value encountered in log\n",
      "  delta = np.sum(d * np.log(d)) + np.log(m)\n",
      "C:\\Users\\matteo posenato\\AppData\\Local\\Temp\\ipykernel_8568\\1915115368.py:14: RuntimeWarning: invalid value encountered in log\n",
      "  delta = np.sum(d * np.log(d)) + np.log(m)\n"
     ]
    }
   ],
   "source": [
    "result = minimize(create_d_t, x0=d0, args=(A, w[1]))\n"
   ]
  },
  {
   "cell_type": "code",
   "execution_count": 374,
   "id": "714acd5d",
   "metadata": {},
   "outputs": [
    {
     "name": "stdout",
     "output_type": "stream",
     "text": [
      "-24.69321998470305\n"
     ]
    }
   ],
   "source": [
    "print(result.x[1])"
   ]
  },
  {
   "cell_type": "code",
   "execution_count": 375,
   "id": "0fb0940b",
   "metadata": {},
   "outputs": [],
   "source": [
    "d0[1] = result.x[1]"
   ]
  },
  {
   "cell_type": "code",
   "execution_count": 376,
   "id": "fb5296d8",
   "metadata": {},
   "outputs": [],
   "source": [
    "e_j_next = canonical_basis_vector(m, 2)\n",
    "h_j_nect = h[2]\n",
    "E_t = []\n",
    "E_t.insert(0, e_j)\n",
    "E_t.insert(1, e_j_next)"
   ]
  },
  {
   "cell_type": "code",
   "execution_count": 252,
   "id": "cab0a408",
   "metadata": {},
   "outputs": [
    {
     "data": {
      "text/plain": [
       "[array([0., 1., 0., ..., 0., 0., 0.]), array([0., 0., 1., ..., 0., 0., 0.])]"
      ]
     },
     "execution_count": 252,
     "metadata": {},
     "output_type": "execute_result"
    }
   ],
   "source": []
  },
  {
   "cell_type": "code",
   "execution_count": 377,
   "id": "a4523d44",
   "metadata": {},
   "outputs": [
    {
     "name": "stderr",
     "output_type": "stream",
     "text": [
      "C:\\Users\\matteo posenato\\AppData\\Local\\Temp\\ipykernel_8568\\3999495292.py:5: RuntimeWarning: invalid value encountered in divide\n",
      "  value = value_1 / value_3\n"
     ]
    }
   ],
   "source": [
    "lamb = []\n",
    "value_1 = np.dot(d0[1].T, np.dot(A, (e_j_next-w[1])))\n",
    "value_2 = np.dot(A, e_j_next - w[1])\n",
    "value_3 = norm(value_2, ord=np.inf)\n",
    "value = value_1 / value_3\n",
    "lamb.insert(0, np.clip(value, 0, 1))"
   ]
  },
  {
   "cell_type": "code",
   "execution_count": 385,
   "id": "44e2b072",
   "metadata": {},
   "outputs": [
    {
     "name": "stdout",
     "output_type": "stream",
     "text": [
      "[nan nan nan ... nan nan nan]\n"
     ]
    }
   ],
   "source": [
    "print(value)"
   ]
  },
  {
   "cell_type": "code",
   "execution_count": 379,
   "id": "8fb00ced",
   "metadata": {},
   "outputs": [
    {
     "name": "stdout",
     "output_type": "stream",
     "text": [
      "[0. 1. 0. ... 0. 0. 0.]\n"
     ]
    }
   ],
   "source": [
    "print(w[1])"
   ]
  },
  {
   "cell_type": "code",
   "execution_count": 380,
   "id": "86941cb7",
   "metadata": {},
   "outputs": [],
   "source": [
    "w_1= []\n",
    "r = (e_j_next - w[1])\n",
    "r_1 = (lamb[0]*r)\n",
    "w_1.insert(0, w[1] + r_1 )"
   ]
  },
  {
   "cell_type": "code",
   "execution_count": 381,
   "id": "c155cf9a",
   "metadata": {},
   "outputs": [
    {
     "name": "stdout",
     "output_type": "stream",
     "text": [
      "[array([nan, nan, nan, ..., nan, nan, nan])]\n"
     ]
    }
   ],
   "source": [
    "print(w_1)"
   ]
  },
  {
   "cell_type": "code",
   "execution_count": 279,
   "id": "2f8b3ceb",
   "metadata": {},
   "outputs": [],
   "source": [
    "w_2 = []\n",
    "my_f = lambda x, A, w: np.dot(d0.T, np.dot(A, x))\n",
    "result = minimize(my_f, x0=d0, args=(A, w))\n",
    "w_2.append(result.x)"
   ]
  },
  {
   "cell_type": "code",
   "execution_count": 302,
   "id": "f274fcb0",
   "metadata": {},
   "outputs": [
    {
     "data": {
      "text/plain": [
       "array([ 6498909.05520857,  6498884.36141552,  6498909.05520857, ...,\n",
       "       -6502316.6136726 , -6502316.6136726 ,  6498909.05520857])"
      ]
     },
     "execution_count": 302,
     "metadata": {},
     "output_type": "execute_result"
    }
   ],
   "source": [
    "w_f[1]"
   ]
  },
  {
   "cell_type": "code",
   "execution_count": 311,
   "id": "3a50e600",
   "metadata": {},
   "outputs": [
    {
     "name": "stdout",
     "output_type": "stream",
     "text": [
      "Il primo vettore minimizza di più la funzione.\n",
      "0.0\n"
     ]
    }
   ],
   "source": [
    "w_f = np.array([w_1[0], w_2[0]])\n",
    "def f(w):\n",
    "    return np.dot(d0.T, -np.dot(A, w))\n",
    "def f_support(x, w):\n",
    "    if x == 0:\n",
    "        return f(w[0])\n",
    "    elif x == 1:\n",
    "        return f(w[1])\n",
    "\n",
    "# Trova l'argomento che minimizza la funzione per il primo vettore\n",
    "result_1 = minimize_scalar(f_support, args=(w_f,), bounds=(0, 0), method='bounded')\n",
    "arg_min_1 = result_1.x\n",
    "\n",
    "# Trova l'argomento che minimizza la funzione per il secondo vettore\n",
    "result_2 = minimize_scalar(f_support, args=(w_f,), bounds=(1, 1), method='bounded')\n",
    "arg_min_2 = result_2.x\n",
    "# Confronta i risultati per determinare quale valore minimizza di più la funzione\n",
    "if arg_min_1 < arg_min_2:\n",
    "    # Il primo vettore minimizza di più la funzione\n",
    "    print(\"Il primo vettore minimizza di più la funzione.\")\n",
    "    print(arg_min_1)\n",
    "    w[2] = arg_min_1\n",
    "elif arg_min_1 > arg_min_2:\n",
    "    # Il secondo vettore minimizza di più la funzione\n",
    "    print(\"Il secondo vettore minimizza di più la funzione.\")\n",
    "    w[2] = arg_min_2\n",
    "else:\n",
    "    # Entrambi i valori sono uguali\n",
    "    print(\"Entrambi i valori minimizzano la funzione allo stesso modo.\")"
   ]
  },
  {
   "cell_type": "code",
   "execution_count": 411,
   "id": "9441a6d4",
   "metadata": {},
   "outputs": [
    {
     "name": "stdout",
     "output_type": "stream",
     "text": [
      "[0. 1. 0. ... 0. 0. 0.]\n"
     ]
    }
   ],
   "source": [
    "print(w)"
   ]
  },
  {
   "cell_type": "code",
   "execution_count": 415,
   "id": "904b9d13",
   "metadata": {},
   "outputs": [
    {
     "name": "stderr",
     "output_type": "stream",
     "text": [
      "C:\\Users\\matteo posenato\\AppData\\Local\\Temp\\ipykernel_8568\\1915115368.py:14: RuntimeWarning: invalid value encountered in log\n",
      "  delta = np.sum(d * np.log(d)) + np.log(m)\n"
     ]
    },
    {
     "name": "stdout",
     "output_type": "stream",
     "text": [
      "[0. 0. 1. ... 0. 0. 0.]\n",
      "Il primo vettore minimizza di più la funzione.\n",
      "argmin1: 0.0\n",
      "[0. 0. 0. ... 0. 0. 0.]\n",
      "Il primo vettore minimizza di più la funzione.\n",
      "argmin1: 0.0\n",
      "[0. 0. 0. ... 0. 0. 0.]\n",
      "Il primo vettore minimizza di più la funzione.\n",
      "argmin1: 0.0\n",
      "[0. 0. 0. ... 0. 0. 0.]\n",
      "Il primo vettore minimizza di più la funzione.\n",
      "argmin1: 0.0\n"
     ]
    }
   ],
   "source": [
    "#seconda parte all'interno del ciclo for\n",
    "T = 5\n",
    "E_t = []\n",
    "E_t.insert(0, e_j)\n",
    "lamb = []\n",
    "lamb.insert(0, np.zeros(m))\n",
    "for t in range(1, T):\n",
    "    #create the distribution d_t\n",
    "    t_n = t + 1\n",
    "    result = minimize(create_d_t, x0=d0, args=(A, w))\n",
    "    d0[t] = result.x[1]\n",
    "    #obtain the hypothesis h_j+1 and e_j+1\n",
    "    e_j_next = canonical_basis_vector(m, t_n)\n",
    "    print(e_j_next)\n",
    "    h_j_nect = h[t_n]\n",
    "    E_t.insert(t_n, e_j_next)\n",
    "    #compute the FW weight\n",
    "    value_1 = np.dot(d0[t].T, np.dot(A, (e_j_next-w[t])))\n",
    "    value_2 = np.dot(A, e_j_next - w[t])\n",
    "    value_3 = norm(value_2, ord=np.inf)\n",
    "    value = value_1 / value_3\n",
    "    lamb.insert(t, np.clip(value, 0, 1))\n",
    "    w_1= []\n",
    "    r = (e_j_next - w[t])\n",
    "    w_1.insert(0, w[t] + (lamb[t]*r))\n",
    "    #compute the secondary weight\n",
    "    w_2 = []\n",
    "    my_f = lambda x, A, w: np.dot(d0.T, np.dot(A, x))\n",
    "    result = minimize(my_f, x0=d0, args=(A, w))\n",
    "    w_2.append(result.x)\n",
    "    #update the weight\n",
    "    w_f = np.array([w_1[0], w_2[0]])\n",
    "    def f(w):\n",
    "        return np.dot(d0.T, -np.dot(A, w))\n",
    "    def f_support(x, w):\n",
    "        if x == 0:\n",
    "            return f(w[0])\n",
    "        elif x == 1:\n",
    "            return f(w[1])\n",
    "\n",
    "    # Trova l'argomento che minimizza la funzione per il primo vettore\n",
    "    result_1 = minimize_scalar(f_support, args=(w_f,), bounds=(0, 0), method='bounded')\n",
    "    arg_min_1 = result_1.x\n",
    "\n",
    "    # Trova l'argomento che minimizza la funzione per il secondo vettore\n",
    "    result_2 = minimize_scalar(f_support, args=(w_f,), bounds=(1, 1), method='bounded')\n",
    "    arg_min_2 = result_2.x\n",
    "    # Confronta i risultati per determinare quale valore minimizza di più la funzione\n",
    "    if arg_min_1 < arg_min_2:\n",
    "        # Il primo vettore minimizza di più la funzione\n",
    "        print(\"Il primo vettore minimizza di più la funzione.\")\n",
    "        print(\"argmin1: {}\".format(arg_min_1))\n",
    "        w[t_n] = arg_min_1\n",
    "    elif arg_min_1 > arg_min_2:\n",
    "        # Il secondo vettore minimizza di più la funzione\n",
    "        print(\"Il secondo vettore minimizza di più la funzione.\")\n",
    "        print(\"argmin2: {}\".format(arg_min_2))\n",
    "        w[t_n] = arg_min_2\n",
    "    else:\n",
    "        # Entrambi i valori sono uguali\n",
    "        print(\"Entrambi i valori minimizzano la funzione allo stesso modo.\")"
   ]
  },
  {
   "cell_type": "code",
   "execution_count": null,
   "id": "15cd5123",
   "metadata": {},
   "outputs": [],
   "source": []
  },
  {
   "cell_type": "code",
   "execution_count": null,
   "id": "e1deba12",
   "metadata": {},
   "outputs": [],
   "source": []
  },
  {
   "cell_type": "code",
   "execution_count": null,
   "id": "53f149e3",
   "metadata": {},
   "outputs": [],
   "source": [
    "#pairwise\n",
    "my_f = lambda x, A, e_j: np.dot(d0.T, np.dot(A, x))\n",
    "e_away = minimize(my_f, x0=e_j, args=(A, d0))\n",
    "def compute_alpha(w, e):\n",
    "    alpha = w[np.nonzero(e)][0]\n",
    "for e in E_t:\n",
    "    alpha[e] = compute_alpha(w, e)\n",
    "lamb_max = alpha[e_away]\n",
    "lamb = min([i for i in range(0, lambda_max + 1)], key=lambda i: f(-A(wt + lambda * (ejt_1 - e_away))))\n",
    "w_1 = w + lamb* (e_j_next - e_away)"
   ]
  },
  {
   "cell_type": "code",
   "execution_count": null,
   "id": "405f5ec6",
   "metadata": {},
   "outputs": [],
   "source": [
    "def FW_ss_LPBoost(A, m, h, T):\n",
    "    #create d_0\n",
    "    d = np.zeros(m)\n",
    "    for i in range(m):\n",
    "        d[i] = 1/m \n",
    "    d_t = []\n",
    "    #create vector basis\n",
    "    e_j = canonical_basis_vector(m, 1)\n",
    "    w = np.zeros(m)\n",
    "    w[1] = e_j[1]\n",
    "    w_1 = np.zeros(T)\n",
    "    w_2 = np.zeros(T)\n",
    "    epsilon = 0.01\n",
    "    lamb = np.zeros(T)\n",
    "    #for cicle\n",
    "    for t in range(1, T):\n",
    "        #compute the distibution dt\n",
    "        result = minimize(create_d_t, x0=d, args=(A, w))\n",
    "        d_t.append(result.x)\n",
    "        e_j_next = canonical_basis_vector(m, t+1)\n",
    "        h_j_nect = h[t+1]\n",
    "        E_t_next = canonical_basis_vector(t+1, t)\n",
    "        #create lambda_t \n",
    "        value_1 = np.dot(d_t[t-1].T, np.dot(A, (e_j_next-w[t])))\n",
    "        \n",
    "        lamb[t] = np.clip(value, 0, 1)\n",
    "        #CH = ConvexHull(E_t_next)\n",
    "        #vertices = E_t_next[CH.vertices]\n",
    "        #compute the FW weights\n",
    "        r = (e_j_next - w[t])\n",
    "        w_1[t-1] = w[t] + (lamb[t]*r)\n",
    "        w_d = np.argmax(w)\n",
    "        w_2[t-1] = minimize(np.dot(d.T, np.dot(A, w_d)), x0=d)\n",
    "        w_f = [w_1[t+1], w_2[t +1]]\n",
    "        w[t+1] = minimize (np.dot(d.T, np.dot(A, w_f)), x0=w_f)\n",
    "    return d, w, d_t"
   ]
  },
  {
   "cell_type": "code",
   "execution_count": null,
   "id": "8b6266fa",
   "metadata": {},
   "outputs": [],
   "source": [
    "def FW_ss_LPBoost(A, m, h, T):\n",
    "    #create d_0\n",
    "    d = np.zeros(m)\n",
    "    for i in range(m):\n",
    "        d[i] = 1/m \n",
    "    d_t = []\n",
    "    #create vector basis\n",
    "    e_j = canonical_basis_vector(m, 1)\n",
    "    w = np.zeros(m)\n",
    "    w[1] = e_j[1]\n",
    "    w_1 = np.zeros(T)\n",
    "    w_2 = np.zeros(T)\n",
    "    epsilon = 0.01\n",
    "    lamb = np.zeros(T)\n",
    "    #for cicle\n",
    "    for t in range(1, T):\n",
    "        #compute the distibution dt\n",
    "        result = minimize(create_d_t, x0=d, args=(A, w))\n",
    "        d_t.append(result.x)\n",
    "        e_j_next = canonical_basis_vector(m, t+1)\n",
    "        h_j_nect = h[t+1]\n",
    "        E_t_next = canonical_basis_vector(t+1, t)\n",
    "        #create lambda_t \n",
    "        value = np.dot(d_t[t-1].T, np.dot(A, (e_j_next-w[t])))\n",
    "        lamb[t] = np.clip(value, 0, 1)\n",
    "        #CH = ConvexHull(E_t_next)\n",
    "        #vertices = E_t_next[CH.vertices]\n",
    "        #compute the FW weights\n",
    "        r = (e_j_next - w[t])\n",
    "        w_1[t-1] = w[t] + (lamb[t]*r)\n",
    "        w_d = np.argmax(w)\n",
    "        w_2[t-1] = minimize(np.dot(d.T, np.dot(A, w_d)), x0=d)\n",
    "        w_f = [w_1[t+1], w_2[t +1]]\n",
    "        w[t+1] = minimize (np.dot(d.T, np.dot(A, w_f)), x0=w_f)\n",
    "    return d, w, d_t"
   ]
  },
  {
   "cell_type": "code",
   "execution_count": 116,
   "id": "80d871a0",
   "metadata": {},
   "outputs": [],
   "source": [
    "def FW_ss_LPBoost_1(A, m, h, T):\n",
    "    #create d_0\n",
    "    d = np.full(m, 1/m)\n",
    "    d_t = []\n",
    "    #create vector basis\n",
    "    e_j = canonical_basis_vector(m, 1)\n",
    "    w = np.zeros(m)\n",
    "    w[1] = e_j[1]\n",
    "    w_1 = np.zeros(T + 1)\n",
    "    w_2 = np.zeros(T + 1)\n",
    "    epsilon = 0.01\n",
    "    lamb = np.zeros(T + 1)\n",
    "    #for cycle\n",
    "    for t in range(1, T):\n",
    "        #compute the distribution dt\n",
    "        result = minimize(create_d_t, x0=d, args=(A, w))\n",
    "        d_t.append(result.x)\n",
    "        e_j_next = canonical_basis_vector(m, t+1)\n",
    "        h_j_next = h[t+1]\n",
    "        E_t_next = canonical_basis_vector(t+1, t)\n",
    "        #create lambda_t \n",
    "        value = np.dot(d_t[t-1].T, np.dot(A, (e_j_next-w[t])))\n",
    "        lamb[t] = np.clip(value, 0, 1)\n",
    "        #CH = ConvexHull(E_t_next)\n",
    "        #vertices = E_t_next[CH.vertices]\n",
    "        #compute the FW weights\n",
    "        r = (e_j_next - w[t])\n",
    "        r_1 = w[t] + (lamb[t]*r)\n",
    "        print(r_1)\n",
    "        w_1[t-1] = r_1\n",
    "        w_d = np.argmax(w)\n",
    "        w_2[t-1] = minimize(lambda x: np.dot(d.T, np.dot(A, x)), x0=d).x\n",
    "        w_f = [w_1[t-1], w_2[t-1]]\n",
    "        w[t] = minimize(lambda x: np.dot(d.T, np.dot(A, x)), x0=w_f).x\n",
    "    return d, w, d_t"
   ]
  },
  {
   "cell_type": "code",
   "execution_count": null,
   "id": "d4b658b4",
   "metadata": {},
   "outputs": [],
   "source": []
  },
  {
   "cell_type": "code",
   "execution_count": 106,
   "id": "9b2ae437",
   "metadata": {},
   "outputs": [],
   "source": [
    "A, m = create_A(data_r, h)"
   ]
  },
  {
   "cell_type": "code",
   "execution_count": 119,
   "id": "d135d499",
   "metadata": {},
   "outputs": [
    {
     "name": "stdout",
     "output_type": "stream",
     "text": [
      "[[-0.363652  -0.363652  -0.363652  ... -0.363652   0.363652  -0.363652 ]\n",
      " [-0.0547208 -0.0547208 -0.0547208 ... -0.0547208  0.0547208 -0.0547208]\n",
      " [ 0.23377    0.23377    0.23377   ...  0.23377   -0.23377    0.23377  ]\n",
      " ...\n",
      " [-0.637824  -0.637824  -0.637824  ... -0.637824   0.637824  -0.637824 ]\n",
      " [ 0.593668   0.593668   0.593668  ...  0.593668  -0.593668   0.593668 ]\n",
      " [ 0.03621    0.03621    0.03621   ...  0.03621   -0.03621    0.03621  ]] 1745\n"
     ]
    }
   ],
   "source": [
    "print(A, len(A))"
   ]
  },
  {
   "cell_type": "code",
   "execution_count": 117,
   "id": "11f5582a",
   "metadata": {},
   "outputs": [
    {
     "name": "stderr",
     "output_type": "stream",
     "text": [
      "C:\\Users\\matteo posenato\\AppData\\Local\\Temp\\ipykernel_8568\\1915115368.py:14: RuntimeWarning: invalid value encountered in log\n",
      "  delta = np.sum(d * np.log(d)) + np.log(m)\n",
      "C:\\Users\\matteo posenato\\AppData\\Local\\Temp\\ipykernel_8568\\1915115368.py:14: RuntimeWarning: invalid value encountered in log\n",
      "  delta = np.sum(d * np.log(d)) + np.log(m)\n",
      "C:\\Users\\matteo posenato\\AppData\\Local\\Temp\\ipykernel_8568\\1915115368.py:14: RuntimeWarning: invalid value encountered in log\n",
      "  delta = np.sum(d * np.log(d)) + np.log(m)\n"
     ]
    },
    {
     "name": "stdout",
     "output_type": "stream",
     "text": [
      "[0. 0. 1. ... 0. 0. 0.]\n"
     ]
    },
    {
     "ename": "ValueError",
     "evalue": "setting an array element with a sequence.",
     "output_type": "error",
     "traceback": [
      "\u001b[1;31m---------------------------------------------------------------------------\u001b[0m",
      "\u001b[1;31mTypeError\u001b[0m                                 Traceback (most recent call last)",
      "\u001b[1;31mTypeError\u001b[0m: only size-1 arrays can be converted to Python scalars",
      "\nThe above exception was the direct cause of the following exception:\n",
      "\u001b[1;31mValueError\u001b[0m                                Traceback (most recent call last)",
      "Cell \u001b[1;32mIn[117], line 1\u001b[0m\n\u001b[1;32m----> 1\u001b[0m d, w, d_t \u001b[38;5;241m=\u001b[39m \u001b[43mFW_ss_LPBoost_1\u001b[49m\u001b[43m(\u001b[49m\u001b[43mA\u001b[49m\u001b[43m,\u001b[49m\u001b[43m \u001b[49m\u001b[43mm\u001b[49m\u001b[43m,\u001b[49m\u001b[43m \u001b[49m\u001b[43mh\u001b[49m\u001b[43m,\u001b[49m\u001b[43m \u001b[49m\u001b[43mT\u001b[49m\u001b[38;5;241;43m=\u001b[39;49m\u001b[38;5;241;43m2\u001b[39;49m\u001b[43m)\u001b[49m\n",
      "Cell \u001b[1;32mIn[116], line 30\u001b[0m, in \u001b[0;36mFW_ss_LPBoost_1\u001b[1;34m(A, m, h, T)\u001b[0m\n\u001b[0;32m     28\u001b[0m r_1 \u001b[38;5;241m=\u001b[39m w[t] \u001b[38;5;241m+\u001b[39m (lamb[t]\u001b[38;5;241m*\u001b[39mr)\n\u001b[0;32m     29\u001b[0m \u001b[38;5;28mprint\u001b[39m(r_1)\n\u001b[1;32m---> 30\u001b[0m w_1[t\u001b[38;5;241m-\u001b[39m\u001b[38;5;241m1\u001b[39m] \u001b[38;5;241m=\u001b[39m r_1\n\u001b[0;32m     31\u001b[0m w_d \u001b[38;5;241m=\u001b[39m np\u001b[38;5;241m.\u001b[39margmax(w)\n\u001b[0;32m     32\u001b[0m w_2[t\u001b[38;5;241m-\u001b[39m\u001b[38;5;241m1\u001b[39m] \u001b[38;5;241m=\u001b[39m minimize(\u001b[38;5;28;01mlambda\u001b[39;00m x: np\u001b[38;5;241m.\u001b[39mdot(d\u001b[38;5;241m.\u001b[39mT, np\u001b[38;5;241m.\u001b[39mdot(A, x)), x0\u001b[38;5;241m=\u001b[39md)\u001b[38;5;241m.\u001b[39mx\n",
      "\u001b[1;31mValueError\u001b[0m: setting an array element with a sequence."
     ]
    }
   ],
   "source": [
    "d, w, d_t = FW_ss_LPBoost_1(A, m, h, T=2)"
   ]
  },
  {
   "cell_type": "code",
   "execution_count": null,
   "id": "edd3380b",
   "metadata": {},
   "outputs": [],
   "source": [
    "print(d_t)"
   ]
  },
  {
   "cell_type": "code",
   "execution_count": null,
   "id": "14e07f8c",
   "metadata": {},
   "outputs": [],
   "source": []
  }
 ],
 "metadata": {
  "kernelspec": {
   "display_name": "Python 3 (ipykernel)",
   "language": "python",
   "name": "python3"
  },
  "language_info": {
   "codemirror_mode": {
    "name": "ipython",
    "version": 3
   },
   "file_extension": ".py",
   "mimetype": "text/x-python",
   "name": "python",
   "nbconvert_exporter": "python",
   "pygments_lexer": "ipython3",
   "version": "3.10.9"
  }
 },
 "nbformat": 4,
 "nbformat_minor": 5
}
