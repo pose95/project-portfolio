{
 "cells": [
  {
   "cell_type": "code",
   "execution_count": 1,
   "id": "d2cef559",
   "metadata": {},
   "outputs": [],
   "source": [
    "import pandas as pd\n",
    "import numpy as np\n",
    "from sklearn.model_selection import train_test_split\n",
    "from sklearn.tree import DecisionTreeClassifier\n",
    "import math\n",
    "from scipy.optimize import minimize\n",
    "from scipy.spatial import ConvexHull\n",
    "from scipy.linalg import norm\n",
    "from scipy.optimize import minimize_scalar\n",
    "\n",
    "data = pd.read_csv(\"banana.csv\", sep=',')"
   ]
  },
  {
   "cell_type": "code",
   "execution_count": 2,
   "id": "3ab4881c",
   "metadata": {},
   "outputs": [],
   "source": [
    "#Normalizing the variables to values in [-1,1]\n",
    "for col in data.columns:\n",
    "    if col != 'Class':\n",
    "        min_val = data[col].min()\n",
    "        max_val = data[col].max()\n",
    "        data[col] = (data[col] - min_val) / (max_val - min_val)  # Normalize to range 0-1\n",
    "        data[col] = data[col] * 2 - 1  # Rescale to range -1 to 1"
   ]
  },
  {
   "cell_type": "code",
   "execution_count": 3,
   "id": "d0a3c796",
   "metadata": {},
   "outputs": [
    {
     "data": {
      "text/html": [
       "<div>\n",
       "<style scoped>\n",
       "    .dataframe tbody tr th:only-of-type {\n",
       "        vertical-align: middle;\n",
       "    }\n",
       "\n",
       "    .dataframe tbody tr th {\n",
       "        vertical-align: top;\n",
       "    }\n",
       "\n",
       "    .dataframe thead th {\n",
       "        text-align: right;\n",
       "    }\n",
       "</style>\n",
       "<table border=\"1\" class=\"dataframe\">\n",
       "  <thead>\n",
       "    <tr style=\"text-align: right;\">\n",
       "      <th></th>\n",
       "      <th>At1</th>\n",
       "      <th>At2</th>\n",
       "      <th>Class</th>\n",
       "    </tr>\n",
       "  </thead>\n",
       "  <tbody>\n",
       "    <tr>\n",
       "      <th>0</th>\n",
       "      <td>0.433898</td>\n",
       "      <td>-0.184229</td>\n",
       "      <td>-1</td>\n",
       "    </tr>\n",
       "    <tr>\n",
       "      <th>1</th>\n",
       "      <td>-0.467797</td>\n",
       "      <td>-0.555556</td>\n",
       "      <td>1</td>\n",
       "    </tr>\n",
       "    <tr>\n",
       "      <th>2</th>\n",
       "      <td>-0.308475</td>\n",
       "      <td>0.114695</td>\n",
       "      <td>-1</td>\n",
       "    </tr>\n",
       "    <tr>\n",
       "      <th>3</th>\n",
       "      <td>-0.263051</td>\n",
       "      <td>-0.001075</td>\n",
       "      <td>1</td>\n",
       "    </tr>\n",
       "    <tr>\n",
       "      <th>4</th>\n",
       "      <td>-0.322034</td>\n",
       "      <td>0.013262</td>\n",
       "      <td>1</td>\n",
       "    </tr>\n",
       "    <tr>\n",
       "      <th>...</th>\n",
       "      <td>...</td>\n",
       "      <td>...</td>\n",
       "      <td>...</td>\n",
       "    </tr>\n",
       "    <tr>\n",
       "      <th>5295</th>\n",
       "      <td>0.161017</td>\n",
       "      <td>0.354839</td>\n",
       "      <td>1</td>\n",
       "    </tr>\n",
       "    <tr>\n",
       "      <th>5296</th>\n",
       "      <td>-0.528814</td>\n",
       "      <td>-0.347312</td>\n",
       "      <td>1</td>\n",
       "    </tr>\n",
       "    <tr>\n",
       "      <th>5297</th>\n",
       "      <td>0.942373</td>\n",
       "      <td>0.265233</td>\n",
       "      <td>1</td>\n",
       "    </tr>\n",
       "    <tr>\n",
       "      <th>5298</th>\n",
       "      <td>0.308136</td>\n",
       "      <td>0.133333</td>\n",
       "      <td>-1</td>\n",
       "    </tr>\n",
       "    <tr>\n",
       "      <th>5299</th>\n",
       "      <td>-0.038983</td>\n",
       "      <td>-0.194265</td>\n",
       "      <td>1</td>\n",
       "    </tr>\n",
       "  </tbody>\n",
       "</table>\n",
       "<p>5300 rows × 3 columns</p>\n",
       "</div>"
      ],
      "text/plain": [
       "           At1       At2  Class\n",
       "0     0.433898 -0.184229     -1\n",
       "1    -0.467797 -0.555556      1\n",
       "2    -0.308475  0.114695     -1\n",
       "3    -0.263051 -0.001075      1\n",
       "4    -0.322034  0.013262      1\n",
       "...        ...       ...    ...\n",
       "5295  0.161017  0.354839      1\n",
       "5296 -0.528814 -0.347312      1\n",
       "5297  0.942373  0.265233      1\n",
       "5298  0.308136  0.133333     -1\n",
       "5299 -0.038983 -0.194265      1\n",
       "\n",
       "[5300 rows x 3 columns]"
      ]
     },
     "execution_count": 3,
     "metadata": {},
     "output_type": "execute_result"
    }
   ],
   "source": [
    "data"
   ]
  },
  {
   "cell_type": "code",
   "execution_count": 4,
   "id": "3f11e16d",
   "metadata": {},
   "outputs": [],
   "source": [
    "#Data preparation \n",
    "train_data, test_data = train_test_split(data, test_size=0.2, random_state=123)\n",
    "X_train = train_data.drop('Class', axis=1)\n",
    "y_train = train_data['Class']\n",
    "\n",
    "X_test = test_data.drop('Class', axis=1)\n",
    "y_test = test_data['Class']"
   ]
  },
  {
   "cell_type": "code",
   "execution_count": 5,
   "id": "52033485",
   "metadata": {},
   "outputs": [
    {
     "data": {
      "text/plain": [
       "3887    1\n",
       "2852   -1\n",
       "3519    1\n",
       "4798    1\n",
       "3176   -1\n",
       "       ..\n",
       "5218   -1\n",
       "4060   -1\n",
       "1346   -1\n",
       "3454   -1\n",
       "3582    1\n",
       "Name: Class, Length: 4240, dtype: int64"
      ]
     },
     "execution_count": 5,
     "metadata": {},
     "output_type": "execute_result"
    }
   ],
   "source": [
    "y_train"
   ]
  },
  {
   "cell_type": "code",
   "execution_count": null,
   "id": "024c5e8c",
   "metadata": {},
   "outputs": [],
   "source": [
    "from sklearn.tree import DecisionTreeClassifier, export_text\n",
    "\n",
    "\n",
    "# Creazione di un albero decisionale\n",
    "tree = DecisionTreeClassifier(max_depth=2)\n",
    "tree.fit(X_train, y_train)\n",
    "\n",
    "# Estrai le regole di decisione\n",
    "regole = export_text(tree, feature_names=['Attributo A', 'Attributo B'])\n",
    "\n",
    "# Stampa le regole\n",
    "print(\"Regole di decisione:\")\n",
    "print(regole)\n",
    "\n",
    "# Estrai le ipotesi\n",
    "ipotesi = [line.strip() for line in regole.split('\\n') if 'class:' in line]\n",
    "\n",
    "# Stampa il set di ipotesi\n",
    "print(\"\\nSet di ipotesi:\")\n",
    "for idx, ipotesi_single in enumerate(ipotesi):\n",
    "    print(f\"Ipotesi {idx + 1}: {ipotesi_single}\")\n"
   ]
  },
  {
   "cell_type": "code",
   "execution_count": 8,
   "id": "aca8901b",
   "metadata": {},
   "outputs": [
    {
     "data": {
      "text/plain": [
       "14"
      ]
     },
     "execution_count": 8,
     "metadata": {},
     "output_type": "execute_result"
    }
   ],
   "source": [
    "n"
   ]
  },
  {
   "cell_type": "code",
   "execution_count": 9,
   "id": "5eb30cc4",
   "metadata": {},
   "outputs": [
    {
     "name": "stdout",
     "output_type": "stream",
     "text": [
      "Matrice di regole di decisione:\n",
      "[[ 0.07150538]\n",
      " [-0.44767025]\n",
      " [-2.        ]\n",
      " [-2.        ]\n",
      " [ 0.5440678 ]\n",
      " [-2.        ]\n",
      " [-2.        ]]\n"
     ]
    }
   ],
   "source": [
    "from sklearn.tree import DecisionTreeClassifier\n",
    "import numpy as np\n",
    "\n",
    "# Creazione di un albero decisionale\n",
    "tree = DecisionTreeClassifier(max_depth=2)\n",
    "tree.fit(X_train, y_train)\n",
    "\n",
    "# Ottieni la matrice di regole di decisione (A)\n",
    "regole_matrice = tree.tree_.threshold.reshape(-1, 1)\n",
    "\n",
    "# Stampa la matrice di regole di decisione\n",
    "print(\"Matrice di regole di decisione:\")\n",
    "print(regole_matrice)\n",
    "m = X_train.shape[0]\n",
    "n = len(regole_matrice)\n",
    "#A = np.zeros((m, n))\n",
    "#for i, valore in enumerate(regole_matrice):\n",
    "    #A[:, i] = y_train * X_train[:, 0] * valore\n",
    "    #A[:, i + len(regole_matrice)] =y_train * X_train[:, 1] * valore"
   ]
  },
  {
   "cell_type": "code",
   "execution_count": 166,
   "id": "bb7712b7",
   "metadata": {},
   "outputs": [],
   "source": [
    "X_train_array = X_train.values"
   ]
  },
  {
   "cell_type": "code",
   "execution_count": 59,
   "id": "64a38e5a",
   "metadata": {},
   "outputs": [
    {
     "name": "stdout",
     "output_type": "stream",
     "text": [
      "Previsioni totali:\n",
      "[[ 1.  1. -1. ... -1. -1. -1.]\n",
      " [ 1.  1. -1. ... -1. -1. -1.]\n",
      " [ 1. -1. -1. ... -1. -1. -1.]\n",
      " ...\n",
      " [ 1.  1.  1. ...  1.  1.  1.]\n",
      " [ 1.  1.  1. ...  1.  1.  1.]\n",
      " [ 1. -1. -1. ...  1. -1. -1.]]\n"
     ]
    },
    {
     "name": "stderr",
     "output_type": "stream",
     "text": [
      "C:\\Users\\matteo posenato\\anaconda3\\lib\\site-packages\\sklearn\\base.py:439: UserWarning: X does not have valid feature names, but DecisionTreeClassifier was fitted with feature names\n",
      "  warnings.warn(\n",
      "C:\\Users\\matteo posenato\\anaconda3\\lib\\site-packages\\sklearn\\base.py:439: UserWarning: X does not have valid feature names, but DecisionTreeClassifier was fitted with feature names\n",
      "  warnings.warn(\n",
      "C:\\Users\\matteo posenato\\anaconda3\\lib\\site-packages\\sklearn\\base.py:439: UserWarning: X does not have valid feature names, but DecisionTreeClassifier was fitted with feature names\n",
      "  warnings.warn(\n",
      "C:\\Users\\matteo posenato\\anaconda3\\lib\\site-packages\\sklearn\\base.py:439: UserWarning: X does not have valid feature names, but DecisionTreeClassifier was fitted with feature names\n",
      "  warnings.warn(\n",
      "C:\\Users\\matteo posenato\\anaconda3\\lib\\site-packages\\sklearn\\base.py:439: UserWarning: X does not have valid feature names, but DecisionTreeClassifier was fitted with feature names\n",
      "  warnings.warn(\n",
      "C:\\Users\\matteo posenato\\anaconda3\\lib\\site-packages\\sklearn\\base.py:439: UserWarning: X does not have valid feature names, but DecisionTreeClassifier was fitted with feature names\n",
      "  warnings.warn(\n",
      "C:\\Users\\matteo posenato\\anaconda3\\lib\\site-packages\\sklearn\\base.py:439: UserWarning: X does not have valid feature names, but DecisionTreeClassifier was fitted with feature names\n",
      "  warnings.warn(\n"
     ]
    }
   ],
   "source": [
    "import numpy as np\n",
    "\n",
    "# Numero di righe nei dati di test\n",
    "n_righe = X_train.shape[0]\n",
    "\n",
    "# Numero di regole\n",
    "n_regole = 7\n",
    "\n",
    "# Matrice per memorizzare le previsioni per ogni riga e regola\n",
    "previsioni_totali = np.zeros((n_righe, n_regole))\n",
    "\n",
    "# Calcola le previsioni per ciascuna riga e ciascuna regola\n",
    "for i in range(n_regole):\n",
    "    previsioni_totali[:, i] = tree.predict(X_train_array * regole_matrice[i])\n",
    "\n",
    "print(\"Previsioni totali:\")\n",
    "print(previsioni_totali)\n"
   ]
  },
  {
   "cell_type": "code",
   "execution_count": 60,
   "id": "8e4bde4b",
   "metadata": {},
   "outputs": [],
   "source": [
    "previsioni_totali = pd.DataFrame(previsioni_totali)"
   ]
  },
  {
   "cell_type": "code",
   "execution_count": 61,
   "id": "3d309194",
   "metadata": {},
   "outputs": [],
   "source": [
    "A2 = previsioni_totali"
   ]
  },
  {
   "cell_type": "code",
   "execution_count": 62,
   "id": "7c6639bf",
   "metadata": {},
   "outputs": [
    {
     "data": {
      "text/html": [
       "<div>\n",
       "<style scoped>\n",
       "    .dataframe tbody tr th:only-of-type {\n",
       "        vertical-align: middle;\n",
       "    }\n",
       "\n",
       "    .dataframe tbody tr th {\n",
       "        vertical-align: top;\n",
       "    }\n",
       "\n",
       "    .dataframe thead th {\n",
       "        text-align: right;\n",
       "    }\n",
       "</style>\n",
       "<table border=\"1\" class=\"dataframe\">\n",
       "  <thead>\n",
       "    <tr style=\"text-align: right;\">\n",
       "      <th></th>\n",
       "      <th>0</th>\n",
       "      <th>1</th>\n",
       "      <th>2</th>\n",
       "      <th>3</th>\n",
       "      <th>4</th>\n",
       "      <th>5</th>\n",
       "      <th>6</th>\n",
       "    </tr>\n",
       "  </thead>\n",
       "  <tbody>\n",
       "    <tr>\n",
       "      <th>0</th>\n",
       "      <td>1.0</td>\n",
       "      <td>1.0</td>\n",
       "      <td>-1.0</td>\n",
       "      <td>-1.0</td>\n",
       "      <td>-1.0</td>\n",
       "      <td>-1.0</td>\n",
       "      <td>-1.0</td>\n",
       "    </tr>\n",
       "    <tr>\n",
       "      <th>1</th>\n",
       "      <td>1.0</td>\n",
       "      <td>1.0</td>\n",
       "      <td>-1.0</td>\n",
       "      <td>-1.0</td>\n",
       "      <td>-1.0</td>\n",
       "      <td>-1.0</td>\n",
       "      <td>-1.0</td>\n",
       "    </tr>\n",
       "    <tr>\n",
       "      <th>2</th>\n",
       "      <td>1.0</td>\n",
       "      <td>-1.0</td>\n",
       "      <td>-1.0</td>\n",
       "      <td>-1.0</td>\n",
       "      <td>-1.0</td>\n",
       "      <td>-1.0</td>\n",
       "      <td>-1.0</td>\n",
       "    </tr>\n",
       "    <tr>\n",
       "      <th>3</th>\n",
       "      <td>1.0</td>\n",
       "      <td>-1.0</td>\n",
       "      <td>1.0</td>\n",
       "      <td>1.0</td>\n",
       "      <td>1.0</td>\n",
       "      <td>1.0</td>\n",
       "      <td>1.0</td>\n",
       "    </tr>\n",
       "    <tr>\n",
       "      <th>4</th>\n",
       "      <td>1.0</td>\n",
       "      <td>1.0</td>\n",
       "      <td>-1.0</td>\n",
       "      <td>-1.0</td>\n",
       "      <td>-1.0</td>\n",
       "      <td>-1.0</td>\n",
       "      <td>-1.0</td>\n",
       "    </tr>\n",
       "    <tr>\n",
       "      <th>...</th>\n",
       "      <td>...</td>\n",
       "      <td>...</td>\n",
       "      <td>...</td>\n",
       "      <td>...</td>\n",
       "      <td>...</td>\n",
       "      <td>...</td>\n",
       "      <td>...</td>\n",
       "    </tr>\n",
       "    <tr>\n",
       "      <th>4235</th>\n",
       "      <td>1.0</td>\n",
       "      <td>1.0</td>\n",
       "      <td>-1.0</td>\n",
       "      <td>-1.0</td>\n",
       "      <td>-1.0</td>\n",
       "      <td>-1.0</td>\n",
       "      <td>-1.0</td>\n",
       "    </tr>\n",
       "    <tr>\n",
       "      <th>4236</th>\n",
       "      <td>1.0</td>\n",
       "      <td>1.0</td>\n",
       "      <td>-1.0</td>\n",
       "      <td>-1.0</td>\n",
       "      <td>-1.0</td>\n",
       "      <td>-1.0</td>\n",
       "      <td>-1.0</td>\n",
       "    </tr>\n",
       "    <tr>\n",
       "      <th>4237</th>\n",
       "      <td>1.0</td>\n",
       "      <td>1.0</td>\n",
       "      <td>1.0</td>\n",
       "      <td>1.0</td>\n",
       "      <td>1.0</td>\n",
       "      <td>1.0</td>\n",
       "      <td>1.0</td>\n",
       "    </tr>\n",
       "    <tr>\n",
       "      <th>4238</th>\n",
       "      <td>1.0</td>\n",
       "      <td>1.0</td>\n",
       "      <td>1.0</td>\n",
       "      <td>1.0</td>\n",
       "      <td>1.0</td>\n",
       "      <td>1.0</td>\n",
       "      <td>1.0</td>\n",
       "    </tr>\n",
       "    <tr>\n",
       "      <th>4239</th>\n",
       "      <td>1.0</td>\n",
       "      <td>-1.0</td>\n",
       "      <td>-1.0</td>\n",
       "      <td>-1.0</td>\n",
       "      <td>1.0</td>\n",
       "      <td>-1.0</td>\n",
       "      <td>-1.0</td>\n",
       "    </tr>\n",
       "  </tbody>\n",
       "</table>\n",
       "<p>4240 rows × 7 columns</p>\n",
       "</div>"
      ],
      "text/plain": [
       "        0    1    2    3    4    5    6\n",
       "0     1.0  1.0 -1.0 -1.0 -1.0 -1.0 -1.0\n",
       "1     1.0  1.0 -1.0 -1.0 -1.0 -1.0 -1.0\n",
       "2     1.0 -1.0 -1.0 -1.0 -1.0 -1.0 -1.0\n",
       "3     1.0 -1.0  1.0  1.0  1.0  1.0  1.0\n",
       "4     1.0  1.0 -1.0 -1.0 -1.0 -1.0 -1.0\n",
       "...   ...  ...  ...  ...  ...  ...  ...\n",
       "4235  1.0  1.0 -1.0 -1.0 -1.0 -1.0 -1.0\n",
       "4236  1.0  1.0 -1.0 -1.0 -1.0 -1.0 -1.0\n",
       "4237  1.0  1.0  1.0  1.0  1.0  1.0  1.0\n",
       "4238  1.0  1.0  1.0  1.0  1.0  1.0  1.0\n",
       "4239  1.0 -1.0 -1.0 -1.0  1.0 -1.0 -1.0\n",
       "\n",
       "[4240 rows x 7 columns]"
      ]
     },
     "execution_count": 62,
     "metadata": {},
     "output_type": "execute_result"
    }
   ],
   "source": [
    "A2"
   ]
  },
  {
   "cell_type": "code",
   "execution_count": 167,
   "id": "d126921e",
   "metadata": {},
   "outputs": [
    {
     "ename": "KeyError",
     "evalue": "0",
     "output_type": "error",
     "traceback": [
      "\u001b[1;31m---------------------------------------------------------------------------\u001b[0m",
      "\u001b[1;31mKeyError\u001b[0m                                  Traceback (most recent call last)",
      "File \u001b[1;32m~\\anaconda3\\lib\\site-packages\\pandas\\core\\indexes\\base.py:3802\u001b[0m, in \u001b[0;36mIndex.get_loc\u001b[1;34m(self, key, method, tolerance)\u001b[0m\n\u001b[0;32m   3801\u001b[0m \u001b[38;5;28;01mtry\u001b[39;00m:\n\u001b[1;32m-> 3802\u001b[0m     \u001b[38;5;28;01mreturn\u001b[39;00m \u001b[38;5;28;43mself\u001b[39;49m\u001b[38;5;241;43m.\u001b[39;49m\u001b[43m_engine\u001b[49m\u001b[38;5;241;43m.\u001b[39;49m\u001b[43mget_loc\u001b[49m\u001b[43m(\u001b[49m\u001b[43mcasted_key\u001b[49m\u001b[43m)\u001b[49m\n\u001b[0;32m   3803\u001b[0m \u001b[38;5;28;01mexcept\u001b[39;00m \u001b[38;5;167;01mKeyError\u001b[39;00m \u001b[38;5;28;01mas\u001b[39;00m err:\n",
      "File \u001b[1;32m~\\anaconda3\\lib\\site-packages\\pandas\\_libs\\index.pyx:138\u001b[0m, in \u001b[0;36mpandas._libs.index.IndexEngine.get_loc\u001b[1;34m()\u001b[0m\n",
      "File \u001b[1;32m~\\anaconda3\\lib\\site-packages\\pandas\\_libs\\index.pyx:165\u001b[0m, in \u001b[0;36mpandas._libs.index.IndexEngine.get_loc\u001b[1;34m()\u001b[0m\n",
      "File \u001b[1;32mpandas\\_libs\\hashtable_class_helper.pxi:5745\u001b[0m, in \u001b[0;36mpandas._libs.hashtable.PyObjectHashTable.get_item\u001b[1;34m()\u001b[0m\n",
      "File \u001b[1;32mpandas\\_libs\\hashtable_class_helper.pxi:5753\u001b[0m, in \u001b[0;36mpandas._libs.hashtable.PyObjectHashTable.get_item\u001b[1;34m()\u001b[0m\n",
      "\u001b[1;31mKeyError\u001b[0m: 0",
      "\nThe above exception was the direct cause of the following exception:\n",
      "\u001b[1;31mKeyError\u001b[0m                                  Traceback (most recent call last)",
      "Cell \u001b[1;32mIn[167], line 1\u001b[0m\n\u001b[1;32m----> 1\u001b[0m \u001b[38;5;28mprint\u001b[39m(\u001b[43mX_train\u001b[49m\u001b[43m[\u001b[49m\u001b[38;5;241;43m0\u001b[39;49m\u001b[43m]\u001b[49m[\u001b[38;5;241m1\u001b[39m])\n",
      "File \u001b[1;32m~\\anaconda3\\lib\\site-packages\\pandas\\core\\frame.py:3807\u001b[0m, in \u001b[0;36mDataFrame.__getitem__\u001b[1;34m(self, key)\u001b[0m\n\u001b[0;32m   3805\u001b[0m \u001b[38;5;28;01mif\u001b[39;00m \u001b[38;5;28mself\u001b[39m\u001b[38;5;241m.\u001b[39mcolumns\u001b[38;5;241m.\u001b[39mnlevels \u001b[38;5;241m>\u001b[39m \u001b[38;5;241m1\u001b[39m:\n\u001b[0;32m   3806\u001b[0m     \u001b[38;5;28;01mreturn\u001b[39;00m \u001b[38;5;28mself\u001b[39m\u001b[38;5;241m.\u001b[39m_getitem_multilevel(key)\n\u001b[1;32m-> 3807\u001b[0m indexer \u001b[38;5;241m=\u001b[39m \u001b[38;5;28;43mself\u001b[39;49m\u001b[38;5;241;43m.\u001b[39;49m\u001b[43mcolumns\u001b[49m\u001b[38;5;241;43m.\u001b[39;49m\u001b[43mget_loc\u001b[49m\u001b[43m(\u001b[49m\u001b[43mkey\u001b[49m\u001b[43m)\u001b[49m\n\u001b[0;32m   3808\u001b[0m \u001b[38;5;28;01mif\u001b[39;00m is_integer(indexer):\n\u001b[0;32m   3809\u001b[0m     indexer \u001b[38;5;241m=\u001b[39m [indexer]\n",
      "File \u001b[1;32m~\\anaconda3\\lib\\site-packages\\pandas\\core\\indexes\\base.py:3804\u001b[0m, in \u001b[0;36mIndex.get_loc\u001b[1;34m(self, key, method, tolerance)\u001b[0m\n\u001b[0;32m   3802\u001b[0m     \u001b[38;5;28;01mreturn\u001b[39;00m \u001b[38;5;28mself\u001b[39m\u001b[38;5;241m.\u001b[39m_engine\u001b[38;5;241m.\u001b[39mget_loc(casted_key)\n\u001b[0;32m   3803\u001b[0m \u001b[38;5;28;01mexcept\u001b[39;00m \u001b[38;5;167;01mKeyError\u001b[39;00m \u001b[38;5;28;01mas\u001b[39;00m err:\n\u001b[1;32m-> 3804\u001b[0m     \u001b[38;5;28;01mraise\u001b[39;00m \u001b[38;5;167;01mKeyError\u001b[39;00m(key) \u001b[38;5;28;01mfrom\u001b[39;00m \u001b[38;5;21;01merr\u001b[39;00m\n\u001b[0;32m   3805\u001b[0m \u001b[38;5;28;01mexcept\u001b[39;00m \u001b[38;5;167;01mTypeError\u001b[39;00m:\n\u001b[0;32m   3806\u001b[0m     \u001b[38;5;66;03m# If we have a listlike key, _check_indexing_error will raise\u001b[39;00m\n\u001b[0;32m   3807\u001b[0m     \u001b[38;5;66;03m#  InvalidIndexError. Otherwise we fall through and re-raise\u001b[39;00m\n\u001b[0;32m   3808\u001b[0m     \u001b[38;5;66;03m#  the TypeError.\u001b[39;00m\n\u001b[0;32m   3809\u001b[0m     \u001b[38;5;28mself\u001b[39m\u001b[38;5;241m.\u001b[39m_check_indexing_error(key)\n",
      "\u001b[1;31mKeyError\u001b[0m: 0"
     ]
    }
   ],
   "source": [
    "print(X_train[0][1])"
   ]
  },
  {
   "cell_type": "code",
   "execution_count": 168,
   "id": "05d3154d",
   "metadata": {},
   "outputs": [
    {
     "name": "stdout",
     "output_type": "stream",
     "text": [
      "[[0. 0. 0. ... 0. 0. 0.]\n",
      " [0. 0. 0. ... 0. 0. 0.]\n",
      " [0. 0. 0. ... 0. 0. 0.]\n",
      " ...\n",
      " [0. 0. 0. ... 0. 0. 0.]\n",
      " [0. 0. 0. ... 0. 0. 0.]\n",
      " [0. 0. 0. ... 0. 0. 0.]]\n"
     ]
    }
   ],
   "source": [
    "print(A)"
   ]
  },
  {
   "cell_type": "code",
   "execution_count": 169,
   "id": "f9a866c7",
   "metadata": {},
   "outputs": [
    {
     "data": {
      "text/plain": [
       "array([-0.44767025])"
      ]
     },
     "execution_count": 169,
     "metadata": {},
     "output_type": "execute_result"
    }
   ],
   "source": [
    "regole_matrice[1]"
   ]
  },
  {
   "cell_type": "code",
   "execution_count": 170,
   "id": "185b44b1",
   "metadata": {},
   "outputs": [
    {
     "ename": "KeyError",
     "evalue": "0",
     "output_type": "error",
     "traceback": [
      "\u001b[1;31m---------------------------------------------------------------------------\u001b[0m",
      "\u001b[1;31mKeyError\u001b[0m                                  Traceback (most recent call last)",
      "File \u001b[1;32m~\\anaconda3\\lib\\site-packages\\pandas\\core\\indexes\\base.py:3802\u001b[0m, in \u001b[0;36mIndex.get_loc\u001b[1;34m(self, key, method, tolerance)\u001b[0m\n\u001b[0;32m   3801\u001b[0m \u001b[38;5;28;01mtry\u001b[39;00m:\n\u001b[1;32m-> 3802\u001b[0m     \u001b[38;5;28;01mreturn\u001b[39;00m \u001b[38;5;28;43mself\u001b[39;49m\u001b[38;5;241;43m.\u001b[39;49m\u001b[43m_engine\u001b[49m\u001b[38;5;241;43m.\u001b[39;49m\u001b[43mget_loc\u001b[49m\u001b[43m(\u001b[49m\u001b[43mcasted_key\u001b[49m\u001b[43m)\u001b[49m\n\u001b[0;32m   3803\u001b[0m \u001b[38;5;28;01mexcept\u001b[39;00m \u001b[38;5;167;01mKeyError\u001b[39;00m \u001b[38;5;28;01mas\u001b[39;00m err:\n",
      "File \u001b[1;32m~\\anaconda3\\lib\\site-packages\\pandas\\_libs\\index.pyx:138\u001b[0m, in \u001b[0;36mpandas._libs.index.IndexEngine.get_loc\u001b[1;34m()\u001b[0m\n",
      "File \u001b[1;32m~\\anaconda3\\lib\\site-packages\\pandas\\_libs\\index.pyx:165\u001b[0m, in \u001b[0;36mpandas._libs.index.IndexEngine.get_loc\u001b[1;34m()\u001b[0m\n",
      "File \u001b[1;32mpandas\\_libs\\hashtable_class_helper.pxi:5745\u001b[0m, in \u001b[0;36mpandas._libs.hashtable.PyObjectHashTable.get_item\u001b[1;34m()\u001b[0m\n",
      "File \u001b[1;32mpandas\\_libs\\hashtable_class_helper.pxi:5753\u001b[0m, in \u001b[0;36mpandas._libs.hashtable.PyObjectHashTable.get_item\u001b[1;34m()\u001b[0m\n",
      "\u001b[1;31mKeyError\u001b[0m: 0",
      "\nThe above exception was the direct cause of the following exception:\n",
      "\u001b[1;31mKeyError\u001b[0m                                  Traceback (most recent call last)",
      "Cell \u001b[1;32mIn[170], line 2\u001b[0m\n\u001b[0;32m      1\u001b[0m regole_matrice\n\u001b[1;32m----> 2\u001b[0m a \u001b[38;5;241m=\u001b[39m \u001b[43mX_train\u001b[49m\u001b[43m[\u001b[49m\u001b[38;5;241;43m0\u001b[39;49m\u001b[43m]\u001b[49m[:] \u001b[38;5;241m*\u001b[39m regole_matrice[\u001b[38;5;241m0\u001b[39m]\n\u001b[0;32m      3\u001b[0m \u001b[38;5;28mprint\u001b[39m(a)\n",
      "File \u001b[1;32m~\\anaconda3\\lib\\site-packages\\pandas\\core\\frame.py:3807\u001b[0m, in \u001b[0;36mDataFrame.__getitem__\u001b[1;34m(self, key)\u001b[0m\n\u001b[0;32m   3805\u001b[0m \u001b[38;5;28;01mif\u001b[39;00m \u001b[38;5;28mself\u001b[39m\u001b[38;5;241m.\u001b[39mcolumns\u001b[38;5;241m.\u001b[39mnlevels \u001b[38;5;241m>\u001b[39m \u001b[38;5;241m1\u001b[39m:\n\u001b[0;32m   3806\u001b[0m     \u001b[38;5;28;01mreturn\u001b[39;00m \u001b[38;5;28mself\u001b[39m\u001b[38;5;241m.\u001b[39m_getitem_multilevel(key)\n\u001b[1;32m-> 3807\u001b[0m indexer \u001b[38;5;241m=\u001b[39m \u001b[38;5;28;43mself\u001b[39;49m\u001b[38;5;241;43m.\u001b[39;49m\u001b[43mcolumns\u001b[49m\u001b[38;5;241;43m.\u001b[39;49m\u001b[43mget_loc\u001b[49m\u001b[43m(\u001b[49m\u001b[43mkey\u001b[49m\u001b[43m)\u001b[49m\n\u001b[0;32m   3808\u001b[0m \u001b[38;5;28;01mif\u001b[39;00m is_integer(indexer):\n\u001b[0;32m   3809\u001b[0m     indexer \u001b[38;5;241m=\u001b[39m [indexer]\n",
      "File \u001b[1;32m~\\anaconda3\\lib\\site-packages\\pandas\\core\\indexes\\base.py:3804\u001b[0m, in \u001b[0;36mIndex.get_loc\u001b[1;34m(self, key, method, tolerance)\u001b[0m\n\u001b[0;32m   3802\u001b[0m     \u001b[38;5;28;01mreturn\u001b[39;00m \u001b[38;5;28mself\u001b[39m\u001b[38;5;241m.\u001b[39m_engine\u001b[38;5;241m.\u001b[39mget_loc(casted_key)\n\u001b[0;32m   3803\u001b[0m \u001b[38;5;28;01mexcept\u001b[39;00m \u001b[38;5;167;01mKeyError\u001b[39;00m \u001b[38;5;28;01mas\u001b[39;00m err:\n\u001b[1;32m-> 3804\u001b[0m     \u001b[38;5;28;01mraise\u001b[39;00m \u001b[38;5;167;01mKeyError\u001b[39;00m(key) \u001b[38;5;28;01mfrom\u001b[39;00m \u001b[38;5;21;01merr\u001b[39;00m\n\u001b[0;32m   3805\u001b[0m \u001b[38;5;28;01mexcept\u001b[39;00m \u001b[38;5;167;01mTypeError\u001b[39;00m:\n\u001b[0;32m   3806\u001b[0m     \u001b[38;5;66;03m# If we have a listlike key, _check_indexing_error will raise\u001b[39;00m\n\u001b[0;32m   3807\u001b[0m     \u001b[38;5;66;03m#  InvalidIndexError. Otherwise we fall through and re-raise\u001b[39;00m\n\u001b[0;32m   3808\u001b[0m     \u001b[38;5;66;03m#  the TypeError.\u001b[39;00m\n\u001b[0;32m   3809\u001b[0m     \u001b[38;5;28mself\u001b[39m\u001b[38;5;241m.\u001b[39m_check_indexing_error(key)\n",
      "\u001b[1;31mKeyError\u001b[0m: 0"
     ]
    }
   ],
   "source": [
    "regole_matrice\n",
    "a = X_train[0][:] * regole_matrice[0]\n",
    "print(a)"
   ]
  },
  {
   "cell_type": "code",
   "execution_count": 63,
   "id": "23185aec",
   "metadata": {},
   "outputs": [],
   "source": [
    "def weak_learner(X, y, w):\n",
    "    # Define and train the weak learner\n",
    "    clf = DecisionTreeClassifier(max_depth=2)\n",
    "    clf.fit(X, y,sample_weight=w)\n",
    "    return clf"
   ]
  },
  {
   "cell_type": "code",
   "execution_count": 64,
   "id": "db52b46f",
   "metadata": {},
   "outputs": [
    {
     "name": "stdout",
     "output_type": "stream",
     "text": [
      "Predictions: [-1 -1 -1 ... -1  1 -1]\n"
     ]
    }
   ],
   "source": [
    "#Train the weak learner : decision tree of max depth 2 \n",
    "weak_classifier = weak_learner(X_train, y_train,1)\n",
    "y_pred_weak = weak_classifier.predict(X_test)\n",
    "print(\"Predictions:\", y_pred_weak)"
   ]
  },
  {
   "cell_type": "code",
   "execution_count": null,
   "id": "e8052eb6",
   "metadata": {},
   "outputs": [],
   "source": [
    "import warnings\n",
    "warnings.filterwarnings(\"ignore\", category=UserWarning)\n",
    "m, n = X_train.shape\n",
    "A = np.zeros((m, n))\n",
    "X_train = np.array(X_train)\n",
    "y_train = np.array(y_train)\n",
    "for i in range(m):\n",
    "    # Get the i-th training example\n",
    "    xi = X_train[i]\n",
    "    yi = y_train[i]\n",
    "\n",
    "    # Compute the prediction of the weak classifier for xi\n",
    "    prediction = weak_classifier.predict([xi])\n",
    "\n",
    "    # Assign the product of yi and the prediction to the corresponding element in A\n",
    "    A[i, :] = yi * prediction"
   ]
  },
  {
   "cell_type": "code",
   "execution_count": null,
   "id": "78e1004d",
   "metadata": {},
   "outputs": [],
   "source": [
    "A=pd.DataFrame(A)"
   ]
  },
  {
   "cell_type": "code",
   "execution_count": null,
   "id": "d1801180",
   "metadata": {},
   "outputs": [],
   "source": [
    "A"
   ]
  },
  {
   "cell_type": "code",
   "execution_count": null,
   "id": "eb58e030",
   "metadata": {},
   "outputs": [],
   "source": [
    "A[0]=A[0].astype(int)\n",
    "A[1]=A[1].astype(int)"
   ]
  },
  {
   "cell_type": "code",
   "execution_count": 65,
   "id": "0e1b9bf6",
   "metadata": {},
   "outputs": [],
   "source": [
    "#set d0\n",
    "d0 = np.zeros(m)\n",
    "for i in range(m):\n",
    "    d0[i] = 1/m "
   ]
  },
  {
   "cell_type": "code",
   "execution_count": 66,
   "id": "8b479f73",
   "metadata": {},
   "outputs": [
    {
     "data": {
      "text/plain": [
       "4240"
      ]
     },
     "execution_count": 66,
     "metadata": {},
     "output_type": "execute_result"
    }
   ],
   "source": [
    "len(d0)"
   ]
  },
  {
   "cell_type": "code",
   "execution_count": 67,
   "id": "9a6469ec",
   "metadata": {},
   "outputs": [],
   "source": [
    "#sendo d0 to the weak learner to obtain hj_1\n",
    "h= weak_learner(X_train,y_train,d0)\n",
    "hj_1 = h.tree_.threshold.reshape(-1, 1)\n"
   ]
  },
  {
   "cell_type": "code",
   "execution_count": 68,
   "id": "019c5e84",
   "metadata": {},
   "outputs": [
    {
     "data": {
      "text/plain": [
       "7"
      ]
     },
     "execution_count": 68,
     "metadata": {},
     "output_type": "execute_result"
    }
   ],
   "source": [
    "len(hj_1)"
   ]
  },
  {
   "cell_type": "code",
   "execution_count": 69,
   "id": "b435008a",
   "metadata": {},
   "outputs": [
    {
     "ename": "NameError",
     "evalue": "name 'regole_matrice_1' is not defined",
     "output_type": "error",
     "traceback": [
      "\u001b[1;31m---------------------------------------------------------------------------\u001b[0m",
      "\u001b[1;31mNameError\u001b[0m                                 Traceback (most recent call last)",
      "Cell \u001b[1;32mIn[69], line 1\u001b[0m\n\u001b[1;32m----> 1\u001b[0m \u001b[43mregole_matrice_1\u001b[49m\n",
      "\u001b[1;31mNameError\u001b[0m: name 'regole_matrice_1' is not defined"
     ]
    }
   ],
   "source": [
    "regole_matrice_1"
   ]
  },
  {
   "cell_type": "code",
   "execution_count": null,
   "id": "e9a689ae",
   "metadata": {},
   "outputs": [],
   "source": [
    "A"
   ]
  },
  {
   "cell_type": "code",
   "execution_count": null,
   "id": "28d03039",
   "metadata": {},
   "outputs": [],
   "source": [
    "A1 = np.zeros((m, len(hj_1)))"
   ]
  },
  {
   "cell_type": "code",
   "execution_count": null,
   "id": "e97d0e34",
   "metadata": {},
   "outputs": [],
   "source": [
    "A1[0,:] = prediction"
   ]
  },
  {
   "cell_type": "code",
   "execution_count": null,
   "id": "fb30a7b5",
   "metadata": {},
   "outputs": [],
   "source": [
    "A1"
   ]
  },
  {
   "cell_type": "code",
   "execution_count": 70,
   "id": "1f98d7f9",
   "metadata": {},
   "outputs": [
    {
     "name": "stdout",
     "output_type": "stream",
     "text": [
      "[0. 0. 0. 0. 1. 0. 0.]\n"
     ]
    }
   ],
   "source": [
    "def encode_hypothesis(hypothesis, num_hypotheses):\n",
    "    encoded_vector = np.zeros(num_hypotheses)\n",
    "    encoded_vector[hypothesis] = 1\n",
    "    return encoded_vector\n",
    "\n",
    "hj_1_index = np.argmax(hj_1)  # Find the index of the predicted hypothesis\n",
    "num_hypotheses = len(hj_1)  # Total number of hypotheses in the set H\n",
    "\n",
    "ej1 = encode_hypothesis(hj_1_index, num_hypotheses)\n",
    "print(ej1)"
   ]
  },
  {
   "cell_type": "code",
   "execution_count": null,
   "id": "d643985d",
   "metadata": {},
   "outputs": [],
   "source": [
    "ej1.size"
   ]
  },
  {
   "cell_type": "code",
   "execution_count": null,
   "id": "32a53f96",
   "metadata": {},
   "outputs": [],
   "source": [
    "m"
   ]
  },
  {
   "cell_type": "code",
   "execution_count": null,
   "id": "39748ffc",
   "metadata": {},
   "outputs": [],
   "source": [
    "n"
   ]
  },
  {
   "cell_type": "code",
   "execution_count": 71,
   "id": "e1eb674c",
   "metadata": {},
   "outputs": [],
   "source": [
    "w = np.zeros(m,)\n",
    "w=ej1"
   ]
  },
  {
   "cell_type": "code",
   "execution_count": 72,
   "id": "80146699",
   "metadata": {},
   "outputs": [
    {
     "data": {
      "text/plain": [
       "array([0., 0., 0., 0., 1., 0., 0.])"
      ]
     },
     "execution_count": 72,
     "metadata": {},
     "output_type": "execute_result"
    }
   ],
   "source": [
    "w"
   ]
  },
  {
   "cell_type": "code",
   "execution_count": 117,
   "id": "af16437c",
   "metadata": {},
   "outputs": [],
   "source": [
    "def delta(d):\n",
    "    m = len(d)\n",
    "    return np.sum(d * np.log(d)) + np.log(m)\n",
    "\n",
    "def expression(d):\n",
    "    return np.dot(d.T, np.dot(A2, w)) + (1/n) * delta(d)\n",
    "\n",
    "def minimize_expression(A2, w_1, n, v):\n",
    "    m = A2.shape[0]  # Numero di righe nella matrice A\n",
    "    P_m_v = np.random.rand(m) / v  # Generazione casuale di d in [0, 1/v]^m (ad esempio)\n",
    "    best_d = None\n",
    "    min_value = float('inf')\n",
    "    for _ in range(m):  # Prova vari valori casuali di d\n",
    "        d = P_m_v / np.sum(P_m_v)  # Normalizza per rispettare Σₖ dₖ¹ = 1\n",
    "        value = expression(d)\n",
    "        \n",
    "        if value < min_value:\n",
    "            min_value = value\n",
    "            best_d = d\n",
    "\n",
    "    return d, best_d"
   ]
  },
  {
   "cell_type": "code",
   "execution_count": 118,
   "id": "47e62f62",
   "metadata": {},
   "outputs": [],
   "source": [
    "v = 100\n"
   ]
  },
  {
   "cell_type": "code",
   "execution_count": 119,
   "id": "697c78d2",
   "metadata": {},
   "outputs": [],
   "source": [
    "d, result = minimize_expression(A2, w, n, v)"
   ]
  },
  {
   "cell_type": "code",
   "execution_count": 76,
   "id": "d4667f63",
   "metadata": {},
   "outputs": [
    {
     "data": {
      "text/plain": [
       "(4240, 4240, 4240)"
      ]
     },
     "execution_count": 76,
     "metadata": {},
     "output_type": "execute_result"
    }
   ],
   "source": [
    "len(d), len(result), len(d0)"
   ]
  },
  {
   "cell_type": "code",
   "execution_count": 80,
   "id": "db665d67",
   "metadata": {},
   "outputs": [],
   "source": [
    "#obtain the hypotesis hj t+1 \n",
    "h2= weak_learner(X_train,y_train,result)\n",
    "hj_2 = h2.tree_.threshold.reshape(-1, 1)"
   ]
  },
  {
   "cell_type": "code",
   "execution_count": 81,
   "id": "c4249fea",
   "metadata": {},
   "outputs": [
    {
     "data": {
      "text/plain": [
       "array([[ 0.01415771],\n",
       "       [-0.45035842],\n",
       "       [-2.        ],\n",
       "       [-2.        ],\n",
       "       [ 0.54745764],\n",
       "       [-2.        ],\n",
       "       [-2.        ]])"
      ]
     },
     "execution_count": 81,
     "metadata": {},
     "output_type": "execute_result"
    }
   ],
   "source": [
    "hj_2"
   ]
  },
  {
   "cell_type": "code",
   "execution_count": 172,
   "id": "6073bd9e",
   "metadata": {},
   "outputs": [
    {
     "name": "stdout",
     "output_type": "stream",
     "text": [
      "<class 'numpy.ndarray'>\n",
      "<class 'numpy.ndarray'>\n",
      "[0. 0. 0. 0. 1. 0. 0.]\n",
      "        0    1    2    3    4    5    6\n",
      "0     1.0  1.0 -1.0 -1.0 -1.0 -1.0 -1.0\n",
      "1     1.0  1.0 -1.0 -1.0 -1.0 -1.0 -1.0\n",
      "2     1.0 -1.0 -1.0 -1.0 -1.0 -1.0 -1.0\n",
      "3     1.0 -1.0  1.0  1.0  1.0  1.0  1.0\n",
      "4     1.0  1.0 -1.0 -1.0 -1.0 -1.0 -1.0\n",
      "...   ...  ...  ...  ...  ...  ...  ...\n",
      "4235  1.0  1.0 -1.0 -1.0 -1.0 -1.0 -1.0\n",
      "4236  1.0  1.0 -1.0 -1.0 -1.0 -1.0 -1.0\n",
      "4237  1.0  1.0  1.0  1.0  1.0  1.0  1.0\n",
      "4238  1.0  1.0  1.0  1.0  1.0  1.0  1.0\n",
      "4239  1.0 -1.0 -1.0 -1.0  1.0 -1.0 -1.0\n",
      "\n",
      "[4240 rows x 7 columns]\n"
     ]
    }
   ],
   "source": [
    "hj_2_index = np.argmax(hj_2)  # Find the index of the predicted hypothesis\n",
    "num_hypotheses = len(hj_2)  # Total number of hypotheses in the set H\n",
    "\n",
    "ej2 = encode_hypothesis(hj_2_index, num_hypotheses)\n",
    "print(type(ej1))\n",
    "print(type(ej2))\n",
    "print(w)\n",
    "print(A2)"
   ]
  },
  {
   "cell_type": "code",
   "execution_count": 152,
   "id": "356ae554",
   "metadata": {},
   "outputs": [
    {
     "name": "stdout",
     "output_type": "stream",
     "text": [
      "value0 is: [0. 0. 0. ... 0. 0. 0.]\n",
      "value1 is: 0.0\n",
      "value2 is: [0. 0. 0. ... 0. 0. 0.]\n",
      "value3 is: 0.0\n",
      "value is: nan\n",
      "lamb is: [nan]\n",
      "r is: [0. 0. 0. 0. 0. 0. 0.]\n",
      "w_1 is: [nan nan nan nan nan nan nan]\n"
     ]
    },
    {
     "name": "stderr",
     "output_type": "stream",
     "text": [
      "C:\\Users\\matteo posenato\\AppData\\Local\\Temp\\ipykernel_12588\\1028861585.py:11: RuntimeWarning: invalid value encountered in scalar divide\n",
      "  value = value_1 / value_3\n"
     ]
    }
   ],
   "source": [
    "#compute the FW weight\n",
    "lamb= []\n",
    "value_0 = np.dot(A2, (ej2-w))\n",
    "print(\"value0 is: {}\".format(value_0))\n",
    "value_1 = np.dot(result.T, value_0)\n",
    "print(\"value1 is: {}\".format(value_1))\n",
    "value_2 = np.dot(A2, (ej2 - w))\n",
    "print(\"value2 is: {}\".format(value_2))\n",
    "value_3 = norm(value_2, ord=np.inf)\n",
    "print(\"value3 is: {}\".format(value_3))\n",
    "value = value_1 / value_3\n",
    "print(\"value is: {}\".format(value))\n",
    "lamb.insert(0, np.clip(value, 0, 1))\n",
    "print(\"lamb is: {}\".format(lamb))\n",
    "w_1= []\n",
    "r = (ej2 - w)\n",
    "print(\"r is: {}\".format(r))\n",
    "w_1 = w + (lamb*r)\n",
    "print(\"w_1 is: {}\".format(w_1))"
   ]
  },
  {
   "cell_type": "code",
   "execution_count": 101,
   "id": "279bd8e1",
   "metadata": {},
   "outputs": [
    {
     "name": "stdout",
     "output_type": "stream",
     "text": [
      "Vettore d ottimale: [5.51040843e-05 1.23241849e-04 7.41805742e-05 ... 1.13072830e-04\n",
      " 1.38732425e-04 2.16363394e-04]\n",
      "Valore minimo: 0.47819370864332117\n"
     ]
    }
   ],
   "source": [
    "\n",
    "def secondary_weight(A, d, w):\n",
    "    return np.dot(d.T, np.dot(A, w))\n",
    "def objective_function(d):\n",
    "        return secondary_weight(A2, d, w)\n",
    "\n",
    "def minimize_secondary_weight(A, w):\n",
    "    m = A.shape[0]\n",
    "    best_d = None\n",
    "    min_value = float('inf')\n",
    "\n",
    "    for _ in range(m):\n",
    "        value = objective_function(d)\n",
    "        if value < min_value:\n",
    "            min_value = value\n",
    "            best_d = d\n",
    "\n",
    "    return best_d, min_value\n",
    "result_d, result_value = minimize_secondary_weight(A2, w)\n",
    "print(\"Vettore d ottimale:\", result_d)\n",
    "print(\"Valore minimo:\", result_value)\n"
   ]
  },
  {
   "cell_type": "code",
   "execution_count": 112,
   "id": "e042bce6",
   "metadata": {},
   "outputs": [
    {
     "ename": "ValueError",
     "evalue": "setting an array element with a sequence. The requested array has an inhomogeneous shape after 1 dimensions. The detected shape was (2,) + inhomogeneous part.",
     "output_type": "error",
     "traceback": [
      "\u001b[1;31m---------------------------------------------------------------------------\u001b[0m",
      "\u001b[1;31mValueError\u001b[0m                                Traceback (most recent call last)",
      "Cell \u001b[1;32mIn[112], line 3\u001b[0m\n\u001b[0;32m      1\u001b[0m \u001b[38;5;66;03m#update the weight\u001b[39;00m\n\u001b[0;32m      2\u001b[0m w_2 \u001b[38;5;241m=\u001b[39m w\n\u001b[1;32m----> 3\u001b[0m w_f \u001b[38;5;241m=\u001b[39m \u001b[43mnp\u001b[49m\u001b[38;5;241;43m.\u001b[39;49m\u001b[43marray\u001b[49m\u001b[43m(\u001b[49m\u001b[43m[\u001b[49m\u001b[43mw_1\u001b[49m\u001b[43m,\u001b[49m\u001b[43m \u001b[49m\u001b[43mw_2\u001b[49m\u001b[43m]\u001b[49m\u001b[43m)\u001b[49m\n\u001b[0;32m      5\u001b[0m \u001b[38;5;28;01mdef\u001b[39;00m \u001b[38;5;21mf\u001b[39m(w):\n\u001b[0;32m      6\u001b[0m     \u001b[38;5;28;01mreturn\u001b[39;00m np\u001b[38;5;241m.\u001b[39mdot(d\u001b[38;5;241m.\u001b[39mT, np\u001b[38;5;241m.\u001b[39mdot(A2, w))\n",
      "\u001b[1;31mValueError\u001b[0m: setting an array element with a sequence. The requested array has an inhomogeneous shape after 1 dimensions. The detected shape was (2,) + inhomogeneous part."
     ]
    }
   ],
   "source": [
    "#update the weight\n",
    "w_2 = w\n",
    "w_f = np.array([w_1, w_2])\n",
    "\n",
    "def f(w):\n",
    "    return np.dot(d.T, np.dot(A2, w))\n",
    "def f_1(x, w):\n",
    "    if x == 0:\n",
    "        return f(w[0])\n",
    "    elif x == 1:\n",
    "        return f(w[1])\n",
    "\n",
    "# Trova l'argomento che minimizza la funzione per il primo vettore\n",
    "result_1 = minimize_scalar(f_1, args=(w_f,), bounds=(0, 0), method='bounded')\n",
    "arg_min_1 = result_1.x\n",
    "print(arg_min_1)\n",
    "\n",
    "# Trova l'argomento che minimizza la funzione per il secondo vettore\n",
    "result_2 = minimize_scalar(f_1, args=(w_f,), bounds=(1, 1), method='bounded')\n",
    "arg_min_2 = result_2.x\n",
    "print(arg_min_2) \n",
    "# Confronta i risultati per determinare quale valore minimizza di più la funzione\n",
    "if arg_min_1 < arg_min_2:\n",
    "    # Il primo vettore minimizza di più la funzione\n",
    "    print(\"Il primo vettore minimizza di più la funzione.\")\n",
    "    print(\"argmin1: {}\".format(arg_min_1))\n",
    "    w[t_n] = arg_min_1\n",
    "elif arg_min_1 > arg_min_2:\n",
    "    # Il secondo vettore minimizza di più la funzione\n",
    "    print(\"Il secondo vettore minimizza di più la funzione.\")\n",
    "    print(\"argmin2: {}\".format(arg_min_2))\n",
    "    w[t_n] = arg_min_2\n",
    "else:\n",
    "    # Entrambi i valori sono uguali\n",
    "    print(\"Entrambi i valori minimizzano la funzione allo stesso modo.\")"
   ]
  },
  {
   "cell_type": "code",
   "execution_count": 162,
   "id": "3184b544",
   "metadata": {},
   "outputs": [],
   "source": [
    "w_2 = w\n",
    "f_w = []\n",
    "f_w.insert(0, w_1)\n",
    "f_w.insert(1, w_2)\n",
    "f_w = [array.tolist() for array in f_w]\n",
    "def f(w):\n",
    "    return np.dot(d.T, np.dot(A2, w))\n",
    "def update_weights(f_w):\n",
    "    best_w = None\n",
    "    min_value = float('inf')\n",
    "    s = A2.shape[1]\n",
    "    for c in range(len(f_w)):\n",
    "        for _ in range(s):\n",
    "            value = f(f_w[c])\n",
    "            if value < min_value:\n",
    "                min_value = value\n",
    "                best_w = f_w[c]\n",
    "    return best_w, min_value"
   ]
  },
  {
   "cell_type": "code",
   "execution_count": 163,
   "id": "77f60c6b",
   "metadata": {},
   "outputs": [],
   "source": [
    "best_w, v = update_weights(f_w)"
   ]
  },
  {
   "cell_type": "code",
   "execution_count": 164,
   "id": "4352fbff",
   "metadata": {},
   "outputs": [
    {
     "name": "stdout",
     "output_type": "stream",
     "text": [
      "[0.0, 0.0, 0.0, 0.0, 1.0, 0.0, 0.0]\n"
     ]
    }
   ],
   "source": [
    "print(best_w)"
   ]
  },
  {
   "cell_type": "code",
   "execution_count": null,
   "id": "3e2d6ba2",
   "metadata": {},
   "outputs": [],
   "source": [
    "def create_d_t(d, A, w):\n",
    "    m = len(d)\n",
    "    delta = np.sum(d * np.log(d)) + np.log(m)\n",
    "    result = np.dot(d.T, np.dot(A, w))\n",
    "    result += (1/m) * delta\n",
    "    return result"
   ]
  },
  {
   "cell_type": "code",
   "execution_count": null,
   "id": "99f2f1a3",
   "metadata": {},
   "outputs": [],
   "source": [
    "#set v, T parameters\n",
    "v = 100\n",
    "T = 5\n",
    "#create all the variables that we need\n",
    "E_t = []\n",
    "E_t.insert(0, ej1)\n",
    "lamb = []\n",
    "lamb.insert(0, np.zeros(m))\n",
    "for t in range(1, T):\n",
    "    #create the distribution d_t\n",
    "    t_n = t + 1\n",
    "    d, result = minimize_expression(A1, w, n, v)\n",
    "    print(\"d_t is {}\".format(result))\n",
    "    #obtain the hypothesis h_j+1 and e_j+1\n",
    "    h= weak_learner(X_train,y_train,result)\n",
    "    hj_next= weak_classifier.predict(X_test)  # Total number of hypotheses in the set H\n",
    "    hj_next_index = np.argmax(hj_next)  # Find the index of the predicted hypothesis\n",
    "    num_hypotheses = len(hj_next)  # Total number of hypotheses in the set H\n",
    "    ej_next = encode_hypothesis(hj_1_index, num_hypotheses)\n",
    "    E_t.insert(t_n, ej_next)\n",
    "    print(len(ej_next))\n",
    "    #compute the FW weight\n",
    "    value_0 = np.dot(A1, (ej_next-w[t]))\n",
    "    value_1 = np.dot(result.T, value_0)\n",
    "    value_2 = np.dot(A1, ej_next - w[t])\n",
    "    value_3 = norm(value_2, ord=np.inf)\n",
    "    value = value_1 / value_3\n",
    "    lamb.insert(t, np.clip(value, 0, 1))\n",
    "    w_1= []\n",
    "    r = (ej_next - w[t])\n",
    "    w_1.insert(0, w[t] + (lamb[t]*r))\n",
    "    print(w_1)\n",
    "    #compute the secondary weight\n",
    "    w_2 = []\n",
    "    my_f = lambda d, A, w: np.dot(d.T, np.dot(A1, w))\n",
    "    result = minimize(my_f, x0=d, args=(A1, w))\n",
    "    w_2.append(result.x)\n",
    "    print(w_2)\n",
    "    #update the weight\n",
    "    w_f = np.array([w_1, w_2])\n",
    "    def f(w):\n",
    "        return np.dot(d0.T, -np.dot(A, w))\n",
    "    def f_1(x, w):\n",
    "        if x == 0:\n",
    "            return f(w[0])\n",
    "        elif x == 1:\n",
    "            return f(w[1])\n",
    "\n",
    "    # Trova l'argomento che minimizza la funzione per il primo vettore\n",
    "    result_1 = minimize_scalar(f_1, args=(w_f,), bounds=(0, 0), method='bounded')\n",
    "    arg_min_1 = result_1.x\n",
    "    print(arg_min_1)\n",
    "\n",
    "    # Trova l'argomento che minimizza la funzione per il secondo vettore\n",
    "    result_2 = minimize_scalar(f_1, args=(w_f,), bounds=(1, 1), method='bounded')\n",
    "    arg_min_2 = result_2.x\n",
    "    print(arg_min_2)\n",
    "    # Confronta i risultati per determinare quale valore minimizza di più la funzione\n",
    "    if arg_min_1 < arg_min_2:\n",
    "        # Il primo vettore minimizza di più la funzione\n",
    "        print(\"Il primo vettore minimizza di più la funzione.\")\n",
    "        print(\"argmin1: {}\".format(arg_min_1))\n",
    "        w[t_n] = arg_min_1\n",
    "    elif arg_min_1 > arg_min_2:\n",
    "        # Il secondo vettore minimizza di più la funzione\n",
    "        print(\"Il secondo vettore minimizza di più la funzione.\")\n",
    "        print(\"argmin2: {}\".format(arg_min_2))\n",
    "        w[t_n] = arg_min_2\n",
    "    else:\n",
    "        # Entrambi i valori sono uguali\n",
    "        print(\"Entrambi i valori minimizzano la funzione allo stesso modo.\")"
   ]
  },
  {
   "cell_type": "code",
   "execution_count": null,
   "id": "c2689301",
   "metadata": {},
   "outputs": [],
   "source": []
  }
 ],
 "metadata": {
  "kernelspec": {
   "display_name": "Python 3 (ipykernel)",
   "language": "python",
   "name": "python3"
  },
  "language_info": {
   "codemirror_mode": {
    "name": "ipython",
    "version": 3
   },
   "file_extension": ".py",
   "mimetype": "text/x-python",
   "name": "python",
   "nbconvert_exporter": "python",
   "pygments_lexer": "ipython3",
   "version": "3.10.9"
  }
 },
 "nbformat": 4,
 "nbformat_minor": 5
}
