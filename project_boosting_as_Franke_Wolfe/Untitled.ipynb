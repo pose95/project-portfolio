{
 "cells": [
  {
   "cell_type": "code",
   "execution_count": 7,
   "id": "0cd9fc26",
   "metadata": {},
   "outputs": [],
   "source": [
    "import pandas as pd\n",
    "import numpy as np\n",
    "from sklearn.model_selection import train_test_split\n",
    "from sklearn.tree import DecisionTreeClassifier\n",
    "import math\n",
    "from scipy.optimize import minimize\n",
    "from scipy.spatial import ConvexHull\n",
    "from scipy.linalg import norm\n",
    "from scipy.optimize import minimize_scalar\n",
    "\n",
    "data = pd.read_csv(\"banana.csv\", sep=',')"
   ]
  },
  {
   "cell_type": "code",
   "execution_count": 8,
   "id": "18fea418",
   "metadata": {},
   "outputs": [],
   "source": [
    "def weak_learner(X, y, w):\n",
    "    # Define and train the weak learner\n",
    "    clf = DecisionTreeClassifier(max_depth=2)\n",
    "    clf.fit(X, y,sample_weight=w)\n",
    "    return clf"
   ]
  },
  {
   "cell_type": "code",
   "execution_count": 9,
   "id": "269366c5",
   "metadata": {},
   "outputs": [],
   "source": [
    "def encode_hypothesis(hypothesis, num_hypotheses, h):\n",
    "    encoded_vector = np.zeros(num_hypotheses)\n",
    "    encoded_vector[hypothesis] = h[hypothesis]\n",
    "    return encoded_vector"
   ]
  },
  {
   "cell_type": "code",
   "execution_count": 10,
   "id": "76d33f4b",
   "metadata": {},
   "outputs": [],
   "source": [
    "def delta(d):\n",
    "    m = len(d)\n",
    "    return np.sum(d * np.log(d)) + np.log(m)\n",
    "\n",
    "def expression(d):\n",
    "    return np.dot(d.T, np.dot(A2, w)) + (1/n) * delta(d)\n",
    "\n",
    "def minimize_expression(A2, w_1, n, v):\n",
    "    m = A2.shape[0]  # Numero di righe nella matrice A\n",
    "    P_m_v = np.random.rand(m) / v  # Generazione casuale di d in [0, 1/v]^m (ad esempio)\n",
    "    best_d = None\n",
    "    min_value = float('inf')\n",
    "    for _ in range(m):  # Prova vari valori casuali di d\n",
    "        d = P_m_v / np.sum(P_m_v)  # Normalizza per rispettare Σₖ dₖ¹ = 1\n",
    "        value = expression(d)\n",
    "        \n",
    "        if value < min_value:\n",
    "            min_value = value\n",
    "            best_d = d\n",
    "\n",
    "    return d, best_d"
   ]
  },
  {
   "cell_type": "code",
   "execution_count": 11,
   "id": "0a745878",
   "metadata": {},
   "outputs": [],
   "source": [
    "def secondary_weight(A, d, w):\n",
    "    return np.dot(d.T, np.dot(A, w))\n",
    "\n",
    "def minimize_secondary_weight(A, w):\n",
    "    m = A.shape[0]\n",
    "    best_d = None\n",
    "    min_value = float('inf')\n",
    "\n",
    "    for _ in range(m):\n",
    "        value = secondary_weight(A2, d, w)\n",
    "        if value < min_value:\n",
    "            min_value = value\n",
    "            best_d = d\n",
    "\n",
    "    return best_d, min_value\n",
    "\n",
    "def maximize_w_in_convex_hull(E_t_plus_1, A2, w):\n",
    "    max_value = -float('inf')\n",
    "    max_w = None\n",
    "    for w_candidate in E_t_plus_1:\n",
    "        d, value = minimize_secondary_weight(A2, w_candidate)\n",
    "        if value > max_value:\n",
    "            max_value = value\n",
    "            max_w = w_candidate\n",
    "    return max_w, max_value\n",
    "\n"
   ]
  },
  {
   "cell_type": "code",
   "execution_count": 12,
   "id": "43129512",
   "metadata": {},
   "outputs": [],
   "source": [
    "def f(w):\n",
    "    return np.dot(d.T, np.dot(A2, w))\n",
    "def update_weights(f_w):\n",
    "    best_w = None\n",
    "    min_value = float('inf')\n",
    "    s = A2.shape[1]\n",
    "    for c in range(len(f_w)):\n",
    "        for _ in range(s):\n",
    "            value = f(f_w[c])\n",
    "            if value < min_value:\n",
    "                min_value = value\n",
    "                best_w = f_w[c]\n",
    "    return best_w, min_value"
   ]
  },
  {
   "cell_type": "code",
   "execution_count": 13,
   "id": "5e76cac9",
   "metadata": {},
   "outputs": [],
   "source": [
    "#Normalizing the variables to values in [-1,1]\n",
    "for col in data.columns:\n",
    "    if col != 'Class':\n",
    "        min_val = data[col].min()\n",
    "        max_val = data[col].max()\n",
    "        data[col] = (data[col] - min_val) / (max_val - min_val)  # Normalize to range 0-1\n",
    "        data[col] = data[col] * 2 - 1  # Rescale to range -1 to 1"
   ]
  },
  {
   "cell_type": "code",
   "execution_count": 14,
   "id": "8e6aebd4",
   "metadata": {},
   "outputs": [],
   "source": [
    "#Data preparation \n",
    "train_data, test_data = train_test_split(data, test_size=0.2, random_state=123)\n",
    "X_train = train_data.drop('Class', axis=1)\n",
    "y_train = train_data['Class']\n",
    "\n",
    "X_test = test_data.drop('Class', axis=1)\n",
    "y_test = test_data['Class']"
   ]
  },
  {
   "cell_type": "code",
   "execution_count": 15,
   "id": "9f77a475",
   "metadata": {},
   "outputs": [
    {
     "name": "stdout",
     "output_type": "stream",
     "text": [
      "Matrice di regole di decisione:\n",
      "[[ 0.07150538]\n",
      " [-0.44767025]\n",
      " [-2.        ]\n",
      " [-2.        ]\n",
      " [ 0.5440678 ]\n",
      " [-2.        ]\n",
      " [-2.        ]]\n"
     ]
    }
   ],
   "source": [
    "# Creazione di un albero decisionale\n",
    "tree = DecisionTreeClassifier(max_depth=2)\n",
    "tree.fit(X_train, y_train)\n",
    "\n",
    "# Ottieni la matrice di regole di decisione (A)\n",
    "regole_matrice = tree.tree_.threshold.reshape(-1, 1)\n",
    "\n",
    "# Stampa la matrice di regole di decisione\n",
    "print(\"Matrice di regole di decisione:\")\n",
    "print(regole_matrice)"
   ]
  },
  {
   "cell_type": "code",
   "execution_count": 16,
   "id": "4ce467c8",
   "metadata": {},
   "outputs": [],
   "source": [
    "X_train_array = X_train.values"
   ]
  },
  {
   "cell_type": "code",
   "execution_count": 17,
   "id": "d130776e",
   "metadata": {},
   "outputs": [
    {
     "name": "stdout",
     "output_type": "stream",
     "text": [
      "Previsioni totali:\n",
      "[[ 1.  1. -1. ... -1. -1. -1.]\n",
      " [ 1.  1. -1. ... -1. -1. -1.]\n",
      " [ 1. -1. -1. ... -1. -1. -1.]\n",
      " ...\n",
      " [ 1.  1.  1. ...  1.  1.  1.]\n",
      " [ 1.  1.  1. ...  1.  1.  1.]\n",
      " [ 1. -1. -1. ...  1. -1. -1.]]\n"
     ]
    },
    {
     "name": "stderr",
     "output_type": "stream",
     "text": [
      "C:\\Users\\matteo posenato\\anaconda3\\lib\\site-packages\\sklearn\\base.py:439: UserWarning: X does not have valid feature names, but DecisionTreeClassifier was fitted with feature names\n",
      "  warnings.warn(\n",
      "C:\\Users\\matteo posenato\\anaconda3\\lib\\site-packages\\sklearn\\base.py:439: UserWarning: X does not have valid feature names, but DecisionTreeClassifier was fitted with feature names\n",
      "  warnings.warn(\n",
      "C:\\Users\\matteo posenato\\anaconda3\\lib\\site-packages\\sklearn\\base.py:439: UserWarning: X does not have valid feature names, but DecisionTreeClassifier was fitted with feature names\n",
      "  warnings.warn(\n",
      "C:\\Users\\matteo posenato\\anaconda3\\lib\\site-packages\\sklearn\\base.py:439: UserWarning: X does not have valid feature names, but DecisionTreeClassifier was fitted with feature names\n",
      "  warnings.warn(\n",
      "C:\\Users\\matteo posenato\\anaconda3\\lib\\site-packages\\sklearn\\base.py:439: UserWarning: X does not have valid feature names, but DecisionTreeClassifier was fitted with feature names\n",
      "  warnings.warn(\n",
      "C:\\Users\\matteo posenato\\anaconda3\\lib\\site-packages\\sklearn\\base.py:439: UserWarning: X does not have valid feature names, but DecisionTreeClassifier was fitted with feature names\n",
      "  warnings.warn(\n",
      "C:\\Users\\matteo posenato\\anaconda3\\lib\\site-packages\\sklearn\\base.py:439: UserWarning: X does not have valid feature names, but DecisionTreeClassifier was fitted with feature names\n",
      "  warnings.warn(\n"
     ]
    }
   ],
   "source": [
    "# Numero di righe nei dati di test\n",
    "n_righe = X_train.shape[0]\n",
    "\n",
    "# Numero di regole\n",
    "n_regole = 7\n",
    "\n",
    "# Matrice per memorizzare le previsioni per ogni riga e regola\n",
    "previsioni_totali = np.zeros((n_righe, n_regole))\n",
    "\n",
    "# Calcola le previsioni per ciascuna riga e ciascuna regola\n",
    "for i in range(n_regole):\n",
    "    previsioni_totali[:, i] = tree.predict(X_train_array * regole_matrice[i])\n",
    "\n",
    "print(\"Previsioni totali:\")\n",
    "print(previsioni_totali)\n"
   ]
  },
  {
   "cell_type": "code",
   "execution_count": 18,
   "id": "1bcf7689",
   "metadata": {},
   "outputs": [
    {
     "name": "stdout",
     "output_type": "stream",
     "text": [
      "        0    1    2    3    4    5    6\n",
      "0     1.0  1.0 -1.0 -1.0 -1.0 -1.0 -1.0\n",
      "1     1.0  1.0 -1.0 -1.0 -1.0 -1.0 -1.0\n",
      "2     1.0 -1.0 -1.0 -1.0 -1.0 -1.0 -1.0\n",
      "3     1.0 -1.0  1.0  1.0  1.0  1.0  1.0\n",
      "4     1.0  1.0 -1.0 -1.0 -1.0 -1.0 -1.0\n",
      "...   ...  ...  ...  ...  ...  ...  ...\n",
      "4235  1.0  1.0 -1.0 -1.0 -1.0 -1.0 -1.0\n",
      "4236  1.0  1.0 -1.0 -1.0 -1.0 -1.0 -1.0\n",
      "4237  1.0  1.0  1.0  1.0  1.0  1.0  1.0\n",
      "4238  1.0  1.0  1.0  1.0  1.0  1.0  1.0\n",
      "4239  1.0 -1.0 -1.0 -1.0  1.0 -1.0 -1.0\n",
      "\n",
      "[4240 rows x 7 columns]\n"
     ]
    }
   ],
   "source": [
    "previsioni_totali = pd.DataFrame(previsioni_totali)\n",
    "A2 = previsioni_totali\n",
    "print(A2)"
   ]
  },
  {
   "cell_type": "code",
   "execution_count": 19,
   "id": "dbd78dc0",
   "metadata": {},
   "outputs": [
    {
     "name": "stdout",
     "output_type": "stream",
     "text": [
      "Predictions: [-1 -1 -1 ... -1  1 -1]\n"
     ]
    }
   ],
   "source": [
    "#Train the weak learner : decision tree of max depth 2 \n",
    "weak_classifier = weak_learner(X_train, y_train,1)\n",
    "y_pred_weak = weak_classifier.predict(X_test)\n",
    "print(\"Predictions:\", y_pred_weak)"
   ]
  },
  {
   "cell_type": "code",
   "execution_count": 20,
   "id": "dcec2997",
   "metadata": {},
   "outputs": [],
   "source": [
    "#set d0\n",
    "m = X_train.shape[0]\n",
    "n = len(regole_matrice)\n",
    "d0 = np.zeros(m)\n",
    "for i in range(m):\n",
    "    d0[i] = 1/m \n",
    "#sendo d0 to the weak learner to obtain hj_1\n",
    "h= weak_learner(X_train,y_train,d0)\n",
    "hj_1 = h.tree_.threshold.reshape(-1, 1)\n"
   ]
  },
  {
   "cell_type": "code",
   "execution_count": 21,
   "id": "8b930789",
   "metadata": {},
   "outputs": [],
   "source": [
    "hj_1_index = np.argmax(hj_1)  # Find the index of the predicted hypothesis\n",
    "num_hypotheses = len(hj_1) # Total number of hypotheses in the set H\n",
    "ej1 = encode_hypothesis(hj_1_index, num_hypotheses, hj_1)"
   ]
  },
  {
   "cell_type": "code",
   "execution_count": 22,
   "id": "20c99dd2",
   "metadata": {},
   "outputs": [],
   "source": [
    "w = np.zeros(m,)\n",
    "w=ej1"
   ]
  },
  {
   "cell_type": "code",
   "execution_count": null,
   "id": "283ed564",
   "metadata": {},
   "outputs": [],
   "source": [
    "v = 100\n",
    "d, result = minimize_expression(A2, w, n, v)"
   ]
  },
  {
   "cell_type": "code",
   "execution_count": null,
   "id": "07e452d1",
   "metadata": {},
   "outputs": [],
   "source": [
    "#obtain the hypotesis hj t+1 \n",
    "h2= weak_learner(X_train,y_train,result)\n",
    "hj_2 = h2.tree_.threshold.reshape(-1, 1)"
   ]
  },
  {
   "cell_type": "code",
   "execution_count": null,
   "id": "ba995310",
   "metadata": {},
   "outputs": [],
   "source": [
    "hj_2_index = np.argmax(hj_2)  # Find the index of the predicted hypothesis\n",
    "num_hypotheses = len(hj_2)  # Total number of hypotheses in the set H\n",
    "\n",
    "ej2 = encode_hypothesis(hj_2_index, num_hypotheses, hj_2)"
   ]
  },
  {
   "cell_type": "code",
   "execution_count": null,
   "id": "6eefdf32",
   "metadata": {},
   "outputs": [],
   "source": [
    "print(hj_1)\n",
    "print(hj_2)\n",
    "print(ej1)\n",
    "print(ej2)"
   ]
  },
  {
   "cell_type": "code",
   "execution_count": null,
   "id": "3203afe9",
   "metadata": {},
   "outputs": [],
   "source": [
    "#compute the FW weight\n",
    "lamb= []\n",
    "value_0 = np.dot(A2, (ej2-w))\n",
    "print(\"value0 is: {}\".format(value_0))\n",
    "value_1 = np.dot(result.T, value_0)\n",
    "print(\"value1 is: {}\".format(value_1))\n",
    "value_2 = np.dot(A2, (ej2 - w))\n",
    "print(\"value2 is: {}\".format(value_2))\n",
    "value_3 = norm(value_2, ord=np.inf)\n",
    "print(\"value3 is: {}\".format(value_3))\n",
    "value = value_1 / value_3\n",
    "print(\"value is: {}\".format(value))\n",
    "lamb.insert(0, np.clip(value, 0, 1))\n",
    "print(\"lamb is: {}\".format(lamb))\n",
    "w_1= []\n",
    "r = (ej2 - w)\n",
    "print(\"r is: {}\".format(r))\n",
    "w_1 = w + (lamb*r)\n",
    "print(\"w_1 is: {}\".format(w_1))"
   ]
  },
  {
   "cell_type": "code",
   "execution_count": null,
   "id": "7ccde435",
   "metadata": {},
   "outputs": [],
   "source": [
    "E_t_plus_1 = [ej1, ej2]"
   ]
  },
  {
   "cell_type": "code",
   "execution_count": null,
   "id": "c8f167d7",
   "metadata": {},
   "outputs": [],
   "source": [
    "result_w, result_value = maximize_w_in_convex_hull(E_t_plus_1, A2, w)\n",
    "print(\"Vettore w ottimale:\", result_w)\n",
    "print(\"Valore massimo:\", result_value)"
   ]
  },
  {
   "cell_type": "code",
   "execution_count": null,
   "id": "57435a9b",
   "metadata": {},
   "outputs": [],
   "source": [
    "w_2 = result_w\n",
    "f_w = []\n",
    "f_w.insert(0, w_1)\n",
    "f_w.insert(1, w_2)\n",
    "f_w = [array.tolist() for array in f_w]"
   ]
  },
  {
   "cell_type": "code",
   "execution_count": null,
   "id": "44ce8c75",
   "metadata": {},
   "outputs": [],
   "source": [
    "best_w, v = update_weights(f_w)"
   ]
  },
  {
   "cell_type": "code",
   "execution_count": null,
   "id": "d5708101",
   "metadata": {},
   "outputs": [],
   "source": [
    "best_w"
   ]
  },
  {
   "cell_type": "code",
   "execution_count": null,
   "id": "4ca76372",
   "metadata": {},
   "outputs": [
    {
     "name": "stdout",
     "output_type": "stream",
     "text": [
      "The FW weight is: [0.         0.         0.         0.         0.56858416 0.\n",
      " 0.        ]\n",
      "The secondary weight is[0.        0.        0.        0.        0.5440678 0.        0.       ]\n"
     ]
    },
    {
     "name": "stderr",
     "output_type": "stream",
     "text": [
      "C:\\Users\\matteo posenato\\AppData\\Local\\Temp\\ipykernel_10860\\3156113329.py:25: RuntimeWarning: invalid value encountered in scalar divide\n",
      "  value = value_1 / value_3\n"
     ]
    },
    {
     "name": "stdout",
     "output_type": "stream",
     "text": [
      "The FW weight is: [nan nan nan nan nan nan nan]\n",
      "The secondary weight is[0.        0.        0.        0.        0.5440678 0.        0.       ]\n",
      "The FW weight is: [0.         0.         0.         0.         0.55043063 0.\n",
      " 0.        ]\n",
      "The secondary weight is[0.         0.         0.         0.         0.55762714 0.\n",
      " 0.        ]\n",
      "The FW weight is: [0.         0.         0.         0.         0.55043063 0.\n",
      " 0.        ]\n",
      "The secondary weight is[0.         0.         0.         0.         0.55762714 0.\n",
      " 0.        ]\n",
      "The FW weight is: [0.         0.         0.         0.         0.55043063 0.\n",
      " 0.        ]\n",
      "The secondary weight is[0.         0.         0.         0.         0.55762714 0.\n",
      " 0.        ]\n",
      "The FW weight is: [0.         0.         0.         0.         0.55043063 0.\n",
      " 0.        ]\n",
      "The secondary weight is[0.         0.         0.         0.         0.55762714 0.\n",
      " 0.        ]\n",
      "The FW weight is: [0.         0.         0.         0.         0.55043063 0.\n",
      " 0.        ]\n",
      "The secondary weight is[0.         0.         0.         0.         0.55762714 0.\n",
      " 0.        ]\n",
      "The FW weight is: [0.         0.         0.         0.         0.55043063 0.\n",
      " 0.        ]\n",
      "The secondary weight is[0.         0.         0.         0.         0.55762714 0.\n",
      " 0.        ]\n",
      "The FW weight is: [0.         0.         0.         0.         0.55043063 0.\n",
      " 0.        ]\n",
      "The secondary weight is[0.         0.         0.         0.         0.55762714 0.\n",
      " 0.        ]\n",
      "The FW weight is: [0.         0.         0.         0.         0.55043063 0.\n",
      " 0.        ]\n",
      "The secondary weight is[0.         0.         0.         0.         0.55762714 0.\n",
      " 0.        ]\n",
      "The FW weight is: [0.         0.         0.         0.         0.55043063 0.\n",
      " 0.        ]\n",
      "The secondary weight is[0.         0.         0.         0.         0.55762714 0.\n",
      " 0.        ]\n",
      "The FW weight is: [0.         0.         0.         0.         0.55043063 0.\n",
      " 0.        ]\n",
      "The secondary weight is[0.         0.         0.         0.         0.55762714 0.\n",
      " 0.        ]\n",
      "The FW weight is: [0.         0.         0.         0.         0.55043063 0.\n",
      " 0.        ]\n",
      "The secondary weight is[0.         0.         0.         0.         0.55762714 0.\n",
      " 0.        ]\n",
      "The FW weight is: [0.         0.         0.         0.         0.55796517 0.\n",
      " 0.        ]\n",
      "The secondary weight is[0.         0.         0.         0.         0.56610167 0.\n",
      " 0.        ]\n",
      "The FW weight is: [0.         0.         0.         0.         0.55796517 0.\n",
      " 0.        ]\n",
      "The secondary weight is[0.         0.         0.         0.         0.56610167 0.\n",
      " 0.        ]\n",
      "The FW weight is: [0.         0.         0.         0.         0.55796517 0.\n",
      " 0.        ]\n",
      "The secondary weight is[0.         0.         0.         0.         0.56610167 0.\n",
      " 0.        ]\n",
      "The FW weight is: [0.         0.         0.         0.         0.55796517 0.\n",
      " 0.        ]\n",
      "The secondary weight is[0.         0.         0.         0.         0.56610167 0.\n",
      " 0.        ]\n",
      "The FW weight is: [0.         0.         0.         0.         0.55796517 0.\n",
      " 0.        ]\n",
      "The secondary weight is[0.         0.         0.         0.         0.56610167 0.\n",
      " 0.        ]\n",
      "The FW weight is: [0.         0.         0.         0.         0.55796517 0.\n",
      " 0.        ]\n",
      "The secondary weight is[0.         0.         0.         0.         0.56610167 0.\n",
      " 0.        ]\n",
      "The FW weight is: [0.         0.         0.         0.         0.55796517 0.\n",
      " 0.        ]\n",
      "The secondary weight is[0.         0.         0.         0.         0.56610167 0.\n",
      " 0.        ]\n",
      "The FW weight is: [0.         0.         0.         0.         0.55796517 0.\n",
      " 0.        ]\n",
      "The secondary weight is[0.         0.         0.         0.         0.56610167 0.\n",
      " 0.        ]\n",
      "The FW weight is: [0.         0.         0.         0.         0.55796517 0.\n",
      " 0.        ]\n",
      "The secondary weight is[0.         0.         0.         0.         0.56610167 0.\n",
      " 0.        ]\n",
      "The FW weight is: [0.         0.         0.         0.         0.55796517 0.\n",
      " 0.        ]\n",
      "The secondary weight is[0.         0.         0.         0.         0.56610167 0.\n",
      " 0.        ]\n",
      "The FW weight is: [0.         0.         0.         0.         0.57031461 0.\n",
      " 0.        ]\n",
      "The secondary weight is[0.         0.         0.         0.         0.58305085 0.\n",
      " 0.        ]\n",
      "The FW weight is: [0.         0.         0.         0.         0.57031461 0.\n",
      " 0.        ]\n",
      "The secondary weight is[0.         0.         0.         0.         0.58305085 0.\n",
      " 0.        ]\n",
      "The FW weight is: [0.         0.         0.         0.         0.57031461 0.\n",
      " 0.        ]\n",
      "The secondary weight is[0.         0.         0.         0.         0.58305085 0.\n",
      " 0.        ]\n",
      "The FW weight is: [0.         0.         0.         0.         0.57031461 0.\n",
      " 0.        ]\n",
      "The secondary weight is[0.         0.         0.         0.         0.58305085 0.\n",
      " 0.        ]\n",
      "The FW weight is: [0.         0.         0.         0.         0.57031461 0.\n",
      " 0.        ]\n",
      "The secondary weight is[0.         0.         0.         0.         0.58305085 0.\n",
      " 0.        ]\n",
      "The FW weight is: [0.         0.         0.         0.         0.57031461 0.\n",
      " 0.        ]\n",
      "The secondary weight is[0.         0.         0.         0.         0.58305085 0.\n",
      " 0.        ]\n",
      "The FW weight is: [0.        0.        0.        0.        0.5731776 0.        0.       ]\n",
      "The secondary weight is[0.         0.         0.         0.         0.58305085 0.\n",
      " 0.        ]\n",
      "The FW weight is: [0.        0.        0.        0.        0.5731776 0.        0.       ]\n",
      "The secondary weight is[0.         0.         0.         0.         0.58305085 0.\n",
      " 0.        ]\n",
      "The FW weight is: [0.        0.        0.        0.        0.5731776 0.        0.       ]\n",
      "The secondary weight is[0.         0.         0.         0.         0.58305085 0.\n",
      " 0.        ]\n",
      "The FW weight is: [0.        0.        0.        0.        0.5731776 0.        0.       ]\n",
      "The secondary weight is[0.         0.         0.         0.         0.58305085 0.\n",
      " 0.        ]\n",
      "The FW weight is: [0.        0.        0.        0.        0.5731776 0.        0.       ]\n",
      "The secondary weight is[0.         0.         0.         0.         0.58305085 0.\n",
      " 0.        ]\n",
      "The FW weight is: [0.        0.        0.        0.        0.5731776 0.        0.       ]\n",
      "The secondary weight is[0.         0.         0.         0.         0.58305085 0.\n",
      " 0.        ]\n",
      "The FW weight is: [0.        0.        0.        0.        0.5731776 0.        0.       ]\n",
      "The secondary weight is[0.         0.         0.         0.         0.58305085 0.\n",
      " 0.        ]\n",
      "The FW weight is: [0.        0.        0.        0.        0.5731776 0.        0.       ]\n",
      "The secondary weight is[0.         0.         0.         0.         0.58305085 0.\n",
      " 0.        ]\n",
      "The FW weight is: [0.        0.        0.        0.        0.5731776 0.        0.       ]\n",
      "The secondary weight is[0.         0.         0.         0.         0.58305085 0.\n",
      " 0.        ]\n",
      "The FW weight is: [0.         0.         0.         0.         0.57467377 0.\n",
      " 0.        ]\n",
      "The secondary weight is[0.         0.         0.         0.         0.58305085 0.\n",
      " 0.        ]\n",
      "The FW weight is: [0.         0.         0.         0.         0.57467377 0.\n",
      " 0.        ]\n",
      "The secondary weight is[0.         0.         0.         0.         0.58305085 0.\n",
      " 0.        ]\n",
      "The FW weight is: [0.         0.         0.         0.         0.57467377 0.\n",
      " 0.        ]\n",
      "The secondary weight is[0.         0.         0.         0.         0.58305085 0.\n",
      " 0.        ]\n",
      "The FW weight is: [0.         0.         0.         0.         0.57467377 0.\n",
      " 0.        ]\n",
      "The secondary weight is[0.         0.         0.         0.         0.58305085 0.\n",
      " 0.        ]\n",
      "The FW weight is: [0.         0.         0.         0.         0.57467377 0.\n",
      " 0.        ]\n"
     ]
    }
   ],
   "source": [
    "#set v, T parameters\n",
    "v = 100\n",
    "T = 100\n",
    "#create all the variables that we need\n",
    "E_t = []\n",
    "E_t_plus_1 = [ej1]\n",
    "lamb = []\n",
    "lamb.insert(0, np.zeros(m))\n",
    "for t in range(1, T):\n",
    "    print(\"iteration number:{}\".format(t))\n",
    "    #create the distribution d_t\n",
    "    d, result = minimize_expression(A2, w, n, v)\n",
    "    #obtain the hypothesis h_j+1 and e_j+1\n",
    "    h2= weak_learner(X_train,y_train,result)\n",
    "    hj_2 = h2.tree_.threshold.reshape(-1, 1)  # Total number of hypotheses in the set H\n",
    "    hj_2_index = np.argmax(hj_2)  # Find the index of the predicted hypothesis\n",
    "    num_hypotheses = len(hj_2)  # Total number of hypotheses in the set H\n",
    "    ej2 = encode_hypothesis(hj_2_index, num_hypotheses, hj_2)\n",
    "    E_t_plus_1.insert(t, ej2)\n",
    "    #compute the FW weight\n",
    "    lamb= []\n",
    "    value_0 = np.dot(A2, (ej2 - w))\n",
    "    value_1 = np.dot(result.T, value_0)\n",
    "    value_2 = np.dot(A2, (ej2 - w))\n",
    "    value_3 = norm(value_2, ord=np.inf)\n",
    "    value = value_1 / value_3\n",
    "    lamb.insert(0, np.clip(value, 0, 1))\n",
    "    w_1= []\n",
    "    r = (ej2 - w)\n",
    "    w_1 = w + (lamb*r)\n",
    "    print(\"The FW weight is: {}\".format(w_1))\n",
    "    result_w, result_value = maximize_w_in_convex_hull(E_t_plus_1, A2, w)\n",
    "    w_2 = result_w\n",
    "    print(\"The secondary weight is{}\".format(w_2))\n",
    "    f_w = []\n",
    "    f_w.insert(0, w_1)\n",
    "    f_w.insert(1, w_2)\n",
    "    f_w = [array.tolist() for array in f_w]\n",
    "    best_w, v = update_weights(f_w)\n",
    "    w = best_w"
   ]
  },
  {
   "cell_type": "code",
   "execution_count": null,
   "id": "e341fad0",
   "metadata": {},
   "outputs": [],
   "source": []
  }
 ],
 "metadata": {
  "kernelspec": {
   "display_name": "Python 3 (ipykernel)",
   "language": "python",
   "name": "python3"
  },
  "language_info": {
   "codemirror_mode": {
    "name": "ipython",
    "version": 3
   },
   "file_extension": ".py",
   "mimetype": "text/x-python",
   "name": "python",
   "nbconvert_exporter": "python",
   "pygments_lexer": "ipython3",
   "version": "3.10.9"
  }
 },
 "nbformat": 4,
 "nbformat_minor": 5
}
